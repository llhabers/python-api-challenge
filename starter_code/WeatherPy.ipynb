{
 "cells": [
  {
   "cell_type": "markdown",
   "metadata": {},
   "source": [
    "# WeatherPy\n",
    "----\n",
    "\n",
    "#### Note\n",
    "* Instructions have been included for each segment. You do not have to follow them exactly, but they are included to help you think through the steps."
   ]
  },
  {
   "cell_type": "code",
   "execution_count": 2,
   "metadata": {
    "scrolled": true
   },
   "outputs": [],
   "source": [
    "# Dependencies and Setup\n",
    "import matplotlib.pyplot as plt\n",
    "import pandas as pd\n",
    "import numpy as np\n",
    "import requests\n",
    "import time\n",
    "from scipy.stats import linregress\n",
    "import scipy.stats as st\n",
    "\n",
    "# Import API key\n",
    "from api_key import weather_api_key\n",
    "\n",
    "# Incorporated citipy to determine city based on latitude and longitude\n",
    "from citipy import citipy\n",
    "\n",
    "# Output File (CSV)\n",
    "output_data_file = \"output_data/cities.csv\"\n",
    "\n",
    "# Range of latitudes and longitudes\n",
    "lat_range = (-90, 90)\n",
    "lng_range = (-180, 180)"
   ]
  },
  {
   "cell_type": "markdown",
   "metadata": {},
   "source": [
    "## Generate Cities List"
   ]
  },
  {
   "cell_type": "code",
   "execution_count": 3,
   "metadata": {},
   "outputs": [
    {
     "data": {
      "text/plain": [
       "612"
      ]
     },
     "execution_count": 3,
     "metadata": {},
     "output_type": "execute_result"
    }
   ],
   "source": [
    "# List for holding lat_lngs and cities\n",
    "lat_lngs = []\n",
    "cities = []\n",
    "\n",
    "# Create a set of random lat and lng combinations\n",
    "lats = np.random.uniform(lat_range[0], lat_range[1], size=1500)\n",
    "lngs = np.random.uniform(lng_range[0], lng_range[1], size=1500)\n",
    "lat_lngs = zip(lats, lngs)\n",
    "\n",
    "# Identify nearest city for each lat, lng combination\n",
    "for lat_lng in lat_lngs:\n",
    "    city = citipy.nearest_city(lat_lng[0], lat_lng[1]).city_name\n",
    "    \n",
    "    # If the city is unique, then add it to a our cities list\n",
    "    if city not in cities:\n",
    "        cities.append(city)\n",
    "\n",
    "# Print the city count to confirm sufficient count\n",
    "len(cities)"
   ]
  },
  {
   "cell_type": "markdown",
   "metadata": {},
   "source": [
    "### Perform API Calls\n",
    "* Perform a weather check on each city using a series of successive API calls.\n",
    "* Include a print log of each city as it'sbeing processed (with the city number and city name).\n"
   ]
  },
  {
   "cell_type": "code",
   "execution_count": 4,
   "metadata": {},
   "outputs": [
    {
     "name": "stdout",
     "output_type": "stream",
     "text": [
      "Beginning Data Retrieval\n",
      "------------------------------\n",
      "processing record 1 | poum\n",
      "processing record 2 | beringovskiy\n",
      "processing record 3 | bambous virieux\n",
      "processing record 4 | hithadhoo\n",
      "processing record 5 | bilibino\n",
      "processing record 6 | chokurdakh\n",
      "processing record 7 | busselton\n",
      "processing record 8 | hovd\n",
      "processing record 9 | ribeira grande\n",
      "processing record 10 | rikitea\n",
      "processing record 11 | kryve ozero\n",
      "processing record 12 | svetlaya\n",
      "processing record 13 | hobart\n",
      "processing record 14 | ushuaia\n",
      "processing record 15 | hermanus\n",
      "processing record 16 | new norfolk\n",
      "processing record 17 | abadan\n",
      "processing record 18 | sola\n",
      "processing record 19 | portland\n",
      "processing record 20 | tuktoyaktuk\n",
      "processing record 21 | hilo\n",
      "processing record 22 | boralday\n",
      "processing record 23 | san patricio\n",
      "city not found, skipping to next!\n",
      "city not found, skipping to next!\n",
      "processing record 24 | saskylakh\n",
      "processing record 25 | novotroitskaya\n",
      "processing record 26 | denizli\n",
      "processing record 27 | skelleftea\n",
      "processing record 28 | kamaishi\n",
      "processing record 29 | nikolskoye\n",
      "processing record 30 | ponta do sol\n",
      "processing record 31 | isangel\n",
      "processing record 32 | borazjan\n",
      "processing record 33 | bluff\n",
      "processing record 34 | kathu\n",
      "processing record 35 | lompoc\n",
      "city not found, skipping to next!\n",
      "processing record 36 | vaini\n",
      "processing record 37 | meadow lake\n",
      "processing record 38 | avarua\n",
      "processing record 39 | waipawa\n",
      "processing record 40 | ise\n",
      "processing record 41 | lebu\n",
      "processing record 42 | sibolga\n",
      "processing record 43 | kotma\n",
      "processing record 44 | la ronge\n",
      "processing record 45 | georgetown\n",
      "processing record 46 | jamestown\n",
      "processing record 47 | susanville\n",
      "city not found, skipping to next!\n",
      "processing record 48 | east london\n",
      "processing record 49 | ola\n",
      "processing record 50 | barrow\n",
      "processing record 51 | ekhabi\n",
      "processing record 52 | plettenberg bay\n",
      "processing record 53 | ilulissat\n",
      "processing record 54 | airai\n",
      "processing record 55 | ambon\n",
      "processing record 56 | albany\n",
      "processing record 57 | cabo san lucas\n",
      "processing record 58 | olafsvik\n",
      "processing record 59 | henties bay\n",
      "processing record 60 | coquimbo\n",
      "processing record 61 | kapaa\n",
      "processing record 62 | kozhva\n",
      "processing record 63 | manaure\n",
      "processing record 64 | tasiilaq\n",
      "processing record 65 | bombay\n",
      "processing record 66 | bubaque\n",
      "processing record 67 | herat\n",
      "processing record 68 | mataura\n",
      "processing record 69 | punta arenas\n",
      "processing record 70 | dingle\n",
      "processing record 71 | manokwari\n",
      "processing record 72 | port elizabeth\n",
      "processing record 73 | bauchi\n",
      "processing record 74 | sitka\n",
      "processing record 75 | fortuna\n",
      "processing record 76 | kruisfontein\n",
      "processing record 77 | chuy\n",
      "processing record 78 | sayat\n",
      "processing record 79 | cherskiy\n",
      "processing record 80 | itupiranga\n",
      "processing record 81 | cockburn town\n",
      "processing record 82 | rosendal\n",
      "processing record 83 | souillac\n",
      "processing record 84 | korla\n",
      "processing record 85 | bethel\n",
      "processing record 86 | luganville\n",
      "processing record 87 | sabang\n",
      "processing record 88 | mao\n",
      "processing record 89 | butaritari\n",
      "processing record 90 | baykit\n",
      "processing record 91 | fare\n",
      "processing record 92 | ostrovnoy\n",
      "processing record 93 | bengkulu\n",
      "processing record 94 | dudinka\n",
      "processing record 95 | padang\n",
      "processing record 96 | cape town\n",
      "processing record 97 | bilma\n",
      "city not found, skipping to next!\n",
      "processing record 98 | mar del plata\n",
      "city not found, skipping to next!\n",
      "city not found, skipping to next!\n",
      "processing record 99 | namtsy\n",
      "processing record 100 | youghal\n",
      "processing record 101 | soyo\n",
      "processing record 102 | bonavista\n",
      "processing record 103 | ati\n",
      "processing record 104 | hailar\n",
      "processing record 105 | salekhard\n",
      "city not found, skipping to next!\n",
      "processing record 106 | carballo\n",
      "processing record 107 | carnarvon\n",
      "processing record 108 | pandan\n",
      "processing record 109 | mehamn\n",
      "processing record 110 | lahr\n",
      "city not found, skipping to next!\n",
      "processing record 111 | port alfred\n",
      "processing record 112 | broome\n",
      "processing record 113 | huarmey\n",
      "city not found, skipping to next!\n",
      "processing record 114 | luwuk\n",
      "processing record 115 | koslan\n",
      "processing record 116 | talnakh\n",
      "city not found, skipping to next!\n",
      "processing record 117 | opuwo\n",
      "processing record 118 | sao filipe\n",
      "processing record 119 | seoul\n",
      "processing record 120 | kailua\n",
      "processing record 121 | yellowknife\n",
      "processing record 122 | tambura\n",
      "processing record 123 | lazaro cardenas\n",
      "processing record 124 | qaanaaq\n",
      "processing record 125 | upernavik\n",
      "processing record 126 | jalor\n",
      "processing record 127 | kalaleh\n",
      "processing record 128 | guerrero negro\n",
      "processing record 129 | ilebo\n",
      "city not found, skipping to next!\n",
      "processing record 130 | faanui\n",
      "processing record 131 | atuona\n",
      "processing record 132 | pangnirtung\n",
      "processing record 133 | obigarm\n",
      "city not found, skipping to next!\n",
      "city not found, skipping to next!\n",
      "processing record 134 | anadyr\n",
      "processing record 135 | port hardy\n",
      "processing record 136 | narsaq\n",
      "processing record 137 | helong\n",
      "processing record 138 | vao\n",
      "processing record 139 | hasaki\n",
      "processing record 140 | gannan\n",
      "processing record 141 | gigmoto\n",
      "processing record 142 | pisco\n",
      "processing record 143 | dikson\n",
      "processing record 144 | muravlenko\n",
      "processing record 145 | picayune\n",
      "processing record 146 | alice springs\n",
      "city not found, skipping to next!\n",
      "processing record 147 | teknaf\n",
      "processing record 148 | grande prairie\n",
      "processing record 149 | el sauzal\n",
      "city not found, skipping to next!\n",
      "processing record 150 | bharatpur\n",
      "processing record 151 | shakawe\n",
      "processing record 152 | cayenne\n",
      "processing record 153 | porto novo\n",
      "processing record 154 | tungor\n",
      "processing record 155 | kodiak\n",
      "processing record 156 | cidreira\n",
      "processing record 157 | nanortalik\n",
      "processing record 158 | taltal\n",
      "processing record 159 | mahebourg\n",
      "processing record 160 | thompson\n",
      "processing record 161 | puerto ayora\n",
      "processing record 162 | vaitape\n",
      "processing record 163 | tahta\n",
      "processing record 164 | khash\n",
      "processing record 165 | torbay\n",
      "city not found, skipping to next!\n",
      "processing record 166 | salalah\n",
      "processing record 167 | lorengau\n",
      "processing record 168 | brae\n",
      "processing record 169 | lata\n",
      "processing record 170 | mahon\n",
      "processing record 171 | khatanga\n",
      "processing record 172 | zitsa\n",
      "processing record 173 | altagracia de orituco\n",
      "processing record 174 | mattru\n",
      "processing record 175 | conceicao do araguaia\n",
      "processing record 176 | iquique\n",
      "processing record 177 | tuy hoa\n",
      "processing record 178 | borovoy\n",
      "processing record 179 | saint-philippe\n",
      "processing record 180 | ubaira\n",
      "processing record 181 | agidel\n",
      "processing record 182 | castro\n",
      "processing record 183 | norman wells\n",
      "processing record 184 | arlit\n",
      "processing record 185 | russell\n",
      "processing record 186 | lima\n",
      "processing record 187 | guliston\n",
      "processing record 188 | kushiro\n",
      "processing record 189 | maceio\n",
      "processing record 190 | kidal\n",
      "processing record 191 | the valley\n",
      "processing record 192 | harboore\n",
      "processing record 193 | churapcha\n",
      "processing record 194 | axim\n",
      "processing record 195 | garowe\n",
      "processing record 196 | mareeba\n",
      "processing record 197 | kjollefjord\n",
      "processing record 198 | port lincoln\n",
      "processing record 199 | oxapampa\n",
      "processing record 200 | dembi dolo\n",
      "processing record 201 | saint-augustin\n",
      "processing record 202 | yaqui\n",
      "processing record 203 | ous\n",
      "processing record 204 | miles city\n",
      "processing record 205 | high level\n",
      "city not found, skipping to next!\n",
      "processing record 206 | kavaratti\n",
      "processing record 207 | longyearbyen\n",
      "processing record 208 | christchurch\n",
      "processing record 209 | nome\n",
      "processing record 210 | mexico\n",
      "processing record 211 | kizhinga\n",
      "processing record 212 | beipiao\n",
      "processing record 213 | pochutla\n",
      "processing record 214 | lagoa\n",
      "processing record 215 | dhidhdhoo\n",
      "processing record 216 | micheweni\n",
      "processing record 217 | price\n",
      "processing record 218 | road town\n",
      "city not found, skipping to next!\n",
      "processing record 219 | alekseyevka\n",
      "processing record 220 | provideniya\n",
      "processing record 221 | berlevag\n",
      "processing record 222 | magistralnyy\n",
      "processing record 223 | paita\n",
      "city not found, skipping to next!\n",
      "processing record 224 | takoradi\n",
      "processing record 225 | huntsville\n",
      "processing record 226 | kuryk\n",
      "processing record 227 | faya\n",
      "processing record 228 | gurupa\n",
      "processing record 229 | naze\n",
      "processing record 230 | vila praia de ancora\n",
      "processing record 231 | pevek\n"
     ]
    },
    {
     "name": "stdout",
     "output_type": "stream",
     "text": [
      "processing record 232 | clyde river\n",
      "city not found, skipping to next!\n",
      "processing record 233 | san luis\n",
      "processing record 234 | shelburne\n",
      "processing record 235 | englewood\n",
      "processing record 236 | mtinko\n",
      "processing record 237 | edson\n",
      "processing record 238 | wladyslawowo\n",
      "processing record 239 | trairi\n",
      "processing record 240 | mitu\n",
      "processing record 241 | wynyard\n",
      "processing record 242 | iqaluit\n",
      "processing record 243 | mollendo\n",
      "processing record 244 | virovitica\n",
      "processing record 245 | yerbogachen\n",
      "processing record 246 | praia da vitoria\n",
      "processing record 247 | jian\n",
      "processing record 248 | kriel\n",
      "processing record 249 | nyurba\n",
      "processing record 250 | katsuura\n",
      "processing record 251 | melo\n",
      "processing record 252 | xuddur\n",
      "processing record 253 | kuusamo\n",
      "city not found, skipping to next!\n",
      "processing record 254 | camopi\n",
      "processing record 255 | saint john\n",
      "processing record 256 | shaoxing\n",
      "city not found, skipping to next!\n",
      "processing record 257 | batagay-alyta\n",
      "processing record 258 | vila velha\n",
      "processing record 259 | senneterre\n",
      "processing record 260 | kaitong\n",
      "processing record 261 | tabas\n",
      "processing record 262 | taoudenni\n",
      "processing record 263 | heinola\n",
      "processing record 264 | terrace\n",
      "processing record 265 | camacha\n",
      "processing record 266 | general roca\n",
      "processing record 267 | kaitangata\n",
      "processing record 268 | havre-saint-pierre\n",
      "processing record 269 | ende\n",
      "processing record 270 | aplahoue\n",
      "processing record 271 | yuli\n",
      "processing record 272 | pierre\n",
      "processing record 273 | karratha\n",
      "processing record 274 | mwadui\n",
      "processing record 275 | saint george\n",
      "processing record 276 | esperance\n",
      "processing record 277 | burgeo\n",
      "processing record 278 | bredasdorp\n",
      "processing record 279 | bredy\n",
      "processing record 280 | upata\n",
      "processing record 281 | banda aceh\n",
      "processing record 282 | saint-joseph\n",
      "processing record 283 | meulaboh\n",
      "city not found, skipping to next!\n",
      "processing record 284 | port blair\n",
      "processing record 285 | cimarron hills\n",
      "city not found, skipping to next!\n",
      "processing record 286 | coihueco\n",
      "processing record 287 | linjiang\n",
      "city not found, skipping to next!\n",
      "city not found, skipping to next!\n",
      "processing record 288 | santa ines\n",
      "processing record 289 | arraial do cabo\n",
      "processing record 290 | sharlyk\n",
      "processing record 291 | tiksi\n",
      "processing record 292 | victoria\n",
      "processing record 293 | mathbaria\n",
      "processing record 294 | northam\n",
      "processing record 295 | ngama\n",
      "processing record 296 | ryde\n",
      "city not found, skipping to next!\n",
      "processing record 297 | udimskiy\n",
      "processing record 298 | irondequoit\n",
      "processing record 299 | ndioum\n",
      "processing record 300 | meridian\n",
      "processing record 301 | aykhal\n",
      "processing record 302 | kongoussi\n",
      "processing record 303 | jeremoabo\n",
      "processing record 304 | geraldton\n",
      "processing record 305 | lishan\n",
      "processing record 306 | nanuque\n",
      "processing record 307 | alyangula\n",
      "processing record 308 | tukrah\n",
      "processing record 309 | mayor pablo lagerenza\n",
      "processing record 310 | constitucion\n",
      "processing record 311 | naryan-mar\n",
      "processing record 312 | minab\n",
      "processing record 313 | alugan\n",
      "processing record 314 | krasnoselkup\n",
      "processing record 315 | mayo\n",
      "processing record 316 | mukhen\n",
      "processing record 317 | dunedin\n",
      "processing record 318 | nurlat\n",
      "processing record 319 | velikodvorskiy\n",
      "processing record 320 | lashio\n",
      "city not found, skipping to next!\n",
      "processing record 321 | auki\n",
      "processing record 322 | vega de alatorre\n",
      "city not found, skipping to next!\n",
      "processing record 323 | fort nelson\n",
      "processing record 324 | marawi\n",
      "processing record 325 | myitkyina\n",
      "city not found, skipping to next!\n",
      "processing record 326 | leh\n",
      "processing record 327 | adrar\n",
      "processing record 328 | uppsala\n",
      "processing record 329 | bose\n",
      "processing record 330 | goderich\n",
      "processing record 331 | mount isa\n",
      "processing record 332 | griffith\n",
      "processing record 333 | martapura\n",
      "processing record 334 | muros\n",
      "city not found, skipping to next!\n",
      "processing record 335 | yar-sale\n",
      "processing record 336 | sladna\n",
      "processing record 337 | bandarbeyla\n",
      "processing record 338 | laguna\n",
      "processing record 339 | bayir\n",
      "processing record 340 | darnah\n",
      "processing record 341 | aripuana\n",
      "processing record 342 | bosaso\n",
      "processing record 343 | oranjemund\n",
      "processing record 344 | karasburg\n",
      "city not found, skipping to next!\n",
      "processing record 345 | muroto\n",
      "processing record 346 | moroni\n",
      "processing record 347 | alofi\n",
      "processing record 348 | la primavera\n",
      "processing record 349 | svetlyy\n",
      "processing record 350 | richards bay\n",
      "processing record 351 | basti\n",
      "processing record 352 | atikokan\n",
      "processing record 353 | bara\n",
      "processing record 354 | dordrecht\n",
      "processing record 355 | shar\n",
      "processing record 356 | bardiyah\n",
      "processing record 357 | moyobamba\n",
      "processing record 358 | acaponeta\n",
      "processing record 359 | ponta delgada\n",
      "processing record 360 | parung\n",
      "processing record 361 | labuhan\n",
      "processing record 362 | ukiah\n",
      "processing record 363 | avera\n",
      "processing record 364 | inhambane\n",
      "processing record 365 | turukhansk\n",
      "processing record 366 | ginir\n",
      "processing record 367 | harlingen\n",
      "processing record 368 | sydney mines\n",
      "processing record 369 | maridi\n",
      "city not found, skipping to next!\n",
      "city not found, skipping to next!\n",
      "processing record 370 | jurado\n",
      "processing record 371 | comerio\n",
      "processing record 372 | killybegs\n",
      "processing record 373 | asbe teferi\n",
      "processing record 374 | codrington\n",
      "processing record 375 | ayan\n",
      "processing record 376 | chapais\n",
      "processing record 377 | alta floresta\n",
      "processing record 378 | orlik\n",
      "processing record 379 | asau\n",
      "processing record 380 | hay river\n",
      "processing record 381 | san-pedro\n",
      "processing record 382 | canutama\n",
      "city not found, skipping to next!\n",
      "processing record 383 | baruun-urt\n",
      "processing record 384 | namibe\n",
      "processing record 385 | abu kamal\n",
      "processing record 386 | stepnyak\n",
      "processing record 387 | ceyhan\n",
      "processing record 388 | katubao\n",
      "processing record 389 | melendugno\n",
      "processing record 390 | iskateley\n",
      "processing record 391 | adelaide\n",
      "processing record 392 | levittown\n",
      "processing record 393 | nantucket\n",
      "processing record 394 | leningradskiy\n",
      "processing record 395 | huambo\n",
      "processing record 396 | denpasar\n",
      "processing record 397 | kabare\n",
      "processing record 398 | bambanglipuro\n",
      "processing record 399 | pasighat\n",
      "processing record 400 | milkovo\n",
      "processing record 401 | mayya\n",
      "processing record 402 | samoded\n",
      "processing record 403 | lida\n",
      "processing record 404 | trelleborg\n",
      "processing record 405 | buraydah\n",
      "processing record 406 | sorland\n",
      "processing record 407 | esna\n",
      "processing record 408 | bonwapitse\n",
      "processing record 409 | sapa\n",
      "processing record 410 | venice\n",
      "processing record 411 | maun\n",
      "processing record 412 | aksu\n",
      "processing record 413 | loiza\n",
      "processing record 414 | salaya\n",
      "processing record 415 | abha\n",
      "processing record 416 | egvekinot\n",
      "processing record 417 | nelson bay\n",
      "processing record 418 | nishihara\n",
      "processing record 419 | darhan\n",
      "processing record 420 | caraquet\n",
      "processing record 421 | husavik\n",
      "processing record 422 | san alberto\n",
      "processing record 423 | acapulco\n",
      "processing record 424 | terrak\n",
      "processing record 425 | ust-tsilma\n",
      "processing record 426 | sturgeon bay\n",
      "processing record 427 | san quintin\n",
      "processing record 428 | medea\n",
      "city not found, skipping to next!\n",
      "processing record 429 | taman\n",
      "processing record 430 | pitimbu\n",
      "processing record 431 | vestmannaeyjar\n",
      "processing record 432 | guiratinga\n",
      "processing record 433 | ocos\n",
      "processing record 434 | saldanha\n",
      "processing record 435 | mackay\n",
      "processing record 436 | dafeng\n",
      "processing record 437 | port augusta\n",
      "processing record 438 | banjar\n",
      "processing record 439 | edd\n",
      "processing record 440 | itoman\n",
      "processing record 441 | pacific grove\n",
      "city not found, skipping to next!\n",
      "processing record 442 | bairiki\n",
      "processing record 443 | saint-paul-les-dax\n",
      "processing record 444 | mount gambier\n",
      "processing record 445 | lucapa\n",
      "city not found, skipping to next!\n",
      "processing record 446 | tilichiki\n",
      "processing record 447 | heze\n",
      "processing record 448 | flinders\n",
      "processing record 449 | fairbanks\n",
      "processing record 450 | kudahuvadhoo\n",
      "processing record 451 | winnemucca\n",
      "processing record 452 | puerto asis\n",
      "processing record 453 | tuatapere\n",
      "processing record 454 | gravdal\n",
      "city not found, skipping to next!\n",
      "processing record 455 | twentynine palms\n",
      "city not found, skipping to next!\n",
      "processing record 456 | severo-kurilsk\n",
      "processing record 457 | shamkhal\n",
      "processing record 458 | palu\n"
     ]
    },
    {
     "name": "stdout",
     "output_type": "stream",
     "text": [
      "processing record 459 | touros\n",
      "processing record 460 | katangli\n",
      "processing record 461 | lensk\n",
      "processing record 462 | ozinki\n",
      "processing record 463 | gaya\n",
      "processing record 464 | akyab\n",
      "processing record 465 | talaya\n",
      "processing record 466 | tautira\n",
      "processing record 467 | klaksvik\n",
      "processing record 468 | rio grande\n",
      "processing record 469 | necochea\n",
      "processing record 470 | vrangel\n",
      "processing record 471 | najran\n",
      "processing record 472 | snasa\n",
      "processing record 473 | agirish\n",
      "processing record 474 | sechura\n",
      "processing record 475 | soto la marina\n",
      "processing record 476 | suez\n",
      "processing record 477 | eureka\n",
      "processing record 478 | yumen\n",
      "processing record 479 | marsaxlokk\n",
      "processing record 480 | kirakira\n",
      "processing record 481 | vostok\n",
      "processing record 482 | severobaykalsk\n",
      "processing record 483 | linares\n",
      "processing record 484 | turochak\n",
      "processing record 485 | waitati\n",
      "processing record 486 | dauriya\n",
      "processing record 487 | pitea\n",
      "processing record 488 | menongue\n",
      "processing record 489 | prata\n",
      "processing record 490 | dire\n",
      "city not found, skipping to next!\n",
      "processing record 491 | atambua\n",
      "processing record 492 | umba\n",
      "processing record 493 | silleda\n",
      "processing record 494 | calhoun\n",
      "processing record 495 | port hawkesbury\n",
      "processing record 496 | marquette\n",
      "processing record 497 | novikovo\n",
      "processing record 498 | morondava\n",
      "processing record 499 | hami\n",
      "processing record 500 | quatre cocos\n",
      "processing record 501 | flin flon\n",
      "processing record 502 | toora-khem\n",
      "processing record 503 | halifax\n",
      "processing record 504 | irpa irpa\n",
      "processing record 505 | fangshan\n",
      "processing record 506 | olinda\n",
      "processing record 507 | mantsala\n",
      "processing record 508 | lander\n",
      "processing record 509 | nushki\n",
      "processing record 510 | palmer\n",
      "processing record 511 | kotovo\n",
      "city not found, skipping to next!\n",
      "processing record 512 | walvis bay\n",
      "processing record 513 | mabay\n",
      "processing record 514 | comodoro rivadavia\n",
      "processing record 515 | moron\n",
      "processing record 516 | port-gentil\n",
      "processing record 517 | nabire\n",
      "processing record 518 | ahipara\n",
      "processing record 519 | theunissen\n",
      "city not found, skipping to next!\n",
      "processing record 520 | port-cartier\n",
      "processing record 521 | maragogi\n",
      "processing record 522 | sao goncalo\n",
      "processing record 523 | kartuzy\n",
      "processing record 524 | teguise\n",
      "processing record 525 | amapa\n",
      "processing record 526 | boyolangu\n",
      "processing record 527 | barra do garcas\n",
      "city not found, skipping to next!\n",
      "processing record 528 | preston\n",
      "processing record 529 | lismore\n",
      "processing record 530 | mattawa\n",
      "processing record 531 | kaliua\n",
      "processing record 532 | zholymbet\n",
      "city not found, skipping to next!\n",
      "processing record 533 | bjerkvik\n",
      "processing record 534 | nauta\n",
      "processing record 535 | kapit\n",
      "processing record 536 | san cristobal\n",
      "processing record 537 | gravelbourg\n",
      "processing record 538 | gorontalo\n",
      "processing record 539 | chachapoyas\n",
      "processing record 540 | charters towers\n",
      "processing record 541 | coihaique\n",
      "processing record 542 | macusani\n",
      "processing record 543 | edgewater\n",
      "processing record 544 | kovdor\n",
      "processing record 545 | keti bandar\n",
      "processing record 546 | houlton\n",
      "processing record 547 | arman\n",
      "processing record 548 | osa\n",
      "processing record 549 | abu samrah\n",
      "processing record 550 | hokitika\n",
      "processing record 551 | aitape\n",
      "processing record 552 | riyadh\n",
      "processing record 553 | kokopo\n",
      "processing record 554 | tatawin\n",
      "processing record 555 | liverpool\n",
      "processing record 556 | kahului\n",
      "city not found, skipping to next!\n",
      "processing record 557 | yulara\n",
      "processing record 558 | usinsk\n",
      "processing record 559 | at-bashi\n",
      "processing record 560 | feldkirchen an der donau\n",
      "processing record 561 | ust-kuyga\n",
      "processing record 562 | batemans bay\n",
      "processing record 563 | okhotsk\n",
      "processing record 564 | mujiayingzi\n",
      "processing record 565 | gat\n"
     ]
    }
   ],
   "source": [
    "city = []\n",
    "lat = []\n",
    "lng = []\n",
    "max_temp = []\n",
    "humidity = []\n",
    "cloudiness = []\n",
    "wind_speed = []\n",
    "country = []\n",
    "date = []\n",
    "\n",
    "records = 1\n",
    "\n",
    "print('Beginning Data Retrieval')\n",
    "print('------------------------------')\n",
    "\n",
    "for citi in cities:\n",
    "    url = f\"http://api.openweathermap.org/data/2.5/weather?q={citi}&appid={weather_api_key}&units=imperial\"\n",
    "    response = requests.get(url).json()\n",
    "    time.sleep(1.1)\n",
    "\n",
    "    try:\n",
    "        city.append(response['name'])\n",
    "        lat.append(response['coord']['lat'])\n",
    "        lng.append(response['coord']['lon'])\n",
    "        max_temp.append(response['main']['temp_max'])\n",
    "        humidity.append(response['main']['humidity'])\n",
    "        cloudiness.append(response['clouds']['all'])\n",
    "        wind_speed.append(response['wind']['speed'])\n",
    "        country.append(response['sys']['country'])\n",
    "        date.append(response['dt'])\n",
    "        print(f\"processing record {records} | {citi}\")\n",
    "        records += 1\n",
    "    except KeyError:\n",
    "        print('city not found, skipping to next!')"
   ]
  },
  {
   "cell_type": "code",
   "execution_count": null,
   "metadata": {},
   "outputs": [],
   "source": []
  },
  {
   "cell_type": "markdown",
   "metadata": {},
   "source": [
    "### Convert Raw Data to DataFrame\n",
    "* Export the city data into a .csv.\n",
    "* Display the DataFrame"
   ]
  },
  {
   "cell_type": "code",
   "execution_count": 5,
   "metadata": {},
   "outputs": [],
   "source": [
    "# Create the DataFrame\n",
    "\n",
    "weather_dict = {\"City\": city,\n",
    "                \"Lat\": lat,\n",
    "                \"Lng\": lng,\n",
    "                \"Max Temp (F)\": max_temp,\n",
    "                \"Humidity\": humidity,\n",
    "                \"Cloudiness\": cloudiness,\n",
    "                \"Country\": country,\n",
    "                \"Wind Speed\": wind_speed,\n",
    "                \"Date\": date}"
   ]
  },
  {
   "cell_type": "code",
   "execution_count": 6,
   "metadata": {},
   "outputs": [
    {
     "data": {
      "text/html": [
       "<div>\n",
       "<style scoped>\n",
       "    .dataframe tbody tr th:only-of-type {\n",
       "        vertical-align: middle;\n",
       "    }\n",
       "\n",
       "    .dataframe tbody tr th {\n",
       "        vertical-align: top;\n",
       "    }\n",
       "\n",
       "    .dataframe thead th {\n",
       "        text-align: right;\n",
       "    }\n",
       "</style>\n",
       "<table border=\"1\" class=\"dataframe\">\n",
       "  <thead>\n",
       "    <tr style=\"text-align: right;\">\n",
       "      <th></th>\n",
       "      <th>City</th>\n",
       "      <th>Lat</th>\n",
       "      <th>Lng</th>\n",
       "      <th>Max Temp (F)</th>\n",
       "      <th>Humidity</th>\n",
       "      <th>Cloudiness</th>\n",
       "      <th>Country</th>\n",
       "      <th>Wind Speed</th>\n",
       "      <th>Date</th>\n",
       "    </tr>\n",
       "  </thead>\n",
       "  <tbody>\n",
       "    <tr>\n",
       "      <th>0</th>\n",
       "      <td>Poum</td>\n",
       "      <td>-20.23</td>\n",
       "      <td>164.02</td>\n",
       "      <td>81.32</td>\n",
       "      <td>83</td>\n",
       "      <td>100</td>\n",
       "      <td>NC</td>\n",
       "      <td>14.09</td>\n",
       "      <td>1609377964</td>\n",
       "    </tr>\n",
       "    <tr>\n",
       "      <th>1</th>\n",
       "      <td>Beringovskiy</td>\n",
       "      <td>63.05</td>\n",
       "      <td>179.32</td>\n",
       "      <td>4.26</td>\n",
       "      <td>93</td>\n",
       "      <td>94</td>\n",
       "      <td>RU</td>\n",
       "      <td>16.89</td>\n",
       "      <td>1609377965</td>\n",
       "    </tr>\n",
       "    <tr>\n",
       "      <th>2</th>\n",
       "      <td>Bambous Virieux</td>\n",
       "      <td>-20.34</td>\n",
       "      <td>57.76</td>\n",
       "      <td>77.00</td>\n",
       "      <td>88</td>\n",
       "      <td>40</td>\n",
       "      <td>MU</td>\n",
       "      <td>14.99</td>\n",
       "      <td>1609377967</td>\n",
       "    </tr>\n",
       "    <tr>\n",
       "      <th>3</th>\n",
       "      <td>Hithadhoo</td>\n",
       "      <td>-0.60</td>\n",
       "      <td>73.08</td>\n",
       "      <td>82.00</td>\n",
       "      <td>78</td>\n",
       "      <td>3</td>\n",
       "      <td>MV</td>\n",
       "      <td>9.08</td>\n",
       "      <td>1609377968</td>\n",
       "    </tr>\n",
       "    <tr>\n",
       "      <th>4</th>\n",
       "      <td>Bilibino</td>\n",
       "      <td>68.05</td>\n",
       "      <td>166.44</td>\n",
       "      <td>-32.35</td>\n",
       "      <td>80</td>\n",
       "      <td>99</td>\n",
       "      <td>RU</td>\n",
       "      <td>2.42</td>\n",
       "      <td>1609377969</td>\n",
       "    </tr>\n",
       "  </tbody>\n",
       "</table>\n",
       "</div>"
      ],
      "text/plain": [
       "              City    Lat     Lng  Max Temp (F)  Humidity  Cloudiness Country  \\\n",
       "0             Poum -20.23  164.02         81.32        83         100      NC   \n",
       "1     Beringovskiy  63.05  179.32          4.26        93          94      RU   \n",
       "2  Bambous Virieux -20.34   57.76         77.00        88          40      MU   \n",
       "3        Hithadhoo  -0.60   73.08         82.00        78           3      MV   \n",
       "4         Bilibino  68.05  166.44        -32.35        80          99      RU   \n",
       "\n",
       "   Wind Speed        Date  \n",
       "0       14.09  1609377964  \n",
       "1       16.89  1609377965  \n",
       "2       14.99  1609377967  \n",
       "3        9.08  1609377968  \n",
       "4        2.42  1609377969  "
      ]
     },
     "execution_count": 6,
     "metadata": {},
     "output_type": "execute_result"
    }
   ],
   "source": [
    "#Export to a .csv\n",
    "\n",
    "weather_data_df = pd.DataFrame(weather_dict)\n",
    "\n",
    "weather_data_df.head()"
   ]
  },
  {
   "cell_type": "code",
   "execution_count": 7,
   "metadata": {},
   "outputs": [],
   "source": [
    "weather_data_df.to_csv(\"../output_data/WeatherDataCities.csv\", index=False, header=True)"
   ]
  },
  {
   "cell_type": "markdown",
   "metadata": {},
   "source": [
    "## Inspect the data and remove the cities where the humidity > 100%.\n",
    "----\n",
    "Skip this step if there are no cities that have humidity > 100%. "
   ]
  },
  {
   "cell_type": "code",
   "execution_count": 8,
   "metadata": {},
   "outputs": [
    {
     "data": {
      "text/plain": [
       "0"
      ]
     },
     "execution_count": 8,
     "metadata": {},
     "output_type": "execute_result"
    }
   ],
   "source": [
    "#  Get the indices of cities that have humidity over 100%.\n",
    "hum_100 = weather_data_df.loc[weather_data_df['Humidity']>100]\n",
    "\n",
    "hum_100.shape[0]\n"
   ]
  },
  {
   "cell_type": "code",
   "execution_count": 9,
   "metadata": {},
   "outputs": [
    {
     "name": "stdout",
     "output_type": "stream",
     "text": [
      "There are 0 cities with humidity greater than 100.\n"
     ]
    }
   ],
   "source": [
    "print(f\"There are {hum_100.shape[0]} cities with humidity greater than 100.\")"
   ]
  },
  {
   "cell_type": "code",
   "execution_count": 10,
   "metadata": {},
   "outputs": [
    {
     "name": "stdout",
     "output_type": "stream",
     "text": [
      " Since we have 0 cities with humidity greater than 100, there is no need to clean the DataFrame.\n"
     ]
    }
   ],
   "source": [
    "# Make a new DataFrame equal to the city data to drop all humidity outliers by index.\n",
    "# Passing \"inplace=False\" will make a copy of the city_data DataFrame, which we call \"clean_city_data\".\n",
    "print(f\" Since we have {hum_100.shape[0]} cities with humidity greater than 100, there is no need to clean the DataFrame.\")"
   ]
  },
  {
   "cell_type": "markdown",
   "metadata": {},
   "source": [
    "## Plotting the Data\n",
    "* Use proper labeling of the plots using plot titles (including date of analysis) and axes labels.\n",
    "* Save the plotted figures as .pngs."
   ]
  },
  {
   "cell_type": "markdown",
   "metadata": {},
   "source": [
    "## Latitude vs. Temperature Plot"
   ]
  },
  {
   "cell_type": "code",
   "execution_count": 11,
   "metadata": {
    "scrolled": false
   },
   "outputs": [
    {
     "data": {
      "image/png": "[encoded data removed]",
      "text/plain": [
       "<Figure size 432x288 with 1 Axes>"
      ]
     },
     "metadata": {
      "needs_background": "light"
     },
     "output_type": "display_data"
    }
   ],
   "source": [
    "# Now we can use plt.scatter to create our graphs \"Latitude Vs Temperature\"\n",
    "plt.scatter(weather_data_df[\"Lat\"],weather_data_df[\"Max Temp (F)\"],marker =\"o\")\n",
    "plt.title(\"Temperature (F) vs Latitude\")\n",
    "plt.xlabel(\"Latitude\")\n",
    "plt.ylabel(\"Max Temp (F)\")\n",
    "plt.savefig(\"../output_data/Latitude vs Temperature (F)\")\n",
    "plt.show()"
   ]
  },
  {
   "cell_type": "code",
   "execution_count": 12,
   "metadata": {},
   "outputs": [
    {
     "name": "stdout",
     "output_type": "stream",
     "text": [
      "The closer a city is to the equator (Lat=0), the warmer the city. The further away a city is from the equator, the cooler the city would be. Notice the plot is forming a curve shape.\n"
     ]
    }
   ],
   "source": [
    "print(f'The closer a city is to the equator (Lat=0), the warmer the city. The further away a city is from the equator, the cooler the city would be. Notice the plot is forming a curve shape.')"
   ]
  },
  {
   "cell_type": "markdown",
   "metadata": {},
   "source": [
    "## Latitude vs. Humidity Plot"
   ]
  },
  {
   "cell_type": "code",
   "execution_count": 13,
   "metadata": {},
   "outputs": [
    {
     "data": {
      "image/png": "[encoded data removed]",
      "text/plain": [
       "<Figure size 432x288 with 1 Axes>"
      ]
     },
     "metadata": {
      "needs_background": "light"
     },
     "output_type": "display_data"
    }
   ],
   "source": [
    "# Now we can use plt.scatter to create our graphs \"Latitude vs. Humidity \"\n",
    "plt.scatter(weather_data_df[\"Lat\"],weather_data_df[\"Humidity\"],marker =\"o\")\n",
    "plt.title(\"Latitude vs. Humidity \")\n",
    "plt.xlabel(\"Latitude\")\n",
    "plt.ylabel(\"Humidity\")\n",
    "plt.savefig(\"../output_data/Latitude vs Humidity\")\n",
    "plt.show()"
   ]
  },
  {
   "cell_type": "markdown",
   "metadata": {},
   "source": [
    "## Latitude vs. Cloudiness Plot"
   ]
  },
  {
   "cell_type": "code",
   "execution_count": 14,
   "metadata": {},
   "outputs": [
    {
     "data": {
      "image/png": "[encoded data removed]",
      "text/plain": [
       "<Figure size 432x288 with 1 Axes>"
      ]
     },
     "metadata": {
      "needs_background": "light"
     },
     "output_type": "display_data"
    }
   ],
   "source": [
    "# Now we can use plt.scatter to create our graphs \"Latitude vs. Cloudiness\"\n",
    "plt.scatter(weather_data_df[\"Lat\"],weather_data_df[\"Cloudiness\"],marker =\"o\")\n",
    "plt.title(\"Latitude vs Cloudiness\")\n",
    "plt.xlabel(\"Latitude\")\n",
    "plt.ylabel(\"Cloudiness\")\n",
    "plt.savefig(\"../output_data/Latitude vs Cloudiness\")\n",
    "plt.show()"
   ]
  },
  {
   "cell_type": "markdown",
   "metadata": {},
   "source": [
    "## Latitude vs. Wind Speed Plot"
   ]
  },
  {
   "cell_type": "code",
   "execution_count": 15,
   "metadata": {},
   "outputs": [
    {
     "data": {
      "image/png": "[encoded data removed]",
      "text/plain": [
       "<Figure size 432x288 with 1 Axes>"
      ]
     },
     "metadata": {
      "needs_background": "light"
     },
     "output_type": "display_data"
    }
   ],
   "source": [
    "# Now we can use plt.scatter to create our graphs \"Latitude Vs Temperature\"\n",
    "plt.scatter(weather_data_df[\"Lat\"],weather_data_df[\"Wind Speed\"],marker =\"o\")\n",
    "plt.title(\"Latitude vs Wind Speed\")\n",
    "plt.xlabel(\"Latitude\")\n",
    "plt.ylabel(\"Wind Speed\")\n",
    "plt.savefig(\"../output_data/Latitude vs Wind Speed\")\n",
    "plt.show()"
   ]
  },
  {
   "cell_type": "markdown",
   "metadata": {},
   "source": [
    "## Linear Regression"
   ]
  },
  {
   "cell_type": "code",
   "execution_count": 16,
   "metadata": {},
   "outputs": [],
   "source": [
    "northen_hemisphere = weather_data_df.loc[pd.to_numeric(weather_data_df['Lat']).astype(float)>0, :]\n",
    "southern_hemisphere = weather_data_df.loc[pd.to_numeric(weather_data_df['Lat']).astype(float)<0, :]\n"
   ]
  },
  {
   "cell_type": "code",
   "execution_count": 17,
   "metadata": {
    "scrolled": true
   },
   "outputs": [
    {
     "data": {
      "text/plain": [
       "396"
      ]
     },
     "execution_count": 17,
     "metadata": {},
     "output_type": "execute_result"
    }
   ],
   "source": [
    "len(northen_hemisphere)"
   ]
  },
  {
   "cell_type": "code",
   "execution_count": 18,
   "metadata": {},
   "outputs": [
    {
     "data": {
      "text/plain": [
       "169"
      ]
     },
     "execution_count": 18,
     "metadata": {},
     "output_type": "execute_result"
    }
   ],
   "source": [
    "len(southern_hemisphere)"
   ]
  },
  {
   "cell_type": "code",
   "execution_count": 19,
   "metadata": {
    "scrolled": true
   },
   "outputs": [
    {
     "data": {
      "text/plain": [
       "565"
      ]
     },
     "execution_count": 19,
     "metadata": {},
     "output_type": "execute_result"
    }
   ],
   "source": [
    "len(northen_hemisphere) + len(southern_hemisphere)"
   ]
  },
  {
   "cell_type": "code",
   "execution_count": 20,
   "metadata": {},
   "outputs": [
    {
     "data": {
      "text/html": [
       "<div>\n",
       "<style scoped>\n",
       "    .dataframe tbody tr th:only-of-type {\n",
       "        vertical-align: middle;\n",
       "    }\n",
       "\n",
       "    .dataframe tbody tr th {\n",
       "        vertical-align: top;\n",
       "    }\n",
       "\n",
       "    .dataframe thead th {\n",
       "        text-align: right;\n",
       "    }\n",
       "</style>\n",
       "<table border=\"1\" class=\"dataframe\">\n",
       "  <thead>\n",
       "    <tr style=\"text-align: right;\">\n",
       "      <th></th>\n",
       "      <th>City</th>\n",
       "      <th>Lat</th>\n",
       "      <th>Lng</th>\n",
       "      <th>Max Temp (F)</th>\n",
       "      <th>Humidity</th>\n",
       "      <th>Cloudiness</th>\n",
       "      <th>Country</th>\n",
       "      <th>Wind Speed</th>\n",
       "      <th>Date</th>\n",
       "    </tr>\n",
       "  </thead>\n",
       "  <tbody>\n",
       "    <tr>\n",
       "      <th>1</th>\n",
       "      <td>Beringovskiy</td>\n",
       "      <td>63.05</td>\n",
       "      <td>179.32</td>\n",
       "      <td>4.26</td>\n",
       "      <td>93</td>\n",
       "      <td>94</td>\n",
       "      <td>RU</td>\n",
       "      <td>16.89</td>\n",
       "      <td>1609377965</td>\n",
       "    </tr>\n",
       "    <tr>\n",
       "      <th>4</th>\n",
       "      <td>Bilibino</td>\n",
       "      <td>68.05</td>\n",
       "      <td>166.44</td>\n",
       "      <td>-32.35</td>\n",
       "      <td>80</td>\n",
       "      <td>99</td>\n",
       "      <td>RU</td>\n",
       "      <td>2.42</td>\n",
       "      <td>1609377969</td>\n",
       "    </tr>\n",
       "    <tr>\n",
       "      <th>5</th>\n",
       "      <td>Chokurdakh</td>\n",
       "      <td>70.63</td>\n",
       "      <td>147.92</td>\n",
       "      <td>-30.89</td>\n",
       "      <td>85</td>\n",
       "      <td>29</td>\n",
       "      <td>RU</td>\n",
       "      <td>5.03</td>\n",
       "      <td>1609377970</td>\n",
       "    </tr>\n",
       "    <tr>\n",
       "      <th>7</th>\n",
       "      <td>Khovd</td>\n",
       "      <td>48.01</td>\n",
       "      <td>91.64</td>\n",
       "      <td>-5.94</td>\n",
       "      <td>78</td>\n",
       "      <td>0</td>\n",
       "      <td>MN</td>\n",
       "      <td>0.36</td>\n",
       "      <td>1609377972</td>\n",
       "    </tr>\n",
       "    <tr>\n",
       "      <th>8</th>\n",
       "      <td>Ribeira Grande</td>\n",
       "      <td>38.52</td>\n",
       "      <td>-28.70</td>\n",
       "      <td>59.79</td>\n",
       "      <td>77</td>\n",
       "      <td>98</td>\n",
       "      <td>PT</td>\n",
       "      <td>19.95</td>\n",
       "      <td>1609377974</td>\n",
       "    </tr>\n",
       "  </tbody>\n",
       "</table>\n",
       "</div>"
      ],
      "text/plain": [
       "             City    Lat     Lng  Max Temp (F)  Humidity  Cloudiness Country  \\\n",
       "1    Beringovskiy  63.05  179.32          4.26        93          94      RU   \n",
       "4        Bilibino  68.05  166.44        -32.35        80          99      RU   \n",
       "5      Chokurdakh  70.63  147.92        -30.89        85          29      RU   \n",
       "7           Khovd  48.01   91.64         -5.94        78           0      MN   \n",
       "8  Ribeira Grande  38.52  -28.70         59.79        77          98      PT   \n",
       "\n",
       "   Wind Speed        Date  \n",
       "1       16.89  1609377965  \n",
       "4        2.42  1609377969  \n",
       "5        5.03  1609377970  \n",
       "7        0.36  1609377972  \n",
       "8       19.95  1609377974  "
      ]
     },
     "execution_count": 20,
     "metadata": {},
     "output_type": "execute_result"
    }
   ],
   "source": [
    "northen_hemisphere.head()"
   ]
  },
  {
   "cell_type": "code",
   "execution_count": 21,
   "metadata": {},
   "outputs": [
    {
     "data": {
      "text/html": [
       "<div>\n",
       "<style scoped>\n",
       "    .dataframe tbody tr th:only-of-type {\n",
       "        vertical-align: middle;\n",
       "    }\n",
       "\n",
       "    .dataframe tbody tr th {\n",
       "        vertical-align: top;\n",
       "    }\n",
       "\n",
       "    .dataframe thead th {\n",
       "        text-align: right;\n",
       "    }\n",
       "</style>\n",
       "<table border=\"1\" class=\"dataframe\">\n",
       "  <thead>\n",
       "    <tr style=\"text-align: right;\">\n",
       "      <th></th>\n",
       "      <th>City</th>\n",
       "      <th>Lat</th>\n",
       "      <th>Lng</th>\n",
       "      <th>Max Temp (F)</th>\n",
       "      <th>Humidity</th>\n",
       "      <th>Cloudiness</th>\n",
       "      <th>Country</th>\n",
       "      <th>Wind Speed</th>\n",
       "      <th>Date</th>\n",
       "    </tr>\n",
       "  </thead>\n",
       "  <tbody>\n",
       "    <tr>\n",
       "      <th>0</th>\n",
       "      <td>Poum</td>\n",
       "      <td>-20.23</td>\n",
       "      <td>164.02</td>\n",
       "      <td>81.32</td>\n",
       "      <td>83</td>\n",
       "      <td>100</td>\n",
       "      <td>NC</td>\n",
       "      <td>14.09</td>\n",
       "      <td>1609377964</td>\n",
       "    </tr>\n",
       "    <tr>\n",
       "      <th>2</th>\n",
       "      <td>Bambous Virieux</td>\n",
       "      <td>-20.34</td>\n",
       "      <td>57.76</td>\n",
       "      <td>77.00</td>\n",
       "      <td>88</td>\n",
       "      <td>40</td>\n",
       "      <td>MU</td>\n",
       "      <td>14.99</td>\n",
       "      <td>1609377967</td>\n",
       "    </tr>\n",
       "    <tr>\n",
       "      <th>3</th>\n",
       "      <td>Hithadhoo</td>\n",
       "      <td>-0.60</td>\n",
       "      <td>73.08</td>\n",
       "      <td>82.00</td>\n",
       "      <td>78</td>\n",
       "      <td>3</td>\n",
       "      <td>MV</td>\n",
       "      <td>9.08</td>\n",
       "      <td>1609377968</td>\n",
       "    </tr>\n",
       "    <tr>\n",
       "      <th>6</th>\n",
       "      <td>Busselton</td>\n",
       "      <td>-33.65</td>\n",
       "      <td>115.33</td>\n",
       "      <td>82.99</td>\n",
       "      <td>43</td>\n",
       "      <td>0</td>\n",
       "      <td>AU</td>\n",
       "      <td>7.00</td>\n",
       "      <td>1609377971</td>\n",
       "    </tr>\n",
       "    <tr>\n",
       "      <th>9</th>\n",
       "      <td>Rikitea</td>\n",
       "      <td>-23.12</td>\n",
       "      <td>-134.97</td>\n",
       "      <td>78.44</td>\n",
       "      <td>74</td>\n",
       "      <td>0</td>\n",
       "      <td>PF</td>\n",
       "      <td>10.58</td>\n",
       "      <td>1609377975</td>\n",
       "    </tr>\n",
       "  </tbody>\n",
       "</table>\n",
       "</div>"
      ],
      "text/plain": [
       "              City    Lat     Lng  Max Temp (F)  Humidity  Cloudiness Country  \\\n",
       "0             Poum -20.23  164.02         81.32        83         100      NC   \n",
       "2  Bambous Virieux -20.34   57.76         77.00        88          40      MU   \n",
       "3        Hithadhoo  -0.60   73.08         82.00        78           3      MV   \n",
       "6        Busselton -33.65  115.33         82.99        43           0      AU   \n",
       "9          Rikitea -23.12 -134.97         78.44        74           0      PF   \n",
       "\n",
       "   Wind Speed        Date  \n",
       "0       14.09  1609377964  \n",
       "2       14.99  1609377967  \n",
       "3        9.08  1609377968  \n",
       "6        7.00  1609377971  \n",
       "9       10.58  1609377975  "
      ]
     },
     "execution_count": 21,
     "metadata": {},
     "output_type": "execute_result"
    }
   ],
   "source": [
    "southern_hemisphere.head()"
   ]
  },
  {
   "cell_type": "markdown",
   "metadata": {},
   "source": [
    "####  Northern Hemisphere - Max Temp vs. Latitude Linear Regression"
   ]
  },
  {
   "cell_type": "code",
   "execution_count": 27,
   "metadata": {
    "scrolled": true
   },
   "outputs": [
    {
     "name": "stdout",
     "output_type": "stream",
     "text": [
      "The correlation between Max Temp and Latitiude on the Northern Hemisphere is -0.84.\n"
     ]
    },
    {
     "data": {
      "image/png": "[encoded data removed]",
      "text/plain": [
       "<Figure size 432x288 with 1 Axes>"
      ]
     },
     "metadata": {
      "needs_background": "light"
     },
     "output_type": "display_data"
    }
   ],
   "source": [
    "# Create scatter plot and determine line of regression for Northern Hemisphere - Max Temp vs. Latitude Linear Regression¶\n",
    "plt.scatter(northen_hemisphere['Max Temp (F)'],northen_hemisphere['Lat'])\n",
    "x = northen_hemisphere['Max Temp (F)']\n",
    "y = northen_hemisphere['Lat']\n",
    "\n",
    "# Calculate the correlation coefficient between mouse weight and average tumor volume\n",
    "correlation = st.pearsonr(x,y)\n",
    "\n",
    "# Print the answer to above calculation\n",
    "print(f\"\"\"The correlation between Max Temp and Latitiude on the Northern Hemisphere is {round(correlation[0],2)}.\"\"\")\n",
    "\n",
    "# Calculate linear regression\n",
    "(slope, intercept, rvalue, pvalue, stderr) = linregress(x, y)\n",
    "regress_values = x * slope + intercept\n",
    "line_eq = \"y = \" + str(round(slope,2)) + \"x + \" + str(round(intercept,2))\n",
    "\n",
    "# Plot linear regression on top of scatter plot\n",
    "plt.scatter(x,y)\n",
    "plt.plot(x,regress_values,\"r-\")\n",
    "\n",
    "# Annotate linear regression\n",
    "plt.annotate(line_eq,(-40,10),fontsize=15,color=\"blue\")\n",
    "\n",
    "# Add labels and title to plot\n",
    "plt.xlabel(\"Max Temp (F)\")\n",
    "plt.ylabel(\"Lat\")\n",
    "plt.title('Northern Hemisphere - Max Temp vs. Latitude Linear Regression')\n",
    "plt.savefig(\"../output_data/Northern_Hemisphere_Max_Temp_vs_Latitude_Linear_Regression.png\")\n",
    "plt.show()"
   ]
  },
  {
   "cell_type": "markdown",
   "metadata": {},
   "source": [
    "####  Southern Hemisphere - Max Temp vs. Latitude Linear Regression"
   ]
  },
  {
   "cell_type": "code",
   "execution_count": 28,
   "metadata": {
    "scrolled": true
   },
   "outputs": [
    {
     "name": "stdout",
     "output_type": "stream",
     "text": [
      "The correlation between Max Temp and Latitiude on the Southern Hemisphere is 0.5.\n"
     ]
    },
    {
     "data": {
      "image/png": "[encoded data removed]",
      "text/plain": [
       "<Figure size 432x288 with 1 Axes>"
      ]
     },
     "metadata": {
      "needs_background": "light"
     },
     "output_type": "display_data"
    }
   ],
   "source": [
    "# Create scatter plot and determine line of regression for Southern Hemisphere - Max Temp vs. Latitude Linear Regression¶\n",
    "plt.scatter(southern_hemisphere['Max Temp (F)'],southern_hemisphere['Lat'])\n",
    "x = southern_hemisphere['Max Temp (F)']\n",
    "y = southern_hemisphere['Lat']\n",
    "\n",
    "# Calculate the correlation coefficient between mouse weight and average tumor volume\n",
    "correlation = st.pearsonr(x,y)\n",
    "\n",
    "# Print the answer to above calculation\n",
    "print(f\"\"\"The correlation between Max Temp and Latitiude on the Southern Hemisphere is {round(correlation[0],2)}.\"\"\")\n",
    "\n",
    "# Calculate linear regression\n",
    "(slope, intercept, rvalue, pvalue, stderr) = linregress(x, y)\n",
    "regress_values = x * slope + intercept\n",
    "line_eq = \"y = \" + str(round(slope,2)) + \"x + \" + str(round(intercept,2))\n",
    "\n",
    "# Plot linear regression on top of scatter plot\n",
    "plt.scatter(x,y)\n",
    "plt.plot(x,regress_values,\"r-\")\n",
    "\n",
    "# Annotate linear regression\n",
    "plt.annotate(line_eq,(70,-50),fontsize=15,color=\"blue\")\n",
    "\n",
    "# Add labels and title to plot\n",
    "plt.xlabel(\"Max Temp (F)\")\n",
    "plt.ylabel(\"Lat\")\n",
    "plt.title('Southern Hemisphere - Max Temp vs. Latitude Linear Regression')\n",
    "plt.savefig(\"../output_data/Southern_Hemisphere_Max_Temp_vs_Latitude_Linear_Regression.png\")\n",
    "plt.show()"
   ]
  },
  {
   "cell_type": "markdown",
   "metadata": {},
   "source": [
    "####  Northern Hemisphere - Humidity (%) vs. Latitude Linear Regression"
   ]
  },
  {
   "cell_type": "code",
   "execution_count": 24,
   "metadata": {
    "scrolled": true
   },
   "outputs": [
    {
     "name": "stdout",
     "output_type": "stream",
     "text": [
      "The correlation between Humidity and Latitiude on the Northern Hemisphere is 0.33.\n"
     ]
    },
    {
     "data": {
      "image/png": "[encoded data removed]",
      "text/plain": [
       "<Figure size 432x288 with 1 Axes>"
      ]
     },
     "metadata": {
      "needs_background": "light"
     },
     "output_type": "display_data"
    }
   ],
   "source": [
    "# Create scatter plot and determine line of regression for Northern Hemisphere - Humidity (%) vs. Latitude Linear Regression¶\n",
    "plt.scatter(northen_hemisphere['Humidity'],northen_hemisphere['Lat'])\n",
    "x = northen_hemisphere['Humidity']\n",
    "y = northen_hemisphere['Lat']\n",
    "\n",
    "# Calculate the correlation coefficient between mouse weight and average tumor volume\n",
    "correlation = st.pearsonr(x,y)\n",
    "\n",
    "# Print the answer to above calculation\n",
    "print(f\"\"\"The correlation between Humidity and Latitiude on the Northern Hemisphere is {round(correlation[0],2)}.\"\"\")\n",
    "\n",
    "# Calculate linear regression\n",
    "(slope, intercept, rvalue, pvalue, stderr) = linregress(x, y)\n",
    "regress_values = x * slope + intercept\n",
    "line_eq = \"y = \" + str(round(slope,2)) + \"x + \" + str(round(intercept,2))\n",
    "\n",
    "# Plot linear regression on top of scatter plot\n",
    "plt.scatter(x,y)\n",
    "plt.plot(x,regress_values,\"r-\")\n",
    "\n",
    "# Annotate linear regression\n",
    "plt.annotate(line_eq,(10,70),fontsize=15,color=\"blue\")\n",
    "\n",
    "# Add labels and title to plot\n",
    "plt.xlabel(\"Humidity\")\n",
    "plt.ylabel(\"Lat\")\n",
    "plt.title('Northern Hemisphere - Humidity vs. Latitude Linear Regression')\n",
    "plt.savefig(\"../output_data/Northern_Hemisphere_Humidity_vs_Latitude_Linear_Regression.png\")\n",
    "plt.show()"
   ]
  },
  {
   "cell_type": "markdown",
   "metadata": {},
   "source": [
    "####  Southern Hemisphere - Humidity (%) vs. Latitude Linear Regression"
   ]
  },
  {
   "cell_type": "code",
   "execution_count": 25,
   "metadata": {
    "scrolled": true
   },
   "outputs": [
    {
     "name": "stdout",
     "output_type": "stream",
     "text": [
      "The correlation between Humidity and Latitiude on the Southern Hemisphere is 0.33.\n"
     ]
    },
    {
     "data": {
      "image/png": "[encoded data removed]",
      "text/plain": [
       "<Figure size 432x288 with 1 Axes>"
      ]
     },
     "metadata": {
      "needs_background": "light"
     },
     "output_type": "display_data"
    }
   ],
   "source": [
    "# Create scatter plot and determine line of regression for southern_hemisphere - Humidity vs. Latitude Linear Regression¶\n",
    "plt.scatter(southern_hemisphere['Humidity'],southern_hemisphere['Lat'])\n",
    "x = southern_hemisphere['Humidity']\n",
    "y = southern_hemisphere['Lat']\n",
    "\n",
    "# Calculate the correlation coefficient between mouse weight and average tumor volume\n",
    "correlation = st.pearsonr(x,y)\n",
    "\n",
    "# Print the answer to above calculation\n",
    "print(f\"\"\"The correlation between Humidity and Latitiude on the Southern Hemisphere is {round(correlation[0],2)}.\"\"\")\n",
    "\n",
    "# Calculate linear regression\n",
    "(slope, intercept, rvalue, pvalue, stderr) = linregress(x, y)\n",
    "regress_values = x * slope + intercept\n",
    "line_eq = \"y = \" + str(round(slope,2)) + \"x + \" + str(round(intercept,2))\n",
    "\n",
    "# Plot linear regression on top of scatter plot\n",
    "plt.scatter(x,y)\n",
    "plt.plot(x,regress_values,\"r-\")\n",
    "\n",
    "# Annotate linear regression\n",
    "plt.annotate(line_eq,(10,-10),fontsize=15,color=\"blue\")\n",
    "\n",
    "# Add labels and title to plot\n",
    "plt.xlabel(\"Humidity\")\n",
    "plt.ylabel(\"Lat\")\n",
    "plt.title('Southern Hemisphere - Humidity vs. Latitude Linear Regression')\n",
    "plt.savefig(\"../output_data/Southern_Hemisphere_Humidity_vs_Latitude_Linear_Regression.png\")\n",
    "plt.show()"
   ]
  },
  {
   "cell_type": "markdown",
   "metadata": {},
   "source": [
    "####  Northern Hemisphere - Cloudiness (%) vs. Latitude Linear Regression"
   ]
  },
  {
   "cell_type": "code",
   "execution_count": 30,
   "metadata": {
    "scrolled": true
   },
   "outputs": [
    {
     "name": "stdout",
     "output_type": "stream",
     "text": [
      "The correlation between Cloudiness and Latitiude on the Northern Hemisphere is 0.21.\n"
     ]
    },
    {
     "data": {
      "image/png": "[encoded data removed]",
      "text/plain": [
       "<Figure size 432x288 with 1 Axes>"
      ]
     },
     "metadata": {
      "needs_background": "light"
     },
     "output_type": "display_data"
    }
   ],
   "source": [
    "# Create scatter plot and determine line of regression for Northern Hemisphere - Cloudiness vs. Latitude Linear Regression¶\n",
    "plt.scatter(northen_hemisphere['Cloudiness'],northen_hemisphere['Lat'])\n",
    "x = northen_hemisphere['Cloudiness']\n",
    "y = northen_hemisphere['Lat']\n",
    "\n",
    "# Calculate the correlation coefficient between mouse weight and average tumor volume\n",
    "correlation = st.pearsonr(x,y)\n",
    "\n",
    "# Print the answer to above calculation\n",
    "print(f\"\"\"The correlation between Cloudiness and Latitiude on the Northern Hemisphere is {round(correlation[0],2)}.\"\"\")\n",
    "\n",
    "# Calculate linear regression\n",
    "(slope, intercept, rvalue, pvalue, stderr) = linregress(x, y)\n",
    "regress_values = x * slope + intercept\n",
    "line_eq = \"y = \" + str(round(slope,2)) + \"x + \" + str(round(intercept,2))\n",
    "\n",
    "# Plot linear regression on top of scatter plot\n",
    "plt.scatter(x,y)\n",
    "plt.plot(x,regress_values,\"r-\")\n",
    "\n",
    "# Annotate linear regression\n",
    "plt.annotate(line_eq,(40,30),fontsize=15,color=\"blue\")\n",
    "\n",
    "# Add labels and title to plot\n",
    "plt.xlabel(\"Cloudiness\")\n",
    "plt.ylabel(\"Lat\")\n",
    "plt.title('Northern Hemisphere - Cloudiness vs. Latitude Linear Regression')\n",
    "plt.savefig(\"../output_data/Northern_Hemisphere_Cloudiness_vs_Latitude_Linear_Regression.png\")\n",
    "plt.show()"
   ]
  },
  {
   "cell_type": "markdown",
   "metadata": {},
   "source": [
    "####  Southern Hemisphere - Cloudiness (%) vs. Latitude Linear Regression"
   ]
  },
  {
   "cell_type": "code",
   "execution_count": 31,
   "metadata": {
    "scrolled": true
   },
   "outputs": [
    {
     "name": "stdout",
     "output_type": "stream",
     "text": [
      "The correlation between Cloudiness Latitiude on the Northern Hemisphere is 0.25.\n"
     ]
    },
    {
     "data": {
      "image/png": "[encoded data removed]",
      "text/plain": [
       "<Figure size 432x288 with 1 Axes>"
      ]
     },
     "metadata": {
      "needs_background": "light"
     },
     "output_type": "display_data"
    }
   ],
   "source": [
    "# Create scatter plot and determine line of regression for Southern Hemisphere - Cloudiness vs. Latitude Linear Regression¶\n",
    "plt.scatter(southern_hemisphere['Cloudiness'],southern_hemisphere['Lat'])\n",
    "x = southern_hemisphere['Cloudiness']\n",
    "y = southern_hemisphere['Lat']\n",
    "\n",
    "# Calculate the correlation coefficient between mouse weight and average tumor volume\n",
    "correlation = st.pearsonr(x,y)\n",
    "\n",
    "# Print the answer to above calculation\n",
    "print(f\"\"\"The correlation between Cloudiness Latitiude on the Northern Hemisphere is {round(correlation[0],2)}.\"\"\")\n",
    "\n",
    "# Calculate linear regression\n",
    "(slope, intercept, rvalue, pvalue, stderr) = linregress(x, y)\n",
    "regress_values = x * slope + intercept\n",
    "line_eq = \"y = \" + str(round(slope,2)) + \"x + \" + str(round(intercept,2))\n",
    "\n",
    "# Plot linear regression on top of scatter plot\n",
    "plt.scatter(x,y)\n",
    "plt.plot(x,regress_values,\"r-\")\n",
    "\n",
    "# Annotate linear regression\n",
    "plt.annotate(line_eq,(20,-55),fontsize=15,color=\"blue\")\n",
    "\n",
    "# Add labels and title to plot\n",
    "plt.xlabel(\"Cloudiness\")\n",
    "plt.ylabel(\"Lat\")\n",
    "plt.title('Southern Hemisphere - Cloudiness vs. Latitude Linear Regression')\n",
    "plt.savefig(\"../output_data/Southern_Hemisphere_Cloudiness_vs_Latitude_Linear_Regression.png\")\n",
    "plt.show()"
   ]
  },
  {
   "cell_type": "markdown",
   "metadata": {},
   "source": [
    "####  Northern Hemisphere - Wind Speed (mph) vs. Latitude Linear Regression"
   ]
  },
  {
   "cell_type": "code",
   "execution_count": 32,
   "metadata": {
    "scrolled": true
   },
   "outputs": [
    {
     "name": "stdout",
     "output_type": "stream",
     "text": [
      "The correlation between Wind Speed (mph) and Latitiude on the Northern Hemisphere is 0.04.\n"
     ]
    },
    {
     "data": {
      "image/png": "[encoded data removed]",
      "text/plain": [
       "<Figure size 432x288 with 1 Axes>"
      ]
     },
     "metadata": {
      "needs_background": "light"
     },
     "output_type": "display_data"
    }
   ],
   "source": [
    "# Create scatter plot and determine line of regression for Northern Hemisphere - Wind Speed (mph) vs. Latitude Linear Regression¶\n",
    "plt.scatter(northen_hemisphere['Wind Speed'],northen_hemisphere['Lat'])\n",
    "x = northen_hemisphere['Wind Speed']\n",
    "y = northen_hemisphere['Lat']\n",
    "\n",
    "# Calculate the correlation coefficient between mouse weight and average tumor volume\n",
    "correlation = st.pearsonr(x,y)\n",
    "\n",
    "# Print the answer to above calculation\n",
    "print(f\"\"\"The correlation between Wind Speed (mph) and Latitiude on the Northern Hemisphere is {round(correlation[0],2)}.\"\"\")\n",
    "\n",
    "# Calculate linear regression\n",
    "(slope, intercept, rvalue, pvalue, stderr) = linregress(x, y)\n",
    "regress_values = x * slope + intercept\n",
    "line_eq = \"y = \" + str(round(slope,2)) + \"x + \" + str(round(intercept,2))\n",
    "\n",
    "# Plot linear regression on top of scatter plot\n",
    "plt.scatter(x,y)\n",
    "plt.plot(x,regress_values,\"r-\")\n",
    "\n",
    "# Annotate linear regression\n",
    "plt.annotate(line_eq,(10,5),fontsize=15,color=\"blue\")\n",
    "\n",
    "# Add labels and title to plot\n",
    "plt.xlabel(\"Wind Speed(mph)\")\n",
    "plt.ylabel(\"Lat\")\n",
    "plt.title('Northern Hemisphere - Wind Speed (mph) vs. Latitude Linear Regression')\n",
    "plt.savefig(\"../output_data/Northern_Hemisphere_Wind_Speed_vs_Latitude_Linear_Regression.png\")\n",
    "plt.show()"
   ]
  },
  {
   "cell_type": "markdown",
   "metadata": {},
   "source": [
    "####  Southern Hemisphere - Wind Speed (mph) vs. Latitude Linear Regression"
   ]
  },
  {
   "cell_type": "code",
   "execution_count": 33,
   "metadata": {
    "scrolled": true
   },
   "outputs": [
    {
     "name": "stdout",
     "output_type": "stream",
     "text": [
      "The correlation between Wind Speed (mph) and Latitiude on the Northern Hemisphere is -0.3.\n"
     ]
    },
    {
     "data": {
      "image/png": "[encoded data removed]",
      "text/plain": [
       "<Figure size 432x288 with 1 Axes>"
      ]
     },
     "metadata": {
      "needs_background": "light"
     },
     "output_type": "display_data"
    }
   ],
   "source": [
    "# Create scatter plot and determine line of regression for Southern Hemisphere - Wind Speed (mph) vs. Latitude Linear Regression¶\n",
    "plt.scatter(southern_hemisphere['Wind Speed'],southern_hemisphere['Lat'])\n",
    "x = southern_hemisphere['Wind Speed']\n",
    "y = southern_hemisphere['Lat']\n",
    "\n",
    "# Calculate the correlation coefficient between mouse weight and average tumor volume\n",
    "correlation = st.pearsonr(x,y)\n",
    "\n",
    "# Print the answer to above calculation\n",
    "print(f\"\"\"The correlation between Wind Speed (mph) and Latitiude on the Northern Hemisphere is {round(correlation[0],2)}.\"\"\")\n",
    "\n",
    "# Calculate linear regression\n",
    "(slope, intercept, rvalue, pvalue, stderr) = linregress(x, y)\n",
    "regress_values = x * slope + intercept\n",
    "line_eq = \"y = \" + str(round(slope,2)) + \"x + \" + str(round(intercept,2))\n",
    "\n",
    "# Plot linear regression on top of scatter plot\n",
    "plt.scatter(x,y)\n",
    "plt.plot(x,regress_values,\"r-\")\n",
    "\n",
    "# Annotate linear regression\n",
    "plt.annotate(line_eq,(6,-55),fontsize=15,color=\"blue\")\n",
    "\n",
    "# Add labels and title to plot\n",
    "plt.xlabel(\"Wind Speed (mph)\")\n",
    "plt.ylabel(\"Lat\")\n",
    "plt.title('Southern Hemisphere - Wind Speed vs. Latitude Linear Regression')\n",
    "plt.savefig(\"../output_data/Southern_Hemisphere_Wind_Speed_vs_Latitude_Linear_Regression.png\")\n",
    "plt.show()"
   ]
  },
  {
   "cell_type": "code",
   "execution_count": null,
   "metadata": {},
   "outputs": [],
   "source": []
  }
 ],
 "metadata": {
  "anaconda-cloud": {},
  "kernel_info": {
   "name": "python3"
  },
  "kernelspec": {
   "display_name": "Python 3",
   "language": "python",
   "name": "python3"
  },
  "language_info": {
   "codemirror_mode": {
    "name": "ipython",
    "version": 3
   },
   "file_extension": ".py",
   "mimetype": "text/x-python",
   "name": "python",
   "nbconvert_exporter": "python",
   "pygments_lexer": "ipython3",
   "version": "3.8.3"
  },
  "latex_envs": {
   "LaTeX_envs_menu_present": true,
   "autoclose": false,
   "autocomplete": true,
   "bibliofile": "biblio.bib",
   "cite_by": "apalike",
   "current_citInitial": 1,
   "eqLabelWithNumbers": true,
   "eqNumInitial": 1,
   "hotkeys": {
    "equation": "Ctrl-E",
    "itemize": "Ctrl-I"
   },
   "labels_anchors": false,
   "latex_user_defs": false,
   "report_style_numbering": false,
   "user_envs_cfg": false
  },
  "nteract": {
   "version": "0.12.3"
  }
 },
 "nbformat": 4,
 "nbformat_minor": 2
}
