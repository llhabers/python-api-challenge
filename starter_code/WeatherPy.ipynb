{
 "cells": [
  {
   "cell_type": "markdown",
   "metadata": {},
   "source": [
    "# WeatherPy\n",
    "----\n",
    "\n",
    "#### Note\n",
    "* Instructions have been included for each segment. You do not have to follow them exactly, but they are included to help you think through the steps."
   ]
  },
  {
   "cell_type": "code",
   "execution_count": 40,
   "metadata": {
    "scrolled": true
   },
   "outputs": [],
   "source": [
    "# Dependencies and Setup\n",
    "import matplotlib.pyplot as plt\n",
    "import pandas as pd\n",
    "import numpy as np\n",
    "import requests\n",
    "import time\n",
    "from scipy.stats import linregress\n",
    "import scipy.stats as st\n",
    "\n",
    "# Import API key\n",
    "from api_keys import weather_api_key\n",
    "\n",
    "# Incorporated citipy to determine city based on latitude and longitude\n",
    "from citipy import citipy\n",
    "\n",
    "# Output File (CSV)\n",
    "output_data_file = \"output_data/cities.csv\"\n",
    "\n",
    "# Range of latitudes and longitudes\n",
    "lat_range = (-90, 90)\n",
    "lng_range = (-180, 180)"
   ]
  },
  {
   "cell_type": "markdown",
   "metadata": {},
   "source": [
    "## Generate Cities List"
   ]
  },
  {
   "cell_type": "code",
   "execution_count": 2,
   "metadata": {},
   "outputs": [
    {
     "data": {
      "text/plain": [
       "636"
      ]
     },
     "execution_count": 2,
     "metadata": {},
     "output_type": "execute_result"
    }
   ],
   "source": [
    "# List for holding lat_lngs and cities\n",
    "lat_lngs = []\n",
    "cities = []\n",
    "\n",
    "# Create a set of random lat and lng combinations\n",
    "lats = np.random.uniform(lat_range[0], lat_range[1], size=1500)\n",
    "lngs = np.random.uniform(lng_range[0], lng_range[1], size=1500)\n",
    "lat_lngs = zip(lats, lngs)\n",
    "\n",
    "# Identify nearest city for each lat, lng combination\n",
    "for lat_lng in lat_lngs:\n",
    "    city = citipy.nearest_city(lat_lng[0], lat_lng[1]).city_name\n",
    "    \n",
    "    # If the city is unique, then add it to a our cities list\n",
    "    if city not in cities:\n",
    "        cities.append(city)\n",
    "\n",
    "# Print the city count to confirm sufficient count\n",
    "len(cities)"
   ]
  },
  {
   "cell_type": "markdown",
   "metadata": {},
   "source": [
    "### Perform API Calls\n",
    "* Perform a weather check on each city using a series of successive API calls.\n",
    "* Include a print log of each city as it'sbeing processed (with the city number and city name).\n"
   ]
  },
  {
   "cell_type": "code",
   "execution_count": 4,
   "metadata": {},
   "outputs": [
    {
     "name": "stdout",
     "output_type": "stream",
     "text": [
      "Beginning Data Retrieval\n",
      "------------------------------\n",
      "processing record 1 | arraial do cabo\n",
      "processing record 2 | chuy\n",
      "processing record 3 | tiksi\n",
      "city not found, skipping to next!\n",
      "processing record 4 | la rioja\n",
      "processing record 5 | punta arenas\n",
      "processing record 6 | gizo\n",
      "processing record 7 | cabo san lucas\n",
      "processing record 8 | port lincoln\n",
      "processing record 9 | nelson bay\n",
      "processing record 10 | saint-denis\n",
      "processing record 11 | shelburne\n",
      "processing record 12 | busselton\n",
      "processing record 13 | albany\n",
      "processing record 14 | ilulissat\n",
      "processing record 15 | atuona\n",
      "processing record 16 | vaini\n",
      "processing record 17 | avarua\n",
      "processing record 18 | tasiilaq\n",
      "processing record 19 | port elizabeth\n",
      "processing record 20 | clarksburg\n",
      "processing record 21 | kaspiyskiy\n",
      "processing record 22 | barrow\n",
      "processing record 23 | cayenne\n",
      "city not found, skipping to next!\n",
      "processing record 24 | thanh hoa\n",
      "processing record 25 | ushuaia\n",
      "processing record 26 | benicarlo\n",
      "processing record 27 | dikson\n",
      "processing record 28 | jamestown\n",
      "processing record 29 | vangaindrano\n",
      "processing record 30 | morondava\n",
      "processing record 31 | konevo\n",
      "processing record 32 | hualmay\n",
      "processing record 33 | sorland\n",
      "processing record 34 | merrill\n",
      "processing record 35 | cape town\n",
      "processing record 36 | naze\n",
      "processing record 37 | along\n",
      "processing record 38 | arlit\n",
      "processing record 39 | hobart\n",
      "processing record 40 | kruisfontein\n",
      "processing record 41 | saint george\n",
      "processing record 42 | chapais\n",
      "processing record 43 | morganton\n",
      "processing record 44 | yar-sale\n",
      "processing record 45 | cidreira\n",
      "processing record 46 | ribeira grande\n",
      "processing record 47 | rikitea\n",
      "processing record 48 | mataura\n",
      "processing record 49 | east london\n",
      "processing record 50 | upernavik\n",
      "processing record 51 | havre-saint-pierre\n",
      "processing record 52 | faanui\n",
      "processing record 53 | bognor regis\n",
      "processing record 54 | west bay\n",
      "processing record 55 | semporna\n",
      "processing record 56 | newcastle\n",
      "processing record 57 | mar del plata\n",
      "processing record 58 | bredasdorp\n",
      "processing record 59 | hermanus\n",
      "processing record 60 | den helder\n",
      "processing record 61 | mahebourg\n",
      "processing record 62 | aklavik\n",
      "processing record 63 | shihezi\n",
      "processing record 64 | kaitangata\n",
      "processing record 65 | kamenka\n",
      "processing record 66 | talnakh\n",
      "processing record 67 | hovd\n",
      "processing record 68 | chernyakhiv\n",
      "processing record 69 | port alfred\n",
      "processing record 70 | asau\n",
      "city not found, skipping to next!\n",
      "processing record 71 | lebu\n",
      "city not found, skipping to next!\n",
      "processing record 72 | aksha\n",
      "city not found, skipping to next!\n",
      "processing record 73 | krasnaya gora\n",
      "processing record 74 | puerto ayora\n",
      "processing record 75 | airai\n",
      "processing record 76 | kavaratti\n",
      "processing record 77 | butterworth\n",
      "processing record 78 | chokurdakh\n",
      "processing record 79 | dubai\n",
      "processing record 80 | ugoofaaru\n",
      "processing record 81 | carnarvon\n",
      "city not found, skipping to next!\n",
      "processing record 82 | pulawy\n",
      "processing record 83 | chumikan\n",
      "processing record 84 | santo andre\n",
      "processing record 85 | butaritari\n",
      "processing record 86 | tuktoyaktuk\n",
      "processing record 87 | turinsk\n",
      "processing record 88 | bakchar\n",
      "processing record 89 | isangel\n",
      "processing record 90 | daru\n",
      "city not found, skipping to next!\n",
      "processing record 91 | college\n",
      "processing record 92 | tarnogskiy gorodok\n",
      "processing record 93 | maniitsoq\n",
      "processing record 94 | srednekolymsk\n",
      "processing record 95 | nerchinskiy zavod\n",
      "processing record 96 | zlitan\n",
      "processing record 97 | lodja\n",
      "processing record 98 | hithadhoo\n",
      "city not found, skipping to next!\n",
      "processing record 99 | beyneu\n",
      "processing record 100 | santa fe\n",
      "processing record 101 | paamiut\n",
      "processing record 102 | esperance\n",
      "processing record 103 | new norfolk\n",
      "processing record 104 | andros town\n",
      "city not found, skipping to next!\n",
      "processing record 105 | ust-kulom\n",
      "processing record 106 | priladozhskiy\n",
      "processing record 107 | kirkenaer\n",
      "processing record 108 | ciechanow\n",
      "processing record 109 | basco\n",
      "processing record 110 | maxixe\n",
      "processing record 111 | mount isa\n",
      "processing record 112 | nikolskoye\n",
      "processing record 113 | kavieng\n",
      "processing record 114 | hambantota\n",
      "city not found, skipping to next!\n",
      "processing record 115 | soyo\n",
      "processing record 116 | rybnaya sloboda\n",
      "processing record 117 | nanchang\n",
      "processing record 118 | bethel\n",
      "processing record 119 | nouadhibou\n",
      "processing record 120 | longyearbyen\n",
      "processing record 121 | hilo\n",
      "processing record 122 | progreso\n",
      "processing record 123 | leh\n",
      "processing record 124 | kyra\n",
      "processing record 125 | waycross\n",
      "processing record 126 | hamilton\n",
      "processing record 127 | kumo\n",
      "processing record 128 | labuhan\n",
      "processing record 129 | bambous virieux\n",
      "processing record 130 | ahipara\n",
      "processing record 131 | cherskiy\n",
      "processing record 132 | oktyabrskoye\n",
      "city not found, skipping to next!\n",
      "processing record 133 | provideniya\n",
      "processing record 134 | codrington\n",
      "processing record 135 | pacific grove\n",
      "processing record 136 | sabang\n",
      "processing record 137 | paso de los toros\n",
      "processing record 138 | bluff\n",
      "processing record 139 | vila velha\n",
      "processing record 140 | los llanos de aridane\n",
      "city not found, skipping to next!\n",
      "processing record 141 | madimba\n",
      "city not found, skipping to next!\n",
      "processing record 142 | vila franca do campo\n",
      "processing record 143 | norman wells\n",
      "processing record 144 | kapaa\n",
      "processing record 145 | zhigansk\n",
      "city not found, skipping to next!\n",
      "processing record 146 | casas grandes\n",
      "processing record 147 | balikpapan\n",
      "processing record 148 | faya\n",
      "processing record 149 | prince rupert\n",
      "processing record 150 | luderitz\n",
      "processing record 151 | davila\n",
      "processing record 152 | alice springs\n",
      "processing record 153 | khatanga\n",
      "processing record 154 | noumea\n",
      "processing record 155 | roma\n",
      "processing record 156 | beipiao\n",
      "processing record 157 | varzea grande\n",
      "processing record 158 | pisco\n",
      "processing record 159 | bismarck\n",
      "processing record 160 | banda aceh\n",
      "processing record 161 | liaocheng\n",
      "processing record 162 | lompoc\n",
      "processing record 163 | richards bay\n",
      "processing record 164 | thompson\n",
      "city not found, skipping to next!\n",
      "processing record 165 | nome\n",
      "processing record 166 | saint-philippe\n",
      "processing record 167 | lazaro cardenas\n",
      "processing record 168 | toora-khem\n",
      "processing record 169 | khadyzhensk\n",
      "processing record 170 | rodeo\n",
      "processing record 171 | brae\n",
      "processing record 172 | victoria\n",
      "processing record 173 | sur\n",
      "processing record 174 | visby\n",
      "city not found, skipping to next!\n",
      "processing record 175 | vagay\n",
      "processing record 176 | soure\n",
      "processing record 177 | lagoa\n",
      "city not found, skipping to next!\n",
      "city not found, skipping to next!\n",
      "processing record 178 | gladstone\n",
      "processing record 179 | broome\n",
      "city not found, skipping to next!\n",
      "processing record 180 | kaeo\n",
      "processing record 181 | alofi\n",
      "processing record 182 | saskylakh\n",
      "processing record 183 | mogadishu\n",
      "processing record 184 | quatre cocos\n",
      "city not found, skipping to next!\n",
      "processing record 185 | bathsheba\n",
      "processing record 186 | pevek\n",
      "processing record 187 | vao\n",
      "processing record 188 | viedma\n",
      "processing record 189 | harper\n",
      "city not found, skipping to next!\n",
      "processing record 190 | cap-aux-meules\n",
      "processing record 191 | narsaq\n",
      "processing record 192 | khani\n",
      "processing record 193 | torbay\n",
      "processing record 194 | port hardy\n",
      "processing record 195 | camacha\n",
      "processing record 196 | merauke\n",
      "processing record 197 | sitka\n",
      "processing record 198 | leningradskiy\n",
      "processing record 199 | herat\n",
      "processing record 200 | nara\n",
      "processing record 201 | atar\n",
      "city not found, skipping to next!\n",
      "processing record 202 | tilichiki\n",
      "processing record 203 | nishihara\n",
      "processing record 204 | zhezkazgan\n",
      "processing record 205 | namatanai\n",
      "processing record 206 | kiruna\n",
      "processing record 207 | mantua\n",
      "processing record 208 | praya\n",
      "processing record 209 | georgetown\n",
      "processing record 210 | la reforma\n",
      "processing record 211 | tura\n",
      "processing record 212 | castro\n",
      "processing record 213 | husavik\n",
      "processing record 214 | ulaanbaatar\n",
      "processing record 215 | jacareacanga\n",
      "processing record 216 | shestakovo\n",
      "city not found, skipping to next!\n",
      "processing record 217 | jeremie\n",
      "processing record 218 | vilyuysk\n",
      "processing record 219 | rocha\n",
      "processing record 220 | bolivar\n",
      "processing record 221 | uinskoye\n",
      "processing record 222 | parrita\n",
      "processing record 223 | dawei\n",
      "processing record 224 | gambela\n"
     ]
    },
    {
     "name": "stdout",
     "output_type": "stream",
     "text": [
      "processing record 225 | tabou\n",
      "processing record 226 | sikonge\n",
      "processing record 227 | alencon\n",
      "processing record 228 | lima\n",
      "processing record 229 | ancud\n",
      "processing record 230 | dingle\n",
      "processing record 231 | ishigaki\n",
      "processing record 232 | vila do maio\n",
      "processing record 233 | marawi\n",
      "processing record 234 | tuatapere\n",
      "processing record 235 | beloha\n",
      "processing record 236 | westport\n",
      "processing record 237 | saint-pierre\n",
      "processing record 238 | beringovskiy\n",
      "processing record 239 | fishers\n",
      "processing record 240 | camocim\n",
      "processing record 241 | kodiak\n",
      "processing record 242 | shalya\n",
      "processing record 243 | necochea\n",
      "processing record 244 | kenai\n",
      "processing record 245 | rapid valley\n",
      "processing record 246 | brookhaven\n",
      "processing record 247 | upata\n",
      "processing record 248 | yellowknife\n",
      "processing record 249 | olafsvik\n",
      "processing record 250 | porto velho\n",
      "processing record 251 | maraba\n",
      "processing record 252 | warrnambool\n",
      "processing record 253 | hofn\n",
      "processing record 254 | ponta do sol\n",
      "processing record 255 | andros\n",
      "processing record 256 | clyde river\n",
      "city not found, skipping to next!\n",
      "processing record 257 | kogon\n",
      "processing record 258 | korla\n",
      "processing record 259 | ixtapa\n",
      "processing record 260 | constitucion\n",
      "processing record 261 | bara\n",
      "processing record 262 | jalu\n",
      "processing record 263 | mahibadhoo\n",
      "processing record 264 | mount gambier\n",
      "processing record 265 | eureka\n",
      "processing record 266 | marapanim\n",
      "city not found, skipping to next!\n",
      "processing record 267 | berdigestyakh\n",
      "processing record 268 | kalianget\n",
      "processing record 269 | manokwari\n",
      "processing record 270 | buluang\n",
      "processing record 271 | glendive\n",
      "processing record 272 | lorengau\n",
      "processing record 273 | yei\n",
      "processing record 274 | norden\n",
      "processing record 275 | aban\n",
      "processing record 276 | sun city west\n",
      "processing record 277 | bud\n",
      "processing record 278 | nuevo progreso\n",
      "city not found, skipping to next!\n",
      "processing record 279 | pedernales\n",
      "processing record 280 | annau\n",
      "processing record 281 | trelew\n",
      "processing record 282 | botwood\n",
      "processing record 283 | la ronge\n",
      "processing record 284 | avera\n",
      "processing record 285 | bubaque\n",
      "processing record 286 | souillac\n",
      "processing record 287 | itamaraca\n",
      "processing record 288 | ravar\n",
      "processing record 289 | yaan\n",
      "processing record 290 | san cristobal\n",
      "processing record 291 | genhe\n",
      "processing record 292 | rio gallegos\n",
      "processing record 293 | kudahuvadhoo\n",
      "processing record 294 | nemuro\n",
      "processing record 295 | muisne\n",
      "city not found, skipping to next!\n",
      "city not found, skipping to next!\n",
      "processing record 296 | tomohon\n",
      "processing record 297 | izumo\n",
      "processing record 298 | northam\n",
      "processing record 299 | olinda\n",
      "processing record 300 | qaanaaq\n",
      "processing record 301 | igarka\n",
      "processing record 302 | poum\n",
      "processing record 303 | tripoli\n",
      "processing record 304 | wismar\n",
      "processing record 305 | luau\n",
      "city not found, skipping to next!\n",
      "processing record 306 | neuquen\n",
      "processing record 307 | vilcun\n",
      "processing record 308 | conway\n",
      "processing record 309 | kvitok\n",
      "processing record 310 | kondinskoye\n",
      "processing record 311 | deputatskiy\n",
      "processing record 312 | abu dhabi\n",
      "processing record 313 | polunochnoye\n",
      "processing record 314 | port hedland\n",
      "processing record 315 | puerto escondido\n",
      "processing record 316 | arica\n",
      "city not found, skipping to next!\n",
      "processing record 317 | vuktyl\n",
      "city not found, skipping to next!\n",
      "processing record 318 | gobabis\n",
      "processing record 319 | guane\n",
      "processing record 320 | mitu\n",
      "city not found, skipping to next!\n",
      "processing record 321 | hasaki\n",
      "processing record 322 | port macquarie\n",
      "processing record 323 | padang\n",
      "processing record 324 | paranga\n",
      "city not found, skipping to next!\n",
      "processing record 325 | najran\n",
      "processing record 326 | suntar\n",
      "processing record 327 | geraldton\n",
      "processing record 328 | kemin\n",
      "processing record 329 | severobaykalsk\n",
      "city not found, skipping to next!\n",
      "processing record 330 | key west\n",
      "processing record 331 | christchurch\n",
      "processing record 332 | jatai\n",
      "processing record 333 | san quintin\n",
      "processing record 334 | basoko\n",
      "processing record 335 | owen sound\n",
      "processing record 336 | touros\n",
      "processing record 337 | san isidro\n",
      "processing record 338 | bonavista\n",
      "city not found, skipping to next!\n",
      "processing record 339 | borogontsy\n",
      "processing record 340 | kieta\n",
      "processing record 341 | grindavik\n",
      "city not found, skipping to next!\n",
      "processing record 342 | fecamp\n",
      "city not found, skipping to next!\n",
      "processing record 343 | nova olinda do norte\n",
      "processing record 344 | luneville\n",
      "processing record 345 | atbasar\n",
      "processing record 346 | kharan\n",
      "processing record 347 | bonthe\n",
      "processing record 348 | saint-donat-de-montcalm\n",
      "processing record 349 | bunia\n",
      "processing record 350 | corinto\n",
      "city not found, skipping to next!\n",
      "processing record 351 | boyolangu\n",
      "processing record 352 | alta floresta\n",
      "processing record 353 | fukue\n",
      "processing record 354 | seydi\n",
      "processing record 355 | zhuanghe\n",
      "processing record 356 | santa vitoria\n",
      "city not found, skipping to next!\n",
      "processing record 357 | aykhal\n",
      "processing record 358 | galle\n",
      "processing record 359 | inhambane\n",
      "processing record 360 | krasnoshchekovo\n",
      "processing record 361 | biltine\n",
      "city not found, skipping to next!\n",
      "processing record 362 | bengkulu\n",
      "processing record 363 | maumere\n",
      "processing record 364 | polonnaruwa\n",
      "processing record 365 | santa cruz\n",
      "processing record 366 | kloulklubed\n",
      "processing record 367 | fairbanks\n",
      "processing record 368 | marsh harbour\n",
      "processing record 369 | alamosa\n",
      "processing record 370 | ratnagiri\n",
      "processing record 371 | chernyy yar\n",
      "processing record 372 | ban nahin\n",
      "processing record 373 | sukhothai\n",
      "processing record 374 | kailua\n",
      "processing record 375 | guerrero negro\n",
      "processing record 376 | sonoita\n",
      "processing record 377 | salalah\n",
      "processing record 378 | tomatlan\n",
      "processing record 379 | iquique\n",
      "processing record 380 | los algarrobos\n",
      "processing record 381 | flinders\n",
      "processing record 382 | phulabani\n",
      "city not found, skipping to next!\n",
      "processing record 383 | kawalu\n",
      "processing record 384 | vieira de leiria\n",
      "processing record 385 | caraz\n",
      "processing record 386 | kitimat\n",
      "processing record 387 | hobyo\n",
      "processing record 388 | san francisco\n",
      "processing record 389 | yumen\n",
      "processing record 390 | atambua\n",
      "processing record 391 | kisiwani\n",
      "processing record 392 | vysokogornyy\n",
      "processing record 393 | trincomalee\n",
      "processing record 394 | buala\n",
      "processing record 395 | saint-joseph\n",
      "processing record 396 | anjangaon\n",
      "city not found, skipping to next!\n",
      "processing record 397 | ola\n",
      "processing record 398 | rockport\n",
      "processing record 399 | saint anthony\n",
      "processing record 400 | scarborough\n",
      "processing record 401 | mazatlan\n",
      "processing record 402 | linhares\n",
      "processing record 403 | nanortalik\n",
      "processing record 404 | lavrentiya\n",
      "processing record 405 | zadar\n",
      "processing record 406 | pucara\n",
      "processing record 407 | kirakira\n",
      "processing record 408 | fauske\n",
      "city not found, skipping to next!\n",
      "processing record 409 | puerto quijarro\n",
      "processing record 410 | porto novo\n",
      "processing record 411 | felipe carrillo puerto\n",
      "processing record 412 | guanare\n",
      "processing record 413 | leninskoye\n",
      "processing record 414 | skibbereen\n",
      "city not found, skipping to next!\n",
      "processing record 415 | ukiah\n",
      "processing record 416 | orlik\n",
      "processing record 417 | south valley\n",
      "city not found, skipping to next!\n",
      "processing record 418 | oriximina\n",
      "processing record 419 | luba\n",
      "processing record 420 | bahia blanca\n",
      "processing record 421 | piacabucu\n",
      "city not found, skipping to next!\n",
      "processing record 422 | salto\n",
      "city not found, skipping to next!\n",
      "processing record 423 | nador\n",
      "processing record 424 | port hawkesbury\n",
      "processing record 425 | epe\n",
      "processing record 426 | adrar\n",
      "processing record 427 | walla walla\n",
      "processing record 428 | chimore\n",
      "processing record 429 | san juan\n",
      "processing record 430 | kisangani\n",
      "city not found, skipping to next!\n",
      "processing record 431 | ruteng\n",
      "processing record 432 | port moresby\n",
      "processing record 433 | tupelo\n",
      "processing record 434 | laguna\n",
      "processing record 435 | sao sebastiao\n",
      "processing record 436 | kismayo\n",
      "city not found, skipping to next!\n",
      "processing record 437 | tautira\n",
      "city not found, skipping to next!\n",
      "processing record 438 | glyadyanskoye\n",
      "processing record 439 | caravelas\n",
      "processing record 440 | edson\n",
      "processing record 441 | mackay\n",
      "processing record 442 | oistins\n",
      "processing record 443 | doha\n"
     ]
    },
    {
     "name": "stdout",
     "output_type": "stream",
     "text": [
      "processing record 444 | karratha\n",
      "processing record 445 | hami\n",
      "processing record 446 | lata\n",
      "processing record 447 | sambava\n",
      "processing record 448 | tessalit\n",
      "processing record 449 | anadyr\n",
      "processing record 450 | kibala\n",
      "processing record 451 | dali\n",
      "processing record 452 | gafanha da encarnacao\n",
      "processing record 453 | portland\n",
      "city not found, skipping to next!\n",
      "processing record 454 | mackenzie\n",
      "processing record 455 | haines junction\n",
      "processing record 456 | ipora\n",
      "processing record 457 | severo-kurilsk\n",
      "processing record 458 | miquelon\n",
      "processing record 459 | siatista\n",
      "processing record 460 | vanavara\n",
      "processing record 461 | vinogradnyy\n",
      "processing record 462 | galich\n",
      "processing record 463 | coquimbo\n",
      "city not found, skipping to next!\n",
      "processing record 464 | nouakchott\n",
      "processing record 465 | berga\n",
      "processing record 466 | axim\n",
      "processing record 467 | staryy nadym\n",
      "processing record 468 | villanueva\n",
      "processing record 469 | jiaohe\n",
      "processing record 470 | pacifica\n",
      "processing record 471 | margate\n",
      "processing record 472 | macapa\n",
      "processing record 473 | nueve de julio\n",
      "processing record 474 | carlos antonio lopez\n",
      "processing record 475 | bull savanna\n",
      "processing record 476 | raga\n",
      "processing record 477 | luzhou\n",
      "processing record 478 | kununurra\n",
      "processing record 479 | talcahuano\n",
      "processing record 480 | tarut\n",
      "processing record 481 | yinchuan\n",
      "processing record 482 | kangaatsiaq\n",
      "processing record 483 | gimli\n",
      "processing record 484 | puerto carreno\n",
      "processing record 485 | phuket\n",
      "processing record 486 | barreirinhas\n",
      "processing record 487 | hirara\n",
      "processing record 488 | kimberley\n",
      "processing record 489 | zurrieq\n",
      "processing record 490 | megion\n",
      "processing record 491 | ampanihy\n",
      "processing record 492 | cururupu\n",
      "processing record 493 | douglas\n",
      "city not found, skipping to next!\n",
      "processing record 494 | shellbrook\n",
      "processing record 495 | sinnamary\n",
      "processing record 496 | manthani\n",
      "processing record 497 | fortuna\n",
      "processing record 498 | biak\n",
      "processing record 499 | tual\n",
      "processing record 500 | belaya gora\n",
      "processing record 501 | ketchikan\n",
      "processing record 502 | marsa matruh\n",
      "processing record 503 | kapoeta\n",
      "processing record 504 | fonte boa\n",
      "processing record 505 | nipawin\n",
      "processing record 506 | clarence town\n",
      "processing record 507 | tubuala\n",
      "processing record 508 | saldanha\n",
      "processing record 509 | dakar\n",
      "processing record 510 | koutiala\n",
      "processing record 511 | walvis bay\n",
      "processing record 512 | moron\n",
      "processing record 513 | novyy urengoy\n",
      "processing record 514 | coahuayana\n",
      "processing record 515 | amapa\n",
      "processing record 516 | isla vista\n",
      "processing record 517 | qasigiannguit\n",
      "city not found, skipping to next!\n",
      "processing record 518 | owatonna\n",
      "processing record 519 | natal\n",
      "processing record 520 | erzin\n",
      "city not found, skipping to next!\n",
      "processing record 521 | grand baie\n",
      "processing record 522 | aljezur\n",
      "processing record 523 | malmo\n",
      "processing record 524 | samarai\n",
      "processing record 525 | sola\n",
      "processing record 526 | sao filipe\n",
      "processing record 527 | kuhdasht\n",
      "processing record 528 | yulara\n",
      "processing record 529 | mao\n",
      "processing record 530 | cascais\n",
      "processing record 531 | lahat\n",
      "processing record 532 | fuyu\n",
      "processing record 533 | taltal\n",
      "processing record 534 | novopokrovka\n",
      "processing record 535 | drummondville\n",
      "processing record 536 | izhma\n",
      "processing record 537 | kuytun\n",
      "processing record 538 | the valley\n",
      "processing record 539 | pasni\n",
      "processing record 540 | chistogorskiy\n",
      "processing record 541 | atherton\n",
      "processing record 542 | honiara\n",
      "processing record 543 | vicente guerrero\n",
      "city not found, skipping to next!\n",
      "processing record 544 | tromso\n",
      "processing record 545 | bhadrachalam\n",
      "processing record 546 | hammerfest\n",
      "processing record 547 | bilma\n",
      "processing record 548 | bilibino\n",
      "processing record 549 | juli\n",
      "processing record 550 | benalla\n",
      "processing record 551 | yerbogachen\n",
      "processing record 552 | honningsvag\n",
      "city not found, skipping to next!\n",
      "processing record 553 | santa rosa\n",
      "processing record 554 | san patricio\n",
      "processing record 555 | antofagasta\n",
      "processing record 556 | matara\n",
      "processing record 557 | killybegs\n",
      "processing record 558 | klyuchi\n",
      "processing record 559 | luanda\n",
      "processing record 560 | gazojak\n",
      "processing record 561 | timra\n",
      "processing record 562 | oussouye\n",
      "city not found, skipping to next!\n",
      "processing record 563 | maryborough\n",
      "processing record 564 | oyama\n",
      "processing record 565 | praia da vitoria\n",
      "processing record 566 | houma\n",
      "processing record 567 | sao jose da coroa grande\n",
      "processing record 568 | sobolevo\n",
      "processing record 569 | asha\n",
      "processing record 570 | mbuguni\n",
      "processing record 571 | quchan\n",
      "processing record 572 | klerksdorp\n",
      "processing record 573 | bocaiuva\n",
      "processing record 574 | stephenville\n",
      "processing record 575 | mahon\n",
      "processing record 576 | verkhnetulomskiy\n",
      "processing record 577 | rio grande\n",
      "processing record 578 | florianopolis\n"
     ]
    }
   ],
   "source": [
    "city = []\n",
    "lat = []\n",
    "lng = []\n",
    "max_temp = []\n",
    "humidity = []\n",
    "cloudiness = []\n",
    "wind_speed = []\n",
    "country = []\n",
    "date = []\n",
    "\n",
    "records = 1\n",
    "\n",
    "print('Beginning Data Retrieval')\n",
    "print('------------------------------')\n",
    "\n",
    "for citi in cities:\n",
    "    url = f\"http://api.openweathermap.org/data/2.5/weather?q={citi}&appid={weather_api_key}\"\n",
    "    response = requests.get(url).json()\n",
    "    time.sleep(1.1)\n",
    "\n",
    "    try:\n",
    "        city.append(response['name'])\n",
    "        lat.append(response['coord']['lat'])\n",
    "        lng.append(response['coord']['lon'])\n",
    "        max_temp.append(response['main']['temp_max'])\n",
    "        humidity.append(response['main']['humidity'])\n",
    "        cloudiness.append(response['clouds']['all'])\n",
    "        wind_speed.append(response['wind']['speed'])\n",
    "        country.append(response['sys']['country'])\n",
    "        date.append(response['dt'])\n",
    "        print(f\"processing record {records} | {citi}\")\n",
    "        records += 1\n",
    "    except KeyError:\n",
    "        print('city not found, skipping to next!')"
   ]
  },
  {
   "cell_type": "code",
   "execution_count": null,
   "metadata": {},
   "outputs": [],
   "source": []
  },
  {
   "cell_type": "markdown",
   "metadata": {},
   "source": [
    "### Convert Raw Data to DataFrame\n",
    "* Export the city data into a .csv.\n",
    "* Display the DataFrame"
   ]
  },
  {
   "cell_type": "code",
   "execution_count": 7,
   "metadata": {},
   "outputs": [],
   "source": [
    "# Create the DataFrame\n",
    "\n",
    "weather_dict = {\"City\": city,\n",
    "                \"Lat\": lat,\n",
    "                \"Lng\": lng,\n",
    "                \"Max Temp (F)\": max_temp,\n",
    "                \"Humidity\": humidity,\n",
    "                \"Cloudiness\": cloudiness,\n",
    "                \"Country\": country,\n",
    "                \"Wind Speed\": wind_speed,\n",
    "                \"Date\": date}"
   ]
  },
  {
   "cell_type": "code",
   "execution_count": 8,
   "metadata": {},
   "outputs": [
    {
     "data": {
      "text/html": [
       "<div>\n",
       "<style scoped>\n",
       "    .dataframe tbody tr th:only-of-type {\n",
       "        vertical-align: middle;\n",
       "    }\n",
       "\n",
       "    .dataframe tbody tr th {\n",
       "        vertical-align: top;\n",
       "    }\n",
       "\n",
       "    .dataframe thead th {\n",
       "        text-align: right;\n",
       "    }\n",
       "</style>\n",
       "<table border=\"1\" class=\"dataframe\">\n",
       "  <thead>\n",
       "    <tr style=\"text-align: right;\">\n",
       "      <th></th>\n",
       "      <th>City</th>\n",
       "      <th>Lat</th>\n",
       "      <th>Lng</th>\n",
       "      <th>Max Temp (F)</th>\n",
       "      <th>Humidity</th>\n",
       "      <th>Cloudiness</th>\n",
       "      <th>Country</th>\n",
       "      <th>Wind Speed</th>\n",
       "      <th>Date</th>\n",
       "    </tr>\n",
       "  </thead>\n",
       "  <tbody>\n",
       "    <tr>\n",
       "      <th>0</th>\n",
       "      <td>Arraial do Cabo</td>\n",
       "      <td>-22.97</td>\n",
       "      <td>-42.03</td>\n",
       "      <td>297.15</td>\n",
       "      <td>88</td>\n",
       "      <td>75</td>\n",
       "      <td>BR</td>\n",
       "      <td>2.60</td>\n",
       "      <td>1608841118</td>\n",
       "    </tr>\n",
       "    <tr>\n",
       "      <th>1</th>\n",
       "      <td>Chui</td>\n",
       "      <td>-33.70</td>\n",
       "      <td>-53.46</td>\n",
       "      <td>296.88</td>\n",
       "      <td>71</td>\n",
       "      <td>8</td>\n",
       "      <td>UY</td>\n",
       "      <td>6.76</td>\n",
       "      <td>1608841130</td>\n",
       "    </tr>\n",
       "    <tr>\n",
       "      <th>2</th>\n",
       "      <td>Tiksi</td>\n",
       "      <td>71.69</td>\n",
       "      <td>128.87</td>\n",
       "      <td>244.25</td>\n",
       "      <td>88</td>\n",
       "      <td>100</td>\n",
       "      <td>RU</td>\n",
       "      <td>4.72</td>\n",
       "      <td>1608841131</td>\n",
       "    </tr>\n",
       "    <tr>\n",
       "      <th>3</th>\n",
       "      <td>La Rioja</td>\n",
       "      <td>42.25</td>\n",
       "      <td>-2.50</td>\n",
       "      <td>281.15</td>\n",
       "      <td>70</td>\n",
       "      <td>75</td>\n",
       "      <td>ES</td>\n",
       "      <td>5.70</td>\n",
       "      <td>1608841134</td>\n",
       "    </tr>\n",
       "    <tr>\n",
       "      <th>4</th>\n",
       "      <td>Punta Arenas</td>\n",
       "      <td>-53.15</td>\n",
       "      <td>-70.92</td>\n",
       "      <td>286.15</td>\n",
       "      <td>53</td>\n",
       "      <td>75</td>\n",
       "      <td>CL</td>\n",
       "      <td>18.50</td>\n",
       "      <td>1608841074</td>\n",
       "    </tr>\n",
       "  </tbody>\n",
       "</table>\n",
       "</div>"
      ],
      "text/plain": [
       "              City    Lat     Lng  Max Temp (F)  Humidity  Cloudiness Country  \\\n",
       "0  Arraial do Cabo -22.97  -42.03        297.15        88          75      BR   \n",
       "1             Chui -33.70  -53.46        296.88        71           8      UY   \n",
       "2            Tiksi  71.69  128.87        244.25        88         100      RU   \n",
       "3         La Rioja  42.25   -2.50        281.15        70          75      ES   \n",
       "4     Punta Arenas -53.15  -70.92        286.15        53          75      CL   \n",
       "\n",
       "   Wind Speed        Date  \n",
       "0        2.60  1608841118  \n",
       "1        6.76  1608841130  \n",
       "2        4.72  1608841131  \n",
       "3        5.70  1608841134  \n",
       "4       18.50  1608841074  "
      ]
     },
     "execution_count": 8,
     "metadata": {},
     "output_type": "execute_result"
    }
   ],
   "source": [
    "#Export to a .csv\n",
    "\n",
    "weather_data_df = pd.DataFrame(weather_dict)\n",
    "\n",
    "weather_data_df.head()"
   ]
  },
  {
   "cell_type": "code",
   "execution_count": 9,
   "metadata": {},
   "outputs": [],
   "source": [
    "weather_data_df.to_csv(\"../output_data/WeatherDataCities.csv\", index=False, header=True)"
   ]
  },
  {
   "cell_type": "markdown",
   "metadata": {},
   "source": [
    "## Inspect the data and remove the cities where the humidity > 100%.\n",
    "----\n",
    "Skip this step if there are no cities that have humidity > 100%. "
   ]
  },
  {
   "cell_type": "code",
   "execution_count": 11,
   "metadata": {},
   "outputs": [
    {
     "data": {
      "text/plain": [
       "0"
      ]
     },
     "execution_count": 11,
     "metadata": {},
     "output_type": "execute_result"
    }
   ],
   "source": [
    "#  Get the indices of cities that have humidity over 100%.\n",
    "hum_100 = weather_data_df.loc[weather_data_df['Humidity']>100]\n",
    "\n",
    "hum_100.shape[0]\n"
   ]
  },
  {
   "cell_type": "code",
   "execution_count": 13,
   "metadata": {},
   "outputs": [
    {
     "name": "stdout",
     "output_type": "stream",
     "text": [
      "There are 0 cities with humidity greater than 100.\n"
     ]
    }
   ],
   "source": [
    "print(f\"There are {hum_100.shape[0]} cities with humidity greater than 100.\")"
   ]
  },
  {
   "cell_type": "code",
   "execution_count": 16,
   "metadata": {},
   "outputs": [
    {
     "name": "stdout",
     "output_type": "stream",
     "text": [
      " Since we have 0 cities with humidity greater than 100, there is no need to clean the DataFrame.\n"
     ]
    }
   ],
   "source": [
    "# Make a new DataFrame equal to the city data to drop all humidity outliers by index.\n",
    "# Passing \"inplace=False\" will make a copy of the city_data DataFrame, which we call \"clean_city_data\".\n",
    "print(f\" Since we have {hum_100.shape[0]} cities with humidity greater than 100, there is no need to clean the DataFrame.\")"
   ]
  },
  {
   "cell_type": "markdown",
   "metadata": {},
   "source": [
    "## Plotting the Data\n",
    "* Use proper labeling of the plots using plot titles (including date of analysis) and axes labels.\n",
    "* Save the plotted figures as .pngs."
   ]
  },
  {
   "cell_type": "markdown",
   "metadata": {},
   "source": [
    "## Latitude vs. Temperature Plot"
   ]
  },
  {
   "cell_type": "code",
   "execution_count": 19,
   "metadata": {
    "scrolled": true
   },
   "outputs": [
    {
     "data": {
      "image/png": "[encoded data removed]",
      "text/plain": [
       "<Figure size 432x288 with 1 Axes>"
      ]
     },
     "metadata": {
      "needs_background": "light"
     },
     "output_type": "display_data"
    }
   ],
   "source": [
    "# Now we can use plt.scatter to create our graphs \"Latitude Vs Temperature\"\n",
    "plt.scatter(weather_data_df[\"Lat\"],weather_data_df[\"Max Temp (F)\"],marker =\"s\")\n",
    "plt.title(\"Temperature (F) vs Latitude\")\n",
    "plt.xlabel(\"Latitude\")\n",
    "plt.ylabel(\"Max Temp (F)\")\n",
    "plt.savefig(\"../output_data/Latitude vs Temperature (F)\")\n",
    "plt.show()"
   ]
  },
  {
   "cell_type": "markdown",
   "metadata": {},
   "source": [
    "## Latitude vs. Humidity Plot"
   ]
  },
  {
   "cell_type": "code",
   "execution_count": 20,
   "metadata": {},
   "outputs": [
    {
     "data": {
      "image/png": "[encoded data removed]",
      "text/plain": [
       "<Figure size 432x288 with 1 Axes>"
      ]
     },
     "metadata": {
      "needs_background": "light"
     },
     "output_type": "display_data"
    }
   ],
   "source": [
    "# Now we can use plt.scatter to create our graphs \"Latitude vs. Humidity \"\n",
    "plt.scatter(weather_data_df[\"Lat\"],weather_data_df[\"Humidity\"],marker =\"s\")\n",
    "plt.title(\"Latitude vs. Humidity \")\n",
    "plt.xlabel(\"Latitude\")\n",
    "plt.ylabel(\"Humidity\")\n",
    "plt.savefig(\"../output_data/Latitude vs Humidity\")\n",
    "plt.show()"
   ]
  },
  {
   "cell_type": "markdown",
   "metadata": {},
   "source": [
    "## Latitude vs. Cloudiness Plot"
   ]
  },
  {
   "cell_type": "code",
   "execution_count": 21,
   "metadata": {},
   "outputs": [
    {
     "data": {
      "image/png": "[encoded data removed]",
      "text/plain": [
       "<Figure size 432x288 with 1 Axes>"
      ]
     },
     "metadata": {
      "needs_background": "light"
     },
     "output_type": "display_data"
    }
   ],
   "source": [
    "# Now we can use plt.scatter to create our graphs \"Latitude vs. Cloudiness\"\n",
    "plt.scatter(weather_data_df[\"Lat\"],weather_data_df[\"Cloudiness\"],marker =\"s\")\n",
    "plt.title(\"Latitude vs Cloudiness\")\n",
    "plt.xlabel(\"Latitude\")\n",
    "plt.ylabel(\"Cloudiness\")\n",
    "plt.savefig(\"../output_data/Latitude vs Cloudiness\")\n",
    "plt.show()"
   ]
  },
  {
   "cell_type": "markdown",
   "metadata": {},
   "source": [
    "## Latitude vs. Wind Speed Plot"
   ]
  },
  {
   "cell_type": "code",
   "execution_count": 22,
   "metadata": {},
   "outputs": [
    {
     "data": {
      "image/png": "[encoded data removed]",
      "text/plain": [
       "<Figure size 432x288 with 1 Axes>"
      ]
     },
     "metadata": {
      "needs_background": "light"
     },
     "output_type": "display_data"
    }
   ],
   "source": [
    "# Now we can use plt.scatter to create our graphs \"Latitude Vs Temperature\"\n",
    "plt.scatter(weather_data_df[\"Lat\"],weather_data_df[\"Wind Speed\"],marker =\"s\")\n",
    "plt.title(\"Latitude vs Wind Speed\")\n",
    "plt.xlabel(\"Latitude\")\n",
    "plt.ylabel(\"Wind Speed\")\n",
    "plt.savefig(\"../output_data/Latitude vs Wind Speed\")\n",
    "plt.show()"
   ]
  },
  {
   "cell_type": "markdown",
   "metadata": {},
   "source": [
    "## Linear Regression"
   ]
  },
  {
   "cell_type": "code",
   "execution_count": 31,
   "metadata": {},
   "outputs": [],
   "source": [
    "northen_hemisphere = weather_data_df.loc[pd.to_numeric(weather_data_df['Lat']).astype(float)>0, :]\n",
    "southern_hemisphere = weather_data_df.loc[pd.to_numeric(weather_data_df['Lat']).astype(float)<0, :]\n"
   ]
  },
  {
   "cell_type": "code",
   "execution_count": 32,
   "metadata": {
    "scrolled": true
   },
   "outputs": [
    {
     "data": {
      "text/plain": [
       "396"
      ]
     },
     "execution_count": 32,
     "metadata": {},
     "output_type": "execute_result"
    }
   ],
   "source": [
    "len(northen_hemisphere)"
   ]
  },
  {
   "cell_type": "code",
   "execution_count": 33,
   "metadata": {},
   "outputs": [
    {
     "data": {
      "text/plain": [
       "182"
      ]
     },
     "execution_count": 33,
     "metadata": {},
     "output_type": "execute_result"
    }
   ],
   "source": [
    "len(southern_hemisphere)"
   ]
  },
  {
   "cell_type": "code",
   "execution_count": 34,
   "metadata": {
    "scrolled": true
   },
   "outputs": [
    {
     "data": {
      "text/plain": [
       "578"
      ]
     },
     "execution_count": 34,
     "metadata": {},
     "output_type": "execute_result"
    }
   ],
   "source": [
    "len(northen_hemisphere) + len(southern_hemisphere)"
   ]
  },
  {
   "cell_type": "code",
   "execution_count": 36,
   "metadata": {},
   "outputs": [
    {
     "data": {
      "text/html": [
       "<div>\n",
       "<style scoped>\n",
       "    .dataframe tbody tr th:only-of-type {\n",
       "        vertical-align: middle;\n",
       "    }\n",
       "\n",
       "    .dataframe tbody tr th {\n",
       "        vertical-align: top;\n",
       "    }\n",
       "\n",
       "    .dataframe thead th {\n",
       "        text-align: right;\n",
       "    }\n",
       "</style>\n",
       "<table border=\"1\" class=\"dataframe\">\n",
       "  <thead>\n",
       "    <tr style=\"text-align: right;\">\n",
       "      <th></th>\n",
       "      <th>City</th>\n",
       "      <th>Lat</th>\n",
       "      <th>Lng</th>\n",
       "      <th>Max Temp (F)</th>\n",
       "      <th>Humidity</th>\n",
       "      <th>Cloudiness</th>\n",
       "      <th>Country</th>\n",
       "      <th>Wind Speed</th>\n",
       "      <th>Date</th>\n",
       "    </tr>\n",
       "  </thead>\n",
       "  <tbody>\n",
       "    <tr>\n",
       "      <th>2</th>\n",
       "      <td>Tiksi</td>\n",
       "      <td>71.69</td>\n",
       "      <td>128.87</td>\n",
       "      <td>244.25</td>\n",
       "      <td>88</td>\n",
       "      <td>100</td>\n",
       "      <td>RU</td>\n",
       "      <td>4.72</td>\n",
       "      <td>1608841131</td>\n",
       "    </tr>\n",
       "    <tr>\n",
       "      <th>3</th>\n",
       "      <td>La Rioja</td>\n",
       "      <td>42.25</td>\n",
       "      <td>-2.50</td>\n",
       "      <td>281.15</td>\n",
       "      <td>70</td>\n",
       "      <td>75</td>\n",
       "      <td>ES</td>\n",
       "      <td>5.70</td>\n",
       "      <td>1608841134</td>\n",
       "    </tr>\n",
       "    <tr>\n",
       "      <th>6</th>\n",
       "      <td>Cabo San Lucas</td>\n",
       "      <td>22.89</td>\n",
       "      <td>-109.91</td>\n",
       "      <td>301.48</td>\n",
       "      <td>61</td>\n",
       "      <td>75</td>\n",
       "      <td>MX</td>\n",
       "      <td>2.60</td>\n",
       "      <td>1608840918</td>\n",
       "    </tr>\n",
       "    <tr>\n",
       "      <th>9</th>\n",
       "      <td>Arrondissement de Saint-Denis</td>\n",
       "      <td>48.92</td>\n",
       "      <td>2.33</td>\n",
       "      <td>277.59</td>\n",
       "      <td>86</td>\n",
       "      <td>97</td>\n",
       "      <td>FR</td>\n",
       "      <td>6.20</td>\n",
       "      <td>1608841141</td>\n",
       "    </tr>\n",
       "    <tr>\n",
       "      <th>10</th>\n",
       "      <td>Shelburne</td>\n",
       "      <td>44.08</td>\n",
       "      <td>-80.20</td>\n",
       "      <td>274.82</td>\n",
       "      <td>93</td>\n",
       "      <td>100</td>\n",
       "      <td>CA</td>\n",
       "      <td>5.53</td>\n",
       "      <td>1608841142</td>\n",
       "    </tr>\n",
       "  </tbody>\n",
       "</table>\n",
       "</div>"
      ],
      "text/plain": [
       "                             City    Lat     Lng  Max Temp (F)  Humidity  \\\n",
       "2                           Tiksi  71.69  128.87        244.25        88   \n",
       "3                        La Rioja  42.25   -2.50        281.15        70   \n",
       "6                  Cabo San Lucas  22.89 -109.91        301.48        61   \n",
       "9   Arrondissement de Saint-Denis  48.92    2.33        277.59        86   \n",
       "10                      Shelburne  44.08  -80.20        274.82        93   \n",
       "\n",
       "    Cloudiness Country  Wind Speed        Date  \n",
       "2          100      RU        4.72  1608841131  \n",
       "3           75      ES        5.70  1608841134  \n",
       "6           75      MX        2.60  1608840918  \n",
       "9           97      FR        6.20  1608841141  \n",
       "10         100      CA        5.53  1608841142  "
      ]
     },
     "execution_count": 36,
     "metadata": {},
     "output_type": "execute_result"
    }
   ],
   "source": [
    "northen_hemisphere.head()"
   ]
  },
  {
   "cell_type": "code",
   "execution_count": 37,
   "metadata": {},
   "outputs": [
    {
     "data": {
      "text/html": [
       "<div>\n",
       "<style scoped>\n",
       "    .dataframe tbody tr th:only-of-type {\n",
       "        vertical-align: middle;\n",
       "    }\n",
       "\n",
       "    .dataframe tbody tr th {\n",
       "        vertical-align: top;\n",
       "    }\n",
       "\n",
       "    .dataframe thead th {\n",
       "        text-align: right;\n",
       "    }\n",
       "</style>\n",
       "<table border=\"1\" class=\"dataframe\">\n",
       "  <thead>\n",
       "    <tr style=\"text-align: right;\">\n",
       "      <th></th>\n",
       "      <th>City</th>\n",
       "      <th>Lat</th>\n",
       "      <th>Lng</th>\n",
       "      <th>Max Temp (F)</th>\n",
       "      <th>Humidity</th>\n",
       "      <th>Cloudiness</th>\n",
       "      <th>Country</th>\n",
       "      <th>Wind Speed</th>\n",
       "      <th>Date</th>\n",
       "    </tr>\n",
       "  </thead>\n",
       "  <tbody>\n",
       "    <tr>\n",
       "      <th>0</th>\n",
       "      <td>Arraial do Cabo</td>\n",
       "      <td>-22.97</td>\n",
       "      <td>-42.03</td>\n",
       "      <td>297.15</td>\n",
       "      <td>88</td>\n",
       "      <td>75</td>\n",
       "      <td>BR</td>\n",
       "      <td>2.60</td>\n",
       "      <td>1608841118</td>\n",
       "    </tr>\n",
       "    <tr>\n",
       "      <th>1</th>\n",
       "      <td>Chui</td>\n",
       "      <td>-33.70</td>\n",
       "      <td>-53.46</td>\n",
       "      <td>296.88</td>\n",
       "      <td>71</td>\n",
       "      <td>8</td>\n",
       "      <td>UY</td>\n",
       "      <td>6.76</td>\n",
       "      <td>1608841130</td>\n",
       "    </tr>\n",
       "    <tr>\n",
       "      <th>4</th>\n",
       "      <td>Punta Arenas</td>\n",
       "      <td>-53.15</td>\n",
       "      <td>-70.92</td>\n",
       "      <td>286.15</td>\n",
       "      <td>53</td>\n",
       "      <td>75</td>\n",
       "      <td>CL</td>\n",
       "      <td>18.50</td>\n",
       "      <td>1608841074</td>\n",
       "    </tr>\n",
       "    <tr>\n",
       "      <th>5</th>\n",
       "      <td>Gizo Government Station</td>\n",
       "      <td>-8.10</td>\n",
       "      <td>156.84</td>\n",
       "      <td>301.57</td>\n",
       "      <td>74</td>\n",
       "      <td>80</td>\n",
       "      <td>SB</td>\n",
       "      <td>3.20</td>\n",
       "      <td>1608841136</td>\n",
       "    </tr>\n",
       "    <tr>\n",
       "      <th>7</th>\n",
       "      <td>Port Lincoln</td>\n",
       "      <td>-34.73</td>\n",
       "      <td>135.87</td>\n",
       "      <td>287.37</td>\n",
       "      <td>85</td>\n",
       "      <td>0</td>\n",
       "      <td>AU</td>\n",
       "      <td>5.74</td>\n",
       "      <td>1608841138</td>\n",
       "    </tr>\n",
       "  </tbody>\n",
       "</table>\n",
       "</div>"
      ],
      "text/plain": [
       "                      City    Lat     Lng  Max Temp (F)  Humidity  Cloudiness  \\\n",
       "0          Arraial do Cabo -22.97  -42.03        297.15        88          75   \n",
       "1                     Chui -33.70  -53.46        296.88        71           8   \n",
       "4             Punta Arenas -53.15  -70.92        286.15        53          75   \n",
       "5  Gizo Government Station  -8.10  156.84        301.57        74          80   \n",
       "7             Port Lincoln -34.73  135.87        287.37        85           0   \n",
       "\n",
       "  Country  Wind Speed        Date  \n",
       "0      BR        2.60  1608841118  \n",
       "1      UY        6.76  1608841130  \n",
       "4      CL       18.50  1608841074  \n",
       "5      SB        3.20  1608841136  \n",
       "7      AU        5.74  1608841138  "
      ]
     },
     "execution_count": 37,
     "metadata": {},
     "output_type": "execute_result"
    }
   ],
   "source": [
    "southern_hemisphere.head()"
   ]
  },
  {
   "cell_type": "markdown",
   "metadata": {},
   "source": [
    "####  Northern Hemisphere - Max Temp vs. Latitude Linear Regression"
   ]
  },
  {
   "cell_type": "code",
   "execution_count": 41,
   "metadata": {},
   "outputs": [
    {
     "name": "stdout",
     "output_type": "stream",
     "text": [
      "The correlation between Max Temp and average Latitiude on the Northern Hemisphere is -0.84.\n"
     ]
    },
    {
     "ename": "ValueError",
     "evalue": "Format ' latitude linear regression' is not supported (supported formats: eps, jpeg, jpg, pdf, pgf, png, ps, raw, rgba, svg, svgz, tif, tiff)",
     "output_type": "error",
     "traceback": [
      "\u001b[0;31m---------------------------------------------------------------------------\u001b[0m",
      "\u001b[0;31mValueError\u001b[0m                                Traceback (most recent call last)",
      "\u001b[0;32m<ipython-input-41-cb7516e8f172>\u001b[0m in \u001b[0;36m<module>\u001b[0;34m\u001b[0m\n\u001b[1;32m     25\u001b[0m \u001b[0mplt\u001b[0m\u001b[0;34m.\u001b[0m\u001b[0mylabel\u001b[0m\u001b[0;34m(\u001b[0m\u001b[0;34m\"Lat\"\u001b[0m\u001b[0;34m)\u001b[0m\u001b[0;34m\u001b[0m\u001b[0;34m\u001b[0m\u001b[0m\n\u001b[1;32m     26\u001b[0m \u001b[0mplt\u001b[0m\u001b[0;34m.\u001b[0m\u001b[0mtitle\u001b[0m\u001b[0;34m(\u001b[0m\u001b[0;34m'Northern Hemisphere - Max Temp vs. Latitude Linear Regression'\u001b[0m\u001b[0;34m)\u001b[0m\u001b[0;34m\u001b[0m\u001b[0;34m\u001b[0m\u001b[0m\n\u001b[0;32m---> 27\u001b[0;31m \u001b[0mplt\u001b[0m\u001b[0;34m.\u001b[0m\u001b[0msavefig\u001b[0m\u001b[0;34m(\u001b[0m\u001b[0;34m\"../output_data/Northern Hemisphere - Max Temp vs. Latitude Linear Regression\"\u001b[0m\u001b[0;34m)\u001b[0m\u001b[0;34m\u001b[0m\u001b[0;34m\u001b[0m\u001b[0m\n\u001b[0m\u001b[1;32m     28\u001b[0m \u001b[0mplt\u001b[0m\u001b[0;34m.\u001b[0m\u001b[0mshow\u001b[0m\u001b[0;34m(\u001b[0m\u001b[0;34m)\u001b[0m\u001b[0;34m\u001b[0m\u001b[0;34m\u001b[0m\u001b[0m\n",
      "\u001b[0;32m~/opt/anaconda3/lib/python3.8/site-packages/matplotlib/pyplot.py\u001b[0m in \u001b[0;36msavefig\u001b[0;34m(*args, **kwargs)\u001b[0m\n\u001b[1;32m    721\u001b[0m \u001b[0;32mdef\u001b[0m \u001b[0msavefig\u001b[0m\u001b[0;34m(\u001b[0m\u001b[0;34m*\u001b[0m\u001b[0margs\u001b[0m\u001b[0;34m,\u001b[0m \u001b[0;34m**\u001b[0m\u001b[0mkwargs\u001b[0m\u001b[0;34m)\u001b[0m\u001b[0;34m:\u001b[0m\u001b[0;34m\u001b[0m\u001b[0;34m\u001b[0m\u001b[0m\n\u001b[1;32m    722\u001b[0m     \u001b[0mfig\u001b[0m \u001b[0;34m=\u001b[0m \u001b[0mgcf\u001b[0m\u001b[0;34m(\u001b[0m\u001b[0;34m)\u001b[0m\u001b[0;34m\u001b[0m\u001b[0;34m\u001b[0m\u001b[0m\n\u001b[0;32m--> 723\u001b[0;31m     \u001b[0mres\u001b[0m \u001b[0;34m=\u001b[0m \u001b[0mfig\u001b[0m\u001b[0;34m.\u001b[0m\u001b[0msavefig\u001b[0m\u001b[0;34m(\u001b[0m\u001b[0;34m*\u001b[0m\u001b[0margs\u001b[0m\u001b[0;34m,\u001b[0m \u001b[0;34m**\u001b[0m\u001b[0mkwargs\u001b[0m\u001b[0;34m)\u001b[0m\u001b[0;34m\u001b[0m\u001b[0;34m\u001b[0m\u001b[0m\n\u001b[0m\u001b[1;32m    724\u001b[0m     \u001b[0mfig\u001b[0m\u001b[0;34m.\u001b[0m\u001b[0mcanvas\u001b[0m\u001b[0;34m.\u001b[0m\u001b[0mdraw_idle\u001b[0m\u001b[0;34m(\u001b[0m\u001b[0;34m)\u001b[0m   \u001b[0;31m# need this if 'transparent=True' to reset colors\u001b[0m\u001b[0;34m\u001b[0m\u001b[0;34m\u001b[0m\u001b[0m\n\u001b[1;32m    725\u001b[0m     \u001b[0;32mreturn\u001b[0m \u001b[0mres\u001b[0m\u001b[0;34m\u001b[0m\u001b[0;34m\u001b[0m\u001b[0m\n",
      "\u001b[0;32m~/opt/anaconda3/lib/python3.8/site-packages/matplotlib/figure.py\u001b[0m in \u001b[0;36msavefig\u001b[0;34m(self, fname, transparent, **kwargs)\u001b[0m\n\u001b[1;32m   2201\u001b[0m             \u001b[0mself\u001b[0m\u001b[0;34m.\u001b[0m\u001b[0mpatch\u001b[0m\u001b[0;34m.\u001b[0m\u001b[0mset_visible\u001b[0m\u001b[0;34m(\u001b[0m\u001b[0mframeon\u001b[0m\u001b[0;34m)\u001b[0m\u001b[0;34m\u001b[0m\u001b[0;34m\u001b[0m\u001b[0m\n\u001b[1;32m   2202\u001b[0m \u001b[0;34m\u001b[0m\u001b[0m\n\u001b[0;32m-> 2203\u001b[0;31m         \u001b[0mself\u001b[0m\u001b[0;34m.\u001b[0m\u001b[0mcanvas\u001b[0m\u001b[0;34m.\u001b[0m\u001b[0mprint_figure\u001b[0m\u001b[0;34m(\u001b[0m\u001b[0mfname\u001b[0m\u001b[0;34m,\u001b[0m \u001b[0;34m**\u001b[0m\u001b[0mkwargs\u001b[0m\u001b[0;34m)\u001b[0m\u001b[0;34m\u001b[0m\u001b[0;34m\u001b[0m\u001b[0m\n\u001b[0m\u001b[1;32m   2204\u001b[0m \u001b[0;34m\u001b[0m\u001b[0m\n\u001b[1;32m   2205\u001b[0m         \u001b[0;32mif\u001b[0m \u001b[0mframeon\u001b[0m\u001b[0;34m:\u001b[0m\u001b[0;34m\u001b[0m\u001b[0;34m\u001b[0m\u001b[0m\n",
      "\u001b[0;32m~/opt/anaconda3/lib/python3.8/site-packages/matplotlib/backend_bases.py\u001b[0m in \u001b[0;36mprint_figure\u001b[0;34m(self, filename, dpi, facecolor, edgecolor, orientation, format, bbox_inches, **kwargs)\u001b[0m\n\u001b[1;32m   2057\u001b[0m \u001b[0;34m\u001b[0m\u001b[0m\n\u001b[1;32m   2058\u001b[0m         \u001b[0;31m# get canvas object and print method for format\u001b[0m\u001b[0;34m\u001b[0m\u001b[0;34m\u001b[0m\u001b[0;34m\u001b[0m\u001b[0m\n\u001b[0;32m-> 2059\u001b[0;31m         \u001b[0mcanvas\u001b[0m \u001b[0;34m=\u001b[0m \u001b[0mself\u001b[0m\u001b[0;34m.\u001b[0m\u001b[0m_get_output_canvas\u001b[0m\u001b[0;34m(\u001b[0m\u001b[0mformat\u001b[0m\u001b[0;34m)\u001b[0m\u001b[0;34m\u001b[0m\u001b[0;34m\u001b[0m\u001b[0m\n\u001b[0m\u001b[1;32m   2060\u001b[0m         \u001b[0mprint_method\u001b[0m \u001b[0;34m=\u001b[0m \u001b[0mgetattr\u001b[0m\u001b[0;34m(\u001b[0m\u001b[0mcanvas\u001b[0m\u001b[0;34m,\u001b[0m \u001b[0;34m'print_%s'\u001b[0m \u001b[0;34m%\u001b[0m \u001b[0mformat\u001b[0m\u001b[0;34m)\u001b[0m\u001b[0;34m\u001b[0m\u001b[0;34m\u001b[0m\u001b[0m\n\u001b[1;32m   2061\u001b[0m \u001b[0;34m\u001b[0m\u001b[0m\n",
      "\u001b[0;32m~/opt/anaconda3/lib/python3.8/site-packages/matplotlib/backend_bases.py\u001b[0m in \u001b[0;36m_get_output_canvas\u001b[0;34m(self, fmt)\u001b[0m\n\u001b[1;32m   1995\u001b[0m             \u001b[0;32mreturn\u001b[0m \u001b[0mself\u001b[0m\u001b[0;34m.\u001b[0m\u001b[0mswitch_backends\u001b[0m\u001b[0;34m(\u001b[0m\u001b[0mcanvas_class\u001b[0m\u001b[0;34m)\u001b[0m\u001b[0;34m\u001b[0m\u001b[0;34m\u001b[0m\u001b[0m\n\u001b[1;32m   1996\u001b[0m         \u001b[0;31m# Else report error for unsupported format.\u001b[0m\u001b[0;34m\u001b[0m\u001b[0;34m\u001b[0m\u001b[0;34m\u001b[0m\u001b[0m\n\u001b[0;32m-> 1997\u001b[0;31m         raise ValueError(\n\u001b[0m\u001b[1;32m   1998\u001b[0m             \u001b[0;34m\"Format {!r} is not supported (supported formats: {})\"\u001b[0m\u001b[0;34m\u001b[0m\u001b[0;34m\u001b[0m\u001b[0m\n\u001b[1;32m   1999\u001b[0m             .format(fmt, \", \".join(sorted(self.get_supported_filetypes()))))\n",
      "\u001b[0;31mValueError\u001b[0m: Format ' latitude linear regression' is not supported (supported formats: eps, jpeg, jpg, pdf, pgf, png, ps, raw, rgba, svg, svgz, tif, tiff)"
     ]
    },
    {
     "data": {
      "image/png": "[encoded data removed]",
      "text/plain": [
       "<Figure size 432x288 with 1 Axes>"
      ]
     },
     "metadata": {
      "needs_background": "light"
     },
     "output_type": "display_data"
    }
   ],
   "source": [
    "\n",
    "plt.scatter(northen_hemisphere['Max Temp (F)'],northen_hemisphere['Lat'])\n",
    "x = northen_hemisphere['Max Temp (F)']\n",
    "y = northen_hemisphere['Lat']\n",
    "\n",
    "# Calculate the correlation coefficient between mouse weight and average tumor volume\n",
    "correlation = st.pearsonr(x,y)\n",
    "\n",
    "# Print the answer to above calculation\n",
    "print(f\"\"\"The correlation between Max Temp and average Latitiude on the Northern Hemisphere is {round(correlation[0],2)}.\"\"\")\n",
    "\n",
    "# Calculate linear regression\n",
    "(slope, intercept, rvalue, pvalue, stderr) = linregress(x, y)\n",
    "regress_values = x * slope + intercept\n",
    "line_eq = \"y = \" + str(round(slope,2)) + \"x + \" + str(round(intercept,2))\n",
    "\n",
    "# Plot linear regression on top of scatter plot\n",
    "plt.scatter(x,y)\n",
    "plt.plot(x,regress_values,\"r-\")\n",
    "\n",
    "# Annotate linear regression\n",
    "plt.annotate(line_eq,(20,37),fontsize=15,color=\"blue\")\n",
    "\n",
    "# Add labels and title to plot\n",
    "plt.xlabel(\"Max Temp (F)\")\n",
    "plt.ylabel(\"Lat\")\n",
    "plt.title('Northern Hemisphere - Max Temp vs. Latitude Linear Regression')\n",
    "plt.savefig(\"../output_data/Northern Hemisphere - Max Temp vs. Latitude Linear Regression\")\n",
    "plt.show()"
   ]
  },
  {
   "cell_type": "markdown",
   "metadata": {},
   "source": [
    "####  Southern Hemisphere - Max Temp vs. Latitude Linear Regression"
   ]
  },
  {
   "cell_type": "code",
   "execution_count": null,
   "metadata": {},
   "outputs": [],
   "source": []
  },
  {
   "cell_type": "markdown",
   "metadata": {},
   "source": [
    "####  Northern Hemisphere - Humidity (%) vs. Latitude Linear Regression"
   ]
  },
  {
   "cell_type": "code",
   "execution_count": null,
   "metadata": {},
   "outputs": [],
   "source": []
  },
  {
   "cell_type": "markdown",
   "metadata": {},
   "source": [
    "####  Southern Hemisphere - Humidity (%) vs. Latitude Linear Regression"
   ]
  },
  {
   "cell_type": "code",
   "execution_count": null,
   "metadata": {},
   "outputs": [],
   "source": []
  },
  {
   "cell_type": "markdown",
   "metadata": {},
   "source": [
    "####  Northern Hemisphere - Cloudiness (%) vs. Latitude Linear Regression"
   ]
  },
  {
   "cell_type": "code",
   "execution_count": null,
   "metadata": {},
   "outputs": [],
   "source": []
  },
  {
   "cell_type": "markdown",
   "metadata": {},
   "source": [
    "####  Southern Hemisphere - Cloudiness (%) vs. Latitude Linear Regression"
   ]
  },
  {
   "cell_type": "code",
   "execution_count": null,
   "metadata": {},
   "outputs": [],
   "source": []
  },
  {
   "cell_type": "markdown",
   "metadata": {},
   "source": [
    "####  Northern Hemisphere - Wind Speed (mph) vs. Latitude Linear Regression"
   ]
  },
  {
   "cell_type": "code",
   "execution_count": null,
   "metadata": {},
   "outputs": [],
   "source": []
  },
  {
   "cell_type": "markdown",
   "metadata": {},
   "source": [
    "####  Southern Hemisphere - Wind Speed (mph) vs. Latitude Linear Regression"
   ]
  },
  {
   "cell_type": "code",
   "execution_count": null,
   "metadata": {},
   "outputs": [],
   "source": []
  },
  {
   "cell_type": "code",
   "execution_count": null,
   "metadata": {},
   "outputs": [],
   "source": []
  }
 ],
 "metadata": {
  "anaconda-cloud": {},
  "kernel_info": {
   "name": "python3"
  },
  "kernelspec": {
   "display_name": "Python 3",
   "language": "python",
   "name": "python3"
  },
  "language_info": {
   "codemirror_mode": {
    "name": "ipython",
    "version": 3
   },
   "file_extension": ".py",
   "mimetype": "text/x-python",
   "name": "python",
   "nbconvert_exporter": "python",
   "pygments_lexer": "ipython3",
   "version": "3.8.3"
  },
  "latex_envs": {
   "LaTeX_envs_menu_present": true,
   "autoclose": false,
   "autocomplete": true,
   "bibliofile": "biblio.bib",
   "cite_by": "apalike",
   "current_citInitial": 1,
   "eqLabelWithNumbers": true,
   "eqNumInitial": 1,
   "hotkeys": {
    "equation": "Ctrl-E",
    "itemize": "Ctrl-I"
   },
   "labels_anchors": false,
   "latex_user_defs": false,
   "report_style_numbering": false,
   "user_envs_cfg": false
  },
  "nteract": {
   "version": "0.12.3"
  }
 },
 "nbformat": 4,
 "nbformat_minor": 2
}
