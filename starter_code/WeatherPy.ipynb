{
 "cells": [
  {
   "cell_type": "markdown",
   "metadata": {},
   "source": [
    "# WeatherPy\n",
    "----\n",
    "\n",
    "#### Note\n",
    "* Instructions have been included for each segment. You do not have to follow them exactly, but they are included to help you think through the steps."
   ]
  },
  {
   "cell_type": "code",
   "execution_count": 1,
   "metadata": {
    "scrolled": true
   },
   "outputs": [],
   "source": [
    "# Dependencies and Setup\n",
    "import matplotlib.pyplot as plt\n",
    "import pandas as pd\n",
    "import numpy as np\n",
    "import requests\n",
    "import time\n",
    "from scipy.stats import linregress\n",
    "import scipy.stats as st\n",
    "\n",
    "# Import API key\n",
    "from api_keys import weather_api_key\n",
    "\n",
    "# Incorporated citipy to determine city based on latitude and longitude\n",
    "from citipy import citipy\n",
    "\n",
    "# Output File (CSV)\n",
    "output_data_file = \"output_data/cities.csv\"\n",
    "\n",
    "# Range of latitudes and longitudes\n",
    "lat_range = (-90, 90)\n",
    "lng_range = (-180, 180)"
   ]
  },
  {
   "cell_type": "markdown",
   "metadata": {},
   "source": [
    "## Generate Cities List"
   ]
  },
  {
   "cell_type": "code",
   "execution_count": 2,
   "metadata": {},
   "outputs": [
    {
     "data": {
      "text/plain": [
       "595"
      ]
     },
     "execution_count": 2,
     "metadata": {},
     "output_type": "execute_result"
    }
   ],
   "source": [
    "# List for holding lat_lngs and cities\n",
    "lat_lngs = []\n",
    "cities = []\n",
    "\n",
    "# Create a set of random lat and lng combinations\n",
    "lats = np.random.uniform(lat_range[0], lat_range[1], size=1500)\n",
    "lngs = np.random.uniform(lng_range[0], lng_range[1], size=1500)\n",
    "lat_lngs = zip(lats, lngs)\n",
    "\n",
    "# Identify nearest city for each lat, lng combination\n",
    "for lat_lng in lat_lngs:\n",
    "    city = citipy.nearest_city(lat_lng[0], lat_lng[1]).city_name\n",
    "    \n",
    "    # If the city is unique, then add it to a our cities list\n",
    "    if city not in cities:\n",
    "        cities.append(city)\n",
    "\n",
    "# Print the city count to confirm sufficient count\n",
    "len(cities)"
   ]
  },
  {
   "cell_type": "markdown",
   "metadata": {},
   "source": [
    "### Perform API Calls\n",
    "* Perform a weather check on each city using a series of successive API calls.\n",
    "* Include a print log of each city as it'sbeing processed (with the city number and city name).\n"
   ]
  },
  {
   "cell_type": "code",
   "execution_count": 3,
   "metadata": {},
   "outputs": [
    {
     "name": "stdout",
     "output_type": "stream",
     "text": [
      "Beginning Data Retrieval\n",
      "------------------------------\n",
      "processing record 1 | liverpool\n",
      "processing record 2 | severomorsk\n",
      "city not found, skipping to next!\n",
      "processing record 3 | narsaq\n",
      "processing record 4 | hami\n",
      "processing record 5 | butaritari\n",
      "processing record 6 | baleshwar\n",
      "processing record 7 | oranjemund\n",
      "processing record 8 | qaanaaq\n",
      "processing record 9 | puerto ayora\n",
      "processing record 10 | huarmey\n",
      "processing record 11 | coroico\n",
      "processing record 12 | ushuaia\n",
      "processing record 13 | hilo\n",
      "processing record 14 | mataura\n",
      "processing record 15 | airai\n",
      "city not found, skipping to next!\n",
      "processing record 16 | karpathos\n",
      "processing record 17 | fortuna\n",
      "processing record 18 | busselton\n",
      "processing record 19 | lebu\n",
      "city not found, skipping to next!\n",
      "processing record 20 | portland\n",
      "processing record 21 | wanaka\n",
      "processing record 22 | khatanga\n",
      "processing record 23 | ponta do sol\n",
      "processing record 24 | yellowknife\n",
      "processing record 25 | worland\n",
      "processing record 26 | punta arenas\n",
      "processing record 27 | cape town\n",
      "city not found, skipping to next!\n",
      "processing record 28 | jutai\n",
      "processing record 29 | bluff\n",
      "processing record 30 | ilulissat\n",
      "processing record 31 | hithadhoo\n",
      "processing record 32 | ribeira grande\n",
      "processing record 33 | moussoro\n",
      "processing record 34 | esperance\n",
      "processing record 35 | constitucion\n",
      "processing record 36 | albany\n",
      "city not found, skipping to next!\n",
      "processing record 37 | provideniya\n",
      "processing record 38 | aktau\n",
      "processing record 39 | jamestown\n",
      "processing record 40 | kapaa\n",
      "processing record 41 | vaini\n",
      "processing record 42 | georgetown\n",
      "processing record 43 | kualakapuas\n",
      "processing record 44 | saint-denis\n",
      "processing record 45 | cherskiy\n",
      "processing record 46 | issoire\n",
      "processing record 47 | winslow\n",
      "processing record 48 | rikitea\n",
      "processing record 49 | carnarvon\n",
      "processing record 50 | pandan\n",
      "processing record 51 | reconquista\n",
      "processing record 52 | nabire\n",
      "processing record 53 | cabo san lucas\n",
      "processing record 54 | daru\n",
      "processing record 55 | new norfolk\n",
      "processing record 56 | dingle\n",
      "processing record 57 | rocha\n",
      "processing record 58 | clyde river\n",
      "processing record 59 | evensk\n",
      "city not found, skipping to next!\n",
      "processing record 60 | castro\n",
      "processing record 61 | haines junction\n",
      "processing record 62 | wahiawa\n",
      "processing record 63 | bonavista\n",
      "processing record 64 | hermanus\n",
      "processing record 65 | butterworth\n",
      "processing record 66 | cradock\n",
      "processing record 67 | tuatapere\n",
      "processing record 68 | karratha\n",
      "processing record 69 | carauari\n",
      "processing record 70 | zyryanka\n",
      "processing record 71 | yar-sale\n",
      "processing record 72 | saint george\n",
      "processing record 73 | mahebourg\n",
      "processing record 74 | sao felix do xingu\n",
      "processing record 75 | tshikapa\n",
      "processing record 76 | chapais\n",
      "processing record 77 | safaga\n",
      "processing record 78 | strezhevoy\n",
      "processing record 79 | severo-kurilsk\n",
      "processing record 80 | kavaratti\n",
      "processing record 81 | nesna\n",
      "processing record 82 | longyearbyen\n",
      "processing record 83 | souillac\n",
      "city not found, skipping to next!\n",
      "processing record 84 | buchanan\n",
      "processing record 85 | avarua\n",
      "processing record 86 | yatou\n",
      "city not found, skipping to next!\n",
      "processing record 87 | thompson\n",
      "processing record 88 | kalmunai\n",
      "city not found, skipping to next!\n",
      "processing record 89 | linares\n",
      "city not found, skipping to next!\n",
      "processing record 90 | hibbing\n",
      "processing record 91 | engels\n",
      "processing record 92 | chuy\n",
      "processing record 93 | fuerte olimpo\n",
      "processing record 94 | dikson\n",
      "processing record 95 | menongue\n",
      "processing record 96 | kamaishi\n",
      "processing record 97 | chlorakas\n",
      "processing record 98 | komsomolskiy\n",
      "processing record 99 | kaitangata\n",
      "processing record 100 | lompoc\n",
      "processing record 101 | taoudenni\n",
      "processing record 102 | port elizabeth\n",
      "processing record 103 | weymouth\n",
      "processing record 104 | rosarito\n",
      "processing record 105 | shimoda\n",
      "processing record 106 | kruisfontein\n",
      "processing record 107 | ahipara\n",
      "city not found, skipping to next!\n",
      "processing record 108 | ekhabi\n",
      "processing record 109 | rochefort\n",
      "processing record 110 | son la\n",
      "processing record 111 | zhigansk\n",
      "processing record 112 | roebourne\n",
      "processing record 113 | mendi\n",
      "processing record 114 | tuktoyaktuk\n",
      "processing record 115 | solnechnyy\n",
      "city not found, skipping to next!\n",
      "processing record 116 | kormilovka\n",
      "city not found, skipping to next!\n",
      "processing record 117 | cucutilla\n",
      "processing record 118 | atuona\n",
      "processing record 119 | vila velha\n",
      "processing record 120 | san lawrenz\n",
      "processing record 121 | sevilla\n",
      "processing record 122 | linqiong\n",
      "processing record 123 | bambous virieux\n",
      "city not found, skipping to next!\n",
      "city not found, skipping to next!\n",
      "processing record 124 | abeche\n",
      "processing record 125 | dunedin\n",
      "processing record 126 | kuminskiy\n",
      "processing record 127 | alice\n",
      "processing record 128 | kachiry\n",
      "processing record 129 | margate\n",
      "processing record 130 | vao\n",
      "processing record 131 | grindavik\n",
      "processing record 132 | mirnyy\n",
      "processing record 133 | port lincoln\n",
      "processing record 134 | hobart\n",
      "processing record 135 | balkhash\n",
      "processing record 136 | ludza\n",
      "processing record 137 | ahuimanu\n",
      "processing record 138 | juneau\n",
      "processing record 139 | east london\n",
      "city not found, skipping to next!\n",
      "processing record 140 | guerrero negro\n",
      "processing record 141 | port blair\n",
      "processing record 142 | ancud\n",
      "city not found, skipping to next!\n",
      "processing record 143 | batagay-alyta\n",
      "processing record 144 | arica\n",
      "processing record 145 | miles city\n",
      "processing record 146 | moulins\n",
      "city not found, skipping to next!\n",
      "processing record 147 | huaiyin\n",
      "processing record 148 | port alfred\n",
      "processing record 149 | saint-augustin\n",
      "processing record 150 | rio grande\n",
      "processing record 151 | srednekolymsk\n",
      "processing record 152 | lagoa\n",
      "processing record 153 | camacha\n",
      "processing record 154 | luohe\n",
      "city not found, skipping to next!\n",
      "processing record 155 | pangnirtung\n",
      "processing record 156 | aasiaat\n",
      "processing record 157 | oak ridge\n",
      "processing record 158 | cedar city\n",
      "processing record 159 | santa maria del oro\n",
      "processing record 160 | codrington\n",
      "processing record 161 | saskylakh\n",
      "processing record 162 | shache\n",
      "processing record 163 | emerald\n",
      "processing record 164 | houston\n",
      "processing record 165 | pitimbu\n",
      "processing record 166 | tasiilaq\n",
      "processing record 167 | hovd\n",
      "processing record 168 | arraial do cabo\n",
      "processing record 169 | upernavik\n",
      "processing record 170 | ulladulla\n",
      "processing record 171 | tura\n",
      "processing record 172 | puerto maldonado\n",
      "processing record 173 | tual\n",
      "processing record 174 | sainte-marie\n",
      "processing record 175 | jalu\n",
      "processing record 176 | agirish\n",
      "processing record 177 | katherine\n",
      "processing record 178 | bredasdorp\n",
      "processing record 179 | barrow\n",
      "processing record 180 | kodiak\n",
      "processing record 181 | bambari\n",
      "processing record 182 | akyab\n",
      "processing record 183 | cidreira\n",
      "processing record 184 | vrangel\n",
      "processing record 185 | merauke\n",
      "processing record 186 | iqaluit\n",
      "processing record 187 | hualmay\n",
      "processing record 188 | cayenne\n",
      "processing record 189 | purpe\n",
      "city not found, skipping to next!\n",
      "processing record 190 | rawson\n",
      "processing record 191 | brae\n",
      "processing record 192 | roald\n",
      "processing record 193 | aksha\n",
      "city not found, skipping to next!\n",
      "processing record 194 | vardo\n",
      "city not found, skipping to next!\n",
      "processing record 195 | hobyo\n",
      "processing record 196 | tiksi\n",
      "processing record 197 | port victoria\n",
      "processing record 198 | nelson bay\n",
      "processing record 199 | isangel\n",
      "processing record 200 | los llanos de aridane\n",
      "processing record 201 | sisimiut\n",
      "processing record 202 | pushkar\n",
      "processing record 203 | anadyr\n",
      "processing record 204 | atar\n",
      "processing record 205 | barcelona\n",
      "processing record 206 | grand gaube\n",
      "city not found, skipping to next!\n",
      "processing record 207 | bengkulu\n",
      "processing record 208 | kavieng\n",
      "processing record 209 | turbat\n",
      "processing record 210 | muroto\n",
      "processing record 211 | hasaki\n",
      "processing record 212 | hokitika\n",
      "processing record 213 | silva jardim\n",
      "processing record 214 | vestmanna\n",
      "processing record 215 | aswan\n",
      "processing record 216 | leningradskiy\n",
      "processing record 217 | yarada\n",
      "city not found, skipping to next!\n",
      "processing record 218 | victoria\n",
      "processing record 219 | weyburn\n",
      "processing record 220 | touros\n",
      "processing record 221 | geraldton\n",
      "city not found, skipping to next!\n",
      "processing record 222 | port hardy\n",
      "processing record 223 | ixtapa\n"
     ]
    },
    {
     "name": "stdout",
     "output_type": "stream",
     "text": [
      "processing record 224 | curup\n",
      "processing record 225 | padang\n",
      "processing record 226 | te anau\n",
      "processing record 227 | nakamura\n",
      "processing record 228 | mount gambier\n",
      "processing record 229 | saint-philippe\n",
      "processing record 230 | cap malheureux\n",
      "processing record 231 | planaltina\n",
      "processing record 232 | vinh long\n",
      "processing record 233 | bandarbeyla\n",
      "processing record 234 | nalut\n",
      "processing record 235 | beatrice\n",
      "processing record 236 | yaransk\n",
      "processing record 237 | college\n",
      "processing record 238 | bure\n",
      "processing record 239 | gat\n",
      "processing record 240 | jadu\n",
      "city not found, skipping to next!\n",
      "city not found, skipping to next!\n",
      "processing record 241 | port-gentil\n",
      "processing record 242 | kudahuvadhoo\n",
      "processing record 243 | sao joao da barra\n",
      "processing record 244 | elat\n",
      "processing record 245 | lapi\n",
      "processing record 246 | sartana\n",
      "processing record 247 | mar del plata\n",
      "processing record 248 | bodden town\n",
      "city not found, skipping to next!\n",
      "processing record 249 | hambantota\n",
      "processing record 250 | nouadhibou\n",
      "processing record 251 | severnoye\n",
      "processing record 252 | bjerkvik\n",
      "processing record 253 | ketchikan\n",
      "processing record 254 | pisco\n",
      "processing record 255 | westport\n",
      "processing record 256 | raga\n",
      "processing record 257 | asbe teferi\n",
      "processing record 258 | caravelas\n",
      "city not found, skipping to next!\n",
      "city not found, skipping to next!\n",
      "processing record 259 | hay river\n",
      "processing record 260 | ambilobe\n",
      "processing record 261 | weligama\n",
      "processing record 262 | bardiyah\n",
      "processing record 263 | broome\n",
      "processing record 264 | korla\n",
      "processing record 265 | shenjiamen\n",
      "processing record 266 | nakusp\n",
      "processing record 267 | ambon\n",
      "processing record 268 | maloy\n",
      "processing record 269 | andenes\n",
      "processing record 270 | sinnamary\n",
      "processing record 271 | iralaya\n",
      "processing record 272 | arak\n",
      "processing record 273 | ucluelet\n",
      "processing record 274 | borogontsy\n",
      "processing record 275 | hamilton\n",
      "processing record 276 | azul\n",
      "processing record 277 | havoysund\n",
      "processing record 278 | ust-nera\n",
      "city not found, skipping to next!\n",
      "processing record 279 | kiunga\n",
      "processing record 280 | copiapo\n",
      "processing record 281 | andrews\n",
      "processing record 282 | preobrazheniye\n",
      "processing record 283 | husavik\n",
      "processing record 284 | faanui\n",
      "processing record 285 | izhma\n",
      "processing record 286 | torbay\n",
      "city not found, skipping to next!\n",
      "processing record 287 | desaguadero\n",
      "processing record 288 | neuquen\n",
      "processing record 289 | andilamena\n",
      "processing record 290 | turukhansk\n",
      "processing record 291 | christchurch\n",
      "processing record 292 | qinzhou\n",
      "processing record 293 | kozhevnikovo\n",
      "processing record 294 | luderitz\n",
      "processing record 295 | aguimes\n",
      "processing record 296 | cururupu\n",
      "processing record 297 | jamiltepec\n",
      "processing record 298 | baruun-urt\n",
      "processing record 299 | glenwood springs\n",
      "processing record 300 | okhotsk\n",
      "processing record 301 | stropkov\n",
      "processing record 302 | san cristobal\n",
      "processing record 303 | peniche\n",
      "processing record 304 | klaksvik\n",
      "processing record 305 | veinticinco de mayo\n",
      "processing record 306 | vila franca do campo\n",
      "processing record 307 | cam ranh\n",
      "processing record 308 | boyolangu\n",
      "processing record 309 | kimbe\n",
      "processing record 310 | nome\n",
      "processing record 311 | yinchuan\n",
      "processing record 312 | assiniboia\n",
      "processing record 313 | buzovna\n",
      "processing record 314 | yumen\n",
      "processing record 315 | umm lajj\n",
      "processing record 316 | bud\n",
      "processing record 317 | martinez\n",
      "processing record 318 | pevek\n",
      "processing record 319 | matai\n",
      "processing record 320 | santa rosalia\n",
      "processing record 321 | disna\n",
      "processing record 322 | vestmannaeyjar\n",
      "city not found, skipping to next!\n",
      "processing record 323 | bethel\n",
      "processing record 324 | udachnyy\n",
      "processing record 325 | frontera\n",
      "processing record 326 | muros\n",
      "processing record 327 | cockburn town\n",
      "processing record 328 | gilbues\n",
      "processing record 329 | tessalit\n",
      "processing record 330 | montepuez\n",
      "processing record 331 | wattegama\n",
      "processing record 332 | maxixe\n",
      "processing record 333 | malanje\n",
      "processing record 334 | kondinskoye\n",
      "processing record 335 | dayong\n",
      "processing record 336 | zhezkazgan\n",
      "processing record 337 | fenoarivo\n",
      "processing record 338 | oussouye\n",
      "processing record 339 | lidkoping\n",
      "processing record 340 | santa rosa\n",
      "processing record 341 | jurado\n",
      "processing record 342 | banda aceh\n",
      "processing record 343 | lima\n",
      "processing record 344 | port-cartier\n",
      "processing record 345 | comodoro rivadavia\n",
      "processing record 346 | vizinga\n",
      "processing record 347 | esna\n",
      "processing record 348 | djibo\n",
      "processing record 349 | santa vitoria do palmar\n",
      "city not found, skipping to next!\n",
      "processing record 350 | necochea\n",
      "processing record 351 | axim\n",
      "city not found, skipping to next!\n",
      "city not found, skipping to next!\n",
      "processing record 352 | sur\n",
      "processing record 353 | samarai\n",
      "city not found, skipping to next!\n",
      "processing record 354 | mafinga\n",
      "processing record 355 | manacor\n",
      "city not found, skipping to next!\n",
      "processing record 356 | kyshtovka\n",
      "city not found, skipping to next!\n",
      "processing record 357 | bambanglipuro\n",
      "processing record 358 | wasilla\n",
      "processing record 359 | port alberni\n",
      "processing record 360 | vydrino\n",
      "processing record 361 | nantucket\n",
      "processing record 362 | nanortalik\n",
      "processing record 363 | norman wells\n",
      "processing record 364 | mana\n",
      "processing record 365 | sitka\n",
      "processing record 366 | pimentel\n",
      "processing record 367 | nikolskoye\n",
      "processing record 368 | mayo\n",
      "processing record 369 | mersing\n",
      "city not found, skipping to next!\n",
      "processing record 370 | baie-comeau\n",
      "processing record 371 | flinders\n",
      "processing record 372 | garhi yasin\n",
      "processing record 373 | lavrentiya\n",
      "processing record 374 | deputatskiy\n",
      "city not found, skipping to next!\n",
      "processing record 375 | enshi\n",
      "processing record 376 | kingsport\n",
      "processing record 377 | vaitape\n",
      "city not found, skipping to next!\n",
      "processing record 378 | olafsvik\n",
      "processing record 379 | puerto cabezas\n",
      "processing record 380 | povenets\n",
      "processing record 381 | yaan\n",
      "processing record 382 | coahuayana\n",
      "processing record 383 | doba\n",
      "processing record 384 | roma\n",
      "processing record 385 | maragogi\n",
      "processing record 386 | sorland\n",
      "processing record 387 | faya\n",
      "processing record 388 | talnakh\n",
      "processing record 389 | walvis bay\n",
      "processing record 390 | san patricio\n",
      "processing record 391 | vuktyl\n",
      "processing record 392 | vila\n",
      "processing record 393 | binabalian\n",
      "processing record 394 | zakamensk\n",
      "processing record 395 | warangal\n",
      "processing record 396 | puerto ayacucho\n",
      "processing record 397 | fagersta\n",
      "processing record 398 | paka\n",
      "processing record 399 | springbok\n",
      "processing record 400 | linxia\n",
      "processing record 401 | alpena\n",
      "processing record 402 | tiarei\n",
      "processing record 403 | verkhnyaya inta\n",
      "processing record 404 | primorsk\n",
      "processing record 405 | kambarka\n",
      "processing record 406 | hastings\n",
      "processing record 407 | bathsheba\n",
      "processing record 408 | ostrovnoy\n",
      "processing record 409 | sao jose da coroa grande\n",
      "processing record 410 | alofi\n",
      "processing record 411 | imbituba\n",
      "processing record 412 | burnie\n",
      "processing record 413 | saint anthony\n",
      "processing record 414 | koygorodok\n",
      "processing record 415 | escanaba\n",
      "processing record 416 | paramonga\n",
      "processing record 417 | waterloo\n",
      "processing record 418 | luanda\n",
      "processing record 419 | poum\n",
      "processing record 420 | puerto narino\n",
      "processing record 421 | anloga\n",
      "processing record 422 | oktyabrskoye\n",
      "processing record 423 | tilichiki\n",
      "processing record 424 | uruzgan\n",
      "processing record 425 | chornobay\n",
      "city not found, skipping to next!\n",
      "processing record 426 | olinda\n",
      "processing record 427 | lorengau\n",
      "processing record 428 | sibolga\n",
      "processing record 429 | amurzet\n",
      "processing record 430 | santa maria\n",
      "processing record 431 | formosa\n",
      "processing record 432 | gogrial\n",
      "processing record 433 | acapulco\n",
      "processing record 434 | kayunga\n",
      "processing record 435 | suining\n",
      "processing record 436 | khash\n",
      "processing record 437 | matay\n",
      "processing record 438 | rundu\n",
      "processing record 439 | farafangana\n",
      "processing record 440 | luangwa\n",
      "processing record 441 | urucui\n",
      "processing record 442 | north bend\n",
      "processing record 443 | mitsamiouli\n",
      "processing record 444 | kingisepp\n",
      "processing record 445 | takoradi\n",
      "processing record 446 | marco\n",
      "processing record 447 | pankrushikha\n",
      "processing record 448 | nuevitas\n",
      "processing record 449 | dudinka\n",
      "processing record 450 | port shepstone\n",
      "city not found, skipping to next!\n"
     ]
    },
    {
     "name": "stdout",
     "output_type": "stream",
     "text": [
      "processing record 451 | saint-pierre\n",
      "processing record 452 | sobolevo\n",
      "processing record 453 | marawi\n",
      "processing record 454 | vostok\n",
      "processing record 455 | petropavlovsk-kamchatskiy\n",
      "processing record 456 | magadan\n",
      "city not found, skipping to next!\n",
      "processing record 457 | manzhouli\n",
      "processing record 458 | tabou\n",
      "processing record 459 | sao miguel do araguaia\n",
      "processing record 460 | benghazi\n",
      "processing record 461 | limoncito\n",
      "city not found, skipping to next!\n",
      "city not found, skipping to next!\n",
      "processing record 462 | rawlins\n",
      "processing record 463 | la tiza\n",
      "processing record 464 | cabedelo\n",
      "city not found, skipping to next!\n",
      "processing record 465 | quatre cocos\n",
      "processing record 466 | katsuura\n",
      "processing record 467 | phuket\n",
      "processing record 468 | marsa matruh\n",
      "city not found, skipping to next!\n",
      "processing record 469 | henties bay\n",
      "processing record 470 | druzhba\n",
      "processing record 471 | atambua\n",
      "processing record 472 | noumea\n",
      "processing record 473 | namibe\n",
      "processing record 474 | kijang\n",
      "processing record 475 | douglas\n",
      "processing record 476 | kununurra\n",
      "processing record 477 | chokurdakh\n",
      "processing record 478 | teahupoo\n",
      "processing record 479 | adrar\n",
      "processing record 480 | beringovskiy\n",
      "processing record 481 | naze\n",
      "processing record 482 | celendin\n",
      "processing record 483 | pokhara\n",
      "processing record 484 | salinas\n",
      "processing record 485 | nacala\n",
      "processing record 486 | schongau\n",
      "processing record 487 | lesnyye polyany\n",
      "processing record 488 | bone\n",
      "city not found, skipping to next!\n",
      "city not found, skipping to next!\n",
      "processing record 489 | aykhal\n",
      "processing record 490 | mbanza-ngungu\n",
      "processing record 491 | kharp\n",
      "processing record 492 | slave lake\n",
      "processing record 493 | paamiut\n",
      "processing record 494 | jaguaquara\n",
      "processing record 495 | sampit\n",
      "processing record 496 | fukue\n",
      "processing record 497 | houma\n",
      "processing record 498 | asau\n",
      "processing record 499 | amapa\n",
      "processing record 500 | mareeba\n",
      "processing record 501 | mugur-aksy\n",
      "processing record 502 | shakiso\n",
      "processing record 503 | jhang\n",
      "processing record 504 | hazorasp\n",
      "processing record 505 | bilibino\n",
      "city not found, skipping to next!\n",
      "processing record 506 | chumikan\n",
      "processing record 507 | isugod\n",
      "processing record 508 | eirunepe\n",
      "processing record 509 | bad ischl\n",
      "city not found, skipping to next!\n",
      "processing record 510 | toppenish\n",
      "city not found, skipping to next!\n",
      "processing record 511 | formosa do rio preto\n",
      "processing record 512 | kirovskiy\n",
      "city not found, skipping to next!\n",
      "processing record 513 | shuyskoye\n",
      "processing record 514 | coquimbo\n",
      "processing record 515 | mayor pablo lagerenza\n",
      "processing record 516 | majene\n",
      "processing record 517 | abalak\n",
      "processing record 518 | klasterec nad ohri\n",
      "processing record 519 | harper\n",
      "city not found, skipping to next!\n",
      "processing record 520 | nemuro\n",
      "processing record 521 | capim grosso\n",
      "processing record 522 | port macquarie\n",
      "processing record 523 | peace river\n",
      "processing record 524 | horve\n",
      "processing record 525 | yeppoon\n",
      "processing record 526 | kahului\n",
      "processing record 527 | chancay\n",
      "processing record 528 | praia\n",
      "processing record 529 | carutapera\n",
      "processing record 530 | kahama\n",
      "city not found, skipping to next!\n",
      "processing record 531 | bichura\n",
      "processing record 532 | bayan\n",
      "processing record 533 | selcuk\n",
      "city not found, skipping to next!\n",
      "processing record 534 | ghanzi\n",
      "processing record 535 | madinat sittah uktubar\n",
      "processing record 536 | careiro da varzea\n",
      "city not found, skipping to next!\n"
     ]
    }
   ],
   "source": [
    "city = []\n",
    "lat = []\n",
    "lng = []\n",
    "max_temp = []\n",
    "humidity = []\n",
    "cloudiness = []\n",
    "wind_speed = []\n",
    "country = []\n",
    "date = []\n",
    "\n",
    "records = 1\n",
    "\n",
    "print('Beginning Data Retrieval')\n",
    "print('------------------------------')\n",
    "\n",
    "for citi in cities:\n",
    "    url = f\"http://api.openweathermap.org/data/2.5/weather?q={citi}&appid={weather_api_key}\"\n",
    "    response = requests.get(url).json()\n",
    "    time.sleep(1.1)\n",
    "\n",
    "    try:\n",
    "        city.append(response['name'])\n",
    "        lat.append(response['coord']['lat'])\n",
    "        lng.append(response['coord']['lon'])\n",
    "        max_temp.append(response['main']['temp_max'])\n",
    "        humidity.append(response['main']['humidity'])\n",
    "        cloudiness.append(response['clouds']['all'])\n",
    "        wind_speed.append(response['wind']['speed'])\n",
    "        country.append(response['sys']['country'])\n",
    "        date.append(response['dt'])\n",
    "        print(f\"processing record {records} | {citi}\")\n",
    "        records += 1\n",
    "    except KeyError:\n",
    "        print('city not found, skipping to next!')"
   ]
  },
  {
   "cell_type": "code",
   "execution_count": null,
   "metadata": {},
   "outputs": [],
   "source": []
  },
  {
   "cell_type": "markdown",
   "metadata": {},
   "source": [
    "### Convert Raw Data to DataFrame\n",
    "* Export the city data into a .csv.\n",
    "* Display the DataFrame"
   ]
  },
  {
   "cell_type": "code",
   "execution_count": 33,
   "metadata": {},
   "outputs": [],
   "source": [
    "# Create the DataFrame\n",
    "\n",
    "weather_dict = {\"City\": city,\n",
    "                \"Lat\": lat,\n",
    "                \"Lng\": lng,\n",
    "                \"Max Temp (K)\": max_temp,\n",
    "                \"Humidity\": humidity,\n",
    "                \"Cloudiness\": cloudiness,\n",
    "                \"Country\": country,\n",
    "                \"Wind Speed\": wind_speed,\n",
    "                \"Date\": date}"
   ]
  },
  {
   "cell_type": "code",
   "execution_count": 34,
   "metadata": {},
   "outputs": [
    {
     "data": {
      "text/html": [
       "<div>\n",
       "<style scoped>\n",
       "    .dataframe tbody tr th:only-of-type {\n",
       "        vertical-align: middle;\n",
       "    }\n",
       "\n",
       "    .dataframe tbody tr th {\n",
       "        vertical-align: top;\n",
       "    }\n",
       "\n",
       "    .dataframe thead th {\n",
       "        text-align: right;\n",
       "    }\n",
       "</style>\n",
       "<table border=\"1\" class=\"dataframe\">\n",
       "  <thead>\n",
       "    <tr style=\"text-align: right;\">\n",
       "      <th></th>\n",
       "      <th>City</th>\n",
       "      <th>Lat</th>\n",
       "      <th>Lng</th>\n",
       "      <th>Max Temp (K)</th>\n",
       "      <th>Humidity</th>\n",
       "      <th>Cloudiness</th>\n",
       "      <th>Country</th>\n",
       "      <th>Wind Speed</th>\n",
       "      <th>Date</th>\n",
       "    </tr>\n",
       "  </thead>\n",
       "  <tbody>\n",
       "    <tr>\n",
       "      <th>0</th>\n",
       "      <td>Liverpool</td>\n",
       "      <td>53.41</td>\n",
       "      <td>-2.98</td>\n",
       "      <td>274.26</td>\n",
       "      <td>85</td>\n",
       "      <td>100</td>\n",
       "      <td>GB</td>\n",
       "      <td>1.00</td>\n",
       "      <td>1609204716</td>\n",
       "    </tr>\n",
       "    <tr>\n",
       "      <th>1</th>\n",
       "      <td>Severomorsk</td>\n",
       "      <td>69.07</td>\n",
       "      <td>33.42</td>\n",
       "      <td>266.15</td>\n",
       "      <td>79</td>\n",
       "      <td>75</td>\n",
       "      <td>RU</td>\n",
       "      <td>2.00</td>\n",
       "      <td>1609204995</td>\n",
       "    </tr>\n",
       "    <tr>\n",
       "      <th>2</th>\n",
       "      <td>Narsaq</td>\n",
       "      <td>60.92</td>\n",
       "      <td>-46.05</td>\n",
       "      <td>272.15</td>\n",
       "      <td>68</td>\n",
       "      <td>29</td>\n",
       "      <td>GL</td>\n",
       "      <td>3.60</td>\n",
       "      <td>1609204997</td>\n",
       "    </tr>\n",
       "    <tr>\n",
       "      <th>3</th>\n",
       "      <td>Kumul</td>\n",
       "      <td>42.80</td>\n",
       "      <td>93.45</td>\n",
       "      <td>261.64</td>\n",
       "      <td>75</td>\n",
       "      <td>0</td>\n",
       "      <td>CN</td>\n",
       "      <td>2.29</td>\n",
       "      <td>1609204998</td>\n",
       "    </tr>\n",
       "    <tr>\n",
       "      <th>4</th>\n",
       "      <td>Butaritari</td>\n",
       "      <td>3.07</td>\n",
       "      <td>172.79</td>\n",
       "      <td>300.68</td>\n",
       "      <td>79</td>\n",
       "      <td>100</td>\n",
       "      <td>KI</td>\n",
       "      <td>9.07</td>\n",
       "      <td>1609205000</td>\n",
       "    </tr>\n",
       "  </tbody>\n",
       "</table>\n",
       "</div>"
      ],
      "text/plain": [
       "          City    Lat     Lng  Max Temp (K)  Humidity  Cloudiness Country  \\\n",
       "0    Liverpool  53.41   -2.98        274.26        85         100      GB   \n",
       "1  Severomorsk  69.07   33.42        266.15        79          75      RU   \n",
       "2       Narsaq  60.92  -46.05        272.15        68          29      GL   \n",
       "3        Kumul  42.80   93.45        261.64        75           0      CN   \n",
       "4   Butaritari   3.07  172.79        300.68        79         100      KI   \n",
       "\n",
       "   Wind Speed        Date  \n",
       "0        1.00  1609204716  \n",
       "1        2.00  1609204995  \n",
       "2        3.60  1609204997  \n",
       "3        2.29  1609204998  \n",
       "4        9.07  1609205000  "
      ]
     },
     "execution_count": 34,
     "metadata": {},
     "output_type": "execute_result"
    }
   ],
   "source": [
    "#Export to a .csv\n",
    "\n",
    "weather_data_df = pd.DataFrame(weather_dict)\n",
    "\n",
    "weather_data_df.head()"
   ]
  },
  {
   "cell_type": "code",
   "execution_count": 35,
   "metadata": {},
   "outputs": [],
   "source": [
    "weather_data_df.to_csv(\"../output_data/WeatherDataCities.csv\", index=False, header=True)"
   ]
  },
  {
   "cell_type": "markdown",
   "metadata": {},
   "source": [
    "## Inspect the data and remove the cities where the humidity > 100%.\n",
    "----\n",
    "Skip this step if there are no cities that have humidity > 100%. "
   ]
  },
  {
   "cell_type": "code",
   "execution_count": 36,
   "metadata": {},
   "outputs": [
    {
     "data": {
      "text/plain": [
       "0"
      ]
     },
     "execution_count": 36,
     "metadata": {},
     "output_type": "execute_result"
    }
   ],
   "source": [
    "#  Get the indices of cities that have humidity over 100%.\n",
    "hum_100 = weather_data_df.loc[weather_data_df['Humidity']>100]\n",
    "\n",
    "hum_100.shape[0]\n"
   ]
  },
  {
   "cell_type": "code",
   "execution_count": 37,
   "metadata": {},
   "outputs": [
    {
     "name": "stdout",
     "output_type": "stream",
     "text": [
      "There are 0 cities with humidity greater than 100.\n"
     ]
    }
   ],
   "source": [
    "print(f\"There are {hum_100.shape[0]} cities with humidity greater than 100.\")"
   ]
  },
  {
   "cell_type": "code",
   "execution_count": 38,
   "metadata": {},
   "outputs": [
    {
     "name": "stdout",
     "output_type": "stream",
     "text": [
      " Since we have 0 cities with humidity greater than 100, there is no need to clean the DataFrame.\n"
     ]
    }
   ],
   "source": [
    "# Make a new DataFrame equal to the city data to drop all humidity outliers by index.\n",
    "# Passing \"inplace=False\" will make a copy of the city_data DataFrame, which we call \"clean_city_data\".\n",
    "print(f\" Since we have {hum_100.shape[0]} cities with humidity greater than 100, there is no need to clean the DataFrame.\")"
   ]
  },
  {
   "cell_type": "markdown",
   "metadata": {},
   "source": [
    "## Plotting the Data\n",
    "* Use proper labeling of the plots using plot titles (including date of analysis) and axes labels.\n",
    "* Save the plotted figures as .pngs."
   ]
  },
  {
   "cell_type": "markdown",
   "metadata": {},
   "source": [
    "## Latitude vs. Temperature Plot"
   ]
  },
  {
   "cell_type": "code",
   "execution_count": 39,
   "metadata": {
    "scrolled": false
   },
   "outputs": [
    {
     "data": {
      "image/png": "[encoded data removed]",
      "text/plain": [
       "<Figure size 432x288 with 1 Axes>"
      ]
     },
     "metadata": {
      "needs_background": "light"
     },
     "output_type": "display_data"
    }
   ],
   "source": [
    "# Now we can use plt.scatter to create our graphs \"Latitude Vs Temperature\"\n",
    "plt.scatter(weather_data_df[\"Lat\"],weather_data_df[\"Max Temp (K)\"],marker =\"o\")\n",
    "plt.title(\"Temperature (K) vs Latitude\")\n",
    "plt.xlabel(\"Latitude\")\n",
    "plt.ylabel(\"Max Temp (K)\")\n",
    "plt.savefig(\"../output_data/Latitude vs Temperature (K)\")\n",
    "plt.show()"
   ]
  },
  {
   "cell_type": "code",
   "execution_count": 1,
   "metadata": {},
   "outputs": [
    {
     "name": "stdout",
     "output_type": "stream",
     "text": [
      "The closer a city is to the equator (Lat=0), the warmer the city. The further away a city is from the equator, the cooler the city would be. Notice the plot is forming a curve shape.\n"
     ]
    }
   ],
   "source": [
    "print(f'The closer a city is to the equator (Lat=0), the warmer the city. The further away a city is from the equator, the cooler the city would be. Notice the plot is forming a curve shape.')"
   ]
  },
  {
   "cell_type": "markdown",
   "metadata": {},
   "source": [
    "## Latitude vs. Humidity Plot"
   ]
  },
  {
   "cell_type": "code",
   "execution_count": 19,
   "metadata": {},
   "outputs": [
    {
     "data": {
      "image/png": "[encoded data removed]",
      "text/plain": [
       "<Figure size 432x288 with 1 Axes>"
      ]
     },
     "metadata": {
      "needs_background": "light"
     },
     "output_type": "display_data"
    }
   ],
   "source": [
    "# Now we can use plt.scatter to create our graphs \"Latitude vs. Humidity \"\n",
    "plt.scatter(weather_data_df[\"Lat\"],weather_data_df[\"Humidity\"],marker =\"o\")\n",
    "plt.title(\"Latitude vs. Humidity \")\n",
    "plt.xlabel(\"Latitude\")\n",
    "plt.ylabel(\"Humidity\")\n",
    "plt.savefig(\"../output_data/Latitude vs Humidity\")\n",
    "plt.show()"
   ]
  },
  {
   "cell_type": "markdown",
   "metadata": {},
   "source": [
    "## Latitude vs. Cloudiness Plot"
   ]
  },
  {
   "cell_type": "code",
   "execution_count": 20,
   "metadata": {},
   "outputs": [
    {
     "data": {
      "image/png": "[encoded data removed]",
      "text/plain": [
       "<Figure size 432x288 with 1 Axes>"
      ]
     },
     "metadata": {
      "needs_background": "light"
     },
     "output_type": "display_data"
    }
   ],
   "source": [
    "# Now we can use plt.scatter to create our graphs \"Latitude vs. Cloudiness\"\n",
    "plt.scatter(weather_data_df[\"Lat\"],weather_data_df[\"Cloudiness\"],marker =\"o\")\n",
    "plt.title(\"Latitude vs Cloudiness\")\n",
    "plt.xlabel(\"Latitude\")\n",
    "plt.ylabel(\"Cloudiness\")\n",
    "plt.savefig(\"../output_data/Latitude vs Cloudiness\")\n",
    "plt.show()"
   ]
  },
  {
   "cell_type": "markdown",
   "metadata": {},
   "source": [
    "## Latitude vs. Wind Speed Plot"
   ]
  },
  {
   "cell_type": "code",
   "execution_count": 21,
   "metadata": {},
   "outputs": [
    {
     "data": {
      "image/png": "[encoded data removed]",
      "text/plain": [
       "<Figure size 432x288 with 1 Axes>"
      ]
     },
     "metadata": {
      "needs_background": "light"
     },
     "output_type": "display_data"
    }
   ],
   "source": [
    "# Now we can use plt.scatter to create our graphs \"Latitude Vs Temperature\"\n",
    "plt.scatter(weather_data_df[\"Lat\"],weather_data_df[\"Wind Speed\"],marker =\"o\")\n",
    "plt.title(\"Latitude vs Wind Speed\")\n",
    "plt.xlabel(\"Latitude\")\n",
    "plt.ylabel(\"Wind Speed\")\n",
    "plt.savefig(\"../output_data/Latitude vs Wind Speed\")\n",
    "plt.show()"
   ]
  },
  {
   "cell_type": "markdown",
   "metadata": {},
   "source": [
    "## Linear Regression"
   ]
  },
  {
   "cell_type": "code",
   "execution_count": 40,
   "metadata": {},
   "outputs": [],
   "source": [
    "northen_hemisphere = weather_data_df.loc[pd.to_numeric(weather_data_df['Lat']).astype(float)>0, :]\n",
    "southern_hemisphere = weather_data_df.loc[pd.to_numeric(weather_data_df['Lat']).astype(float)<0, :]\n"
   ]
  },
  {
   "cell_type": "code",
   "execution_count": 41,
   "metadata": {
    "scrolled": true
   },
   "outputs": [
    {
     "data": {
      "text/plain": [
       "359"
      ]
     },
     "execution_count": 41,
     "metadata": {},
     "output_type": "execute_result"
    }
   ],
   "source": [
    "len(northen_hemisphere)"
   ]
  },
  {
   "cell_type": "code",
   "execution_count": 42,
   "metadata": {},
   "outputs": [
    {
     "data": {
      "text/plain": [
       "177"
      ]
     },
     "execution_count": 42,
     "metadata": {},
     "output_type": "execute_result"
    }
   ],
   "source": [
    "len(southern_hemisphere)"
   ]
  },
  {
   "cell_type": "code",
   "execution_count": 43,
   "metadata": {
    "scrolled": true
   },
   "outputs": [
    {
     "data": {
      "text/plain": [
       "536"
      ]
     },
     "execution_count": 43,
     "metadata": {},
     "output_type": "execute_result"
    }
   ],
   "source": [
    "len(northen_hemisphere) + len(southern_hemisphere)"
   ]
  },
  {
   "cell_type": "code",
   "execution_count": 44,
   "metadata": {},
   "outputs": [
    {
     "data": {
      "text/html": [
       "<div>\n",
       "<style scoped>\n",
       "    .dataframe tbody tr th:only-of-type {\n",
       "        vertical-align: middle;\n",
       "    }\n",
       "\n",
       "    .dataframe tbody tr th {\n",
       "        vertical-align: top;\n",
       "    }\n",
       "\n",
       "    .dataframe thead th {\n",
       "        text-align: right;\n",
       "    }\n",
       "</style>\n",
       "<table border=\"1\" class=\"dataframe\">\n",
       "  <thead>\n",
       "    <tr style=\"text-align: right;\">\n",
       "      <th></th>\n",
       "      <th>City</th>\n",
       "      <th>Lat</th>\n",
       "      <th>Lng</th>\n",
       "      <th>Max Temp (K)</th>\n",
       "      <th>Humidity</th>\n",
       "      <th>Cloudiness</th>\n",
       "      <th>Country</th>\n",
       "      <th>Wind Speed</th>\n",
       "      <th>Date</th>\n",
       "    </tr>\n",
       "  </thead>\n",
       "  <tbody>\n",
       "    <tr>\n",
       "      <th>0</th>\n",
       "      <td>Liverpool</td>\n",
       "      <td>53.41</td>\n",
       "      <td>-2.98</td>\n",
       "      <td>274.26</td>\n",
       "      <td>85</td>\n",
       "      <td>100</td>\n",
       "      <td>GB</td>\n",
       "      <td>1.00</td>\n",
       "      <td>1609204716</td>\n",
       "    </tr>\n",
       "    <tr>\n",
       "      <th>1</th>\n",
       "      <td>Severomorsk</td>\n",
       "      <td>69.07</td>\n",
       "      <td>33.42</td>\n",
       "      <td>266.15</td>\n",
       "      <td>79</td>\n",
       "      <td>75</td>\n",
       "      <td>RU</td>\n",
       "      <td>2.00</td>\n",
       "      <td>1609204995</td>\n",
       "    </tr>\n",
       "    <tr>\n",
       "      <th>2</th>\n",
       "      <td>Narsaq</td>\n",
       "      <td>60.92</td>\n",
       "      <td>-46.05</td>\n",
       "      <td>272.15</td>\n",
       "      <td>68</td>\n",
       "      <td>29</td>\n",
       "      <td>GL</td>\n",
       "      <td>3.60</td>\n",
       "      <td>1609204997</td>\n",
       "    </tr>\n",
       "    <tr>\n",
       "      <th>3</th>\n",
       "      <td>Kumul</td>\n",
       "      <td>42.80</td>\n",
       "      <td>93.45</td>\n",
       "      <td>261.64</td>\n",
       "      <td>75</td>\n",
       "      <td>0</td>\n",
       "      <td>CN</td>\n",
       "      <td>2.29</td>\n",
       "      <td>1609204998</td>\n",
       "    </tr>\n",
       "    <tr>\n",
       "      <th>4</th>\n",
       "      <td>Butaritari</td>\n",
       "      <td>3.07</td>\n",
       "      <td>172.79</td>\n",
       "      <td>300.68</td>\n",
       "      <td>79</td>\n",
       "      <td>100</td>\n",
       "      <td>KI</td>\n",
       "      <td>9.07</td>\n",
       "      <td>1609205000</td>\n",
       "    </tr>\n",
       "  </tbody>\n",
       "</table>\n",
       "</div>"
      ],
      "text/plain": [
       "          City    Lat     Lng  Max Temp (K)  Humidity  Cloudiness Country  \\\n",
       "0    Liverpool  53.41   -2.98        274.26        85         100      GB   \n",
       "1  Severomorsk  69.07   33.42        266.15        79          75      RU   \n",
       "2       Narsaq  60.92  -46.05        272.15        68          29      GL   \n",
       "3        Kumul  42.80   93.45        261.64        75           0      CN   \n",
       "4   Butaritari   3.07  172.79        300.68        79         100      KI   \n",
       "\n",
       "   Wind Speed        Date  \n",
       "0        1.00  1609204716  \n",
       "1        2.00  1609204995  \n",
       "2        3.60  1609204997  \n",
       "3        2.29  1609204998  \n",
       "4        9.07  1609205000  "
      ]
     },
     "execution_count": 44,
     "metadata": {},
     "output_type": "execute_result"
    }
   ],
   "source": [
    "northen_hemisphere.head()"
   ]
  },
  {
   "cell_type": "code",
   "execution_count": 45,
   "metadata": {},
   "outputs": [
    {
     "data": {
      "text/html": [
       "<div>\n",
       "<style scoped>\n",
       "    .dataframe tbody tr th:only-of-type {\n",
       "        vertical-align: middle;\n",
       "    }\n",
       "\n",
       "    .dataframe tbody tr th {\n",
       "        vertical-align: top;\n",
       "    }\n",
       "\n",
       "    .dataframe thead th {\n",
       "        text-align: right;\n",
       "    }\n",
       "</style>\n",
       "<table border=\"1\" class=\"dataframe\">\n",
       "  <thead>\n",
       "    <tr style=\"text-align: right;\">\n",
       "      <th></th>\n",
       "      <th>City</th>\n",
       "      <th>Lat</th>\n",
       "      <th>Lng</th>\n",
       "      <th>Max Temp (K)</th>\n",
       "      <th>Humidity</th>\n",
       "      <th>Cloudiness</th>\n",
       "      <th>Country</th>\n",
       "      <th>Wind Speed</th>\n",
       "      <th>Date</th>\n",
       "    </tr>\n",
       "  </thead>\n",
       "  <tbody>\n",
       "    <tr>\n",
       "      <th>6</th>\n",
       "      <td>Oranjemund</td>\n",
       "      <td>-28.55</td>\n",
       "      <td>16.43</td>\n",
       "      <td>289.15</td>\n",
       "      <td>90</td>\n",
       "      <td>5</td>\n",
       "      <td>NA</td>\n",
       "      <td>3.40</td>\n",
       "      <td>1609205002</td>\n",
       "    </tr>\n",
       "    <tr>\n",
       "      <th>8</th>\n",
       "      <td>Puerto Ayora</td>\n",
       "      <td>-0.74</td>\n",
       "      <td>-90.35</td>\n",
       "      <td>296.48</td>\n",
       "      <td>92</td>\n",
       "      <td>87</td>\n",
       "      <td>EC</td>\n",
       "      <td>2.68</td>\n",
       "      <td>1609205004</td>\n",
       "    </tr>\n",
       "    <tr>\n",
       "      <th>9</th>\n",
       "      <td>Huarmey</td>\n",
       "      <td>-10.07</td>\n",
       "      <td>-78.15</td>\n",
       "      <td>294.54</td>\n",
       "      <td>81</td>\n",
       "      <td>98</td>\n",
       "      <td>PE</td>\n",
       "      <td>3.68</td>\n",
       "      <td>1609205005</td>\n",
       "    </tr>\n",
       "    <tr>\n",
       "      <th>10</th>\n",
       "      <td>Coroico</td>\n",
       "      <td>-16.19</td>\n",
       "      <td>-67.73</td>\n",
       "      <td>280.15</td>\n",
       "      <td>87</td>\n",
       "      <td>75</td>\n",
       "      <td>BO</td>\n",
       "      <td>4.10</td>\n",
       "      <td>1609205007</td>\n",
       "    </tr>\n",
       "    <tr>\n",
       "      <th>11</th>\n",
       "      <td>Ushuaia</td>\n",
       "      <td>-54.80</td>\n",
       "      <td>-68.30</td>\n",
       "      <td>281.15</td>\n",
       "      <td>93</td>\n",
       "      <td>75</td>\n",
       "      <td>AR</td>\n",
       "      <td>2.60</td>\n",
       "      <td>1609204854</td>\n",
       "    </tr>\n",
       "  </tbody>\n",
       "</table>\n",
       "</div>"
      ],
      "text/plain": [
       "            City    Lat    Lng  Max Temp (K)  Humidity  Cloudiness Country  \\\n",
       "6     Oranjemund -28.55  16.43        289.15        90           5      NA   \n",
       "8   Puerto Ayora  -0.74 -90.35        296.48        92          87      EC   \n",
       "9        Huarmey -10.07 -78.15        294.54        81          98      PE   \n",
       "10       Coroico -16.19 -67.73        280.15        87          75      BO   \n",
       "11       Ushuaia -54.80 -68.30        281.15        93          75      AR   \n",
       "\n",
       "    Wind Speed        Date  \n",
       "6         3.40  1609205002  \n",
       "8         2.68  1609205004  \n",
       "9         3.68  1609205005  \n",
       "10        4.10  1609205007  \n",
       "11        2.60  1609204854  "
      ]
     },
     "execution_count": 45,
     "metadata": {},
     "output_type": "execute_result"
    }
   ],
   "source": [
    "southern_hemisphere.head()"
   ]
  },
  {
   "cell_type": "markdown",
   "metadata": {},
   "source": [
    "####  Northern Hemisphere - Max Temp vs. Latitude Linear Regression"
   ]
  },
  {
   "cell_type": "code",
   "execution_count": 61,
   "metadata": {
    "scrolled": true
   },
   "outputs": [
    {
     "name": "stdout",
     "output_type": "stream",
     "text": [
      "The correlation between Max Temp and Latitiude on the Northern Hemisphere is -0.83.\n"
     ]
    },
    {
     "data": {
      "image/png": "[encoded data removed]",
      "text/plain": [
       "<Figure size 432x288 with 1 Axes>"
      ]
     },
     "metadata": {
      "needs_background": "light"
     },
     "output_type": "display_data"
    }
   ],
   "source": [
    "# Create scatter plot and determine line of regression for Northern Hemisphere - Max Temp vs. Latitude Linear Regression¶\n",
    "plt.scatter(northen_hemisphere['Max Temp (K)'],northen_hemisphere['Lat'])\n",
    "x = northen_hemisphere['Max Temp (K)']\n",
    "y = northen_hemisphere['Lat']\n",
    "\n",
    "# Calculate the correlation coefficient between mouse weight and average tumor volume\n",
    "correlation = st.pearsonr(x,y)\n",
    "\n",
    "# Print the answer to above calculation\n",
    "print(f\"\"\"The correlation between Max Temp and Latitiude on the Northern Hemisphere is {round(correlation[0],2)}.\"\"\")\n",
    "\n",
    "# Calculate linear regression\n",
    "(slope, intercept, rvalue, pvalue, stderr) = linregress(x, y)\n",
    "regress_values = x * slope + intercept\n",
    "line_eq = \"y = \" + str(round(slope,2)) + \"x + \" + str(round(intercept,2))\n",
    "\n",
    "# Plot linear regression on top of scatter plot\n",
    "plt.scatter(x,y)\n",
    "plt.plot(x,regress_values,\"r-\")\n",
    "\n",
    "# Annotate linear regression\n",
    "plt.annotate(line_eq,(240,10),fontsize=15,color=\"blue\")\n",
    "\n",
    "# Add labels and title to plot\n",
    "plt.xlabel(\"Max Temp (K)\")\n",
    "plt.ylabel(\"Lat\")\n",
    "plt.title('Northern Hemisphere - Max Temp vs. Latitude Linear Regression')\n",
    "plt.savefig(\"../output_data/Northern_Hemisphere_Max_Temp_vs_Latitude_Linear_Regression.png\")\n",
    "plt.show()"
   ]
  },
  {
   "cell_type": "markdown",
   "metadata": {},
   "source": [
    "####  Southern Hemisphere - Max Temp vs. Latitude Linear Regression"
   ]
  },
  {
   "cell_type": "code",
   "execution_count": 60,
   "metadata": {
    "scrolled": true
   },
   "outputs": [
    {
     "name": "stdout",
     "output_type": "stream",
     "text": [
      "The correlation between Max Temp and Latitiude on the Southern Hemisphere is 0.42.\n"
     ]
    },
    {
     "data": {
      "image/png": "[encoded data removed]",
      "text/plain": [
       "<Figure size 432x288 with 1 Axes>"
      ]
     },
     "metadata": {
      "needs_background": "light"
     },
     "output_type": "display_data"
    }
   ],
   "source": [
    "# Create scatter plot and determine line of regression for Southern Hemisphere - Max Temp vs. Latitude Linear Regression¶\n",
    "plt.scatter(southern_hemisphere['Max Temp (K)'],southern_hemisphere['Lat'])\n",
    "x = southern_hemisphere['Max Temp (K)']\n",
    "y = southern_hemisphere['Lat']\n",
    "\n",
    "# Calculate the correlation coefficient between mouse weight and average tumor volume\n",
    "correlation = st.pearsonr(x,y)\n",
    "\n",
    "# Print the answer to above calculation\n",
    "print(f\"\"\"The correlation between Max Temp and Latitiude on the Southern Hemisphere is {round(correlation[0],2)}.\"\"\")\n",
    "\n",
    "# Calculate linear regression\n",
    "(slope, intercept, rvalue, pvalue, stderr) = linregress(x, y)\n",
    "regress_values = x * slope + intercept\n",
    "line_eq = \"y = \" + str(round(slope,2)) + \"x + \" + str(round(intercept,2))\n",
    "\n",
    "# Plot linear regression on top of scatter plot\n",
    "plt.scatter(x,y)\n",
    "plt.plot(x,regress_values,\"r-\")\n",
    "\n",
    "# Annotate linear regression\n",
    "plt.annotate(line_eq,(295,-50),fontsize=15,color=\"blue\")\n",
    "\n",
    "# Add labels and title to plot\n",
    "plt.xlabel(\"Max Temp (K)\")\n",
    "plt.ylabel(\"Lat\")\n",
    "plt.title('Southern Hemisphere - Max Temp vs. Latitude Linear Regression')\n",
    "plt.savefig(\"../output_data/Southern_Hemisphere_Max_Temp_vs_Latitude_Linear_Regression.png\")\n",
    "plt.show()"
   ]
  },
  {
   "cell_type": "markdown",
   "metadata": {},
   "source": [
    "####  Northern Hemisphere - Humidity (%) vs. Latitude Linear Regression"
   ]
  },
  {
   "cell_type": "code",
   "execution_count": 58,
   "metadata": {
    "scrolled": true
   },
   "outputs": [
    {
     "name": "stdout",
     "output_type": "stream",
     "text": [
      "The correlation between Humidity and Latitiude on the Northern Hemisphere is 0.27.\n"
     ]
    },
    {
     "data": {
      "image/png": "[encoded data removed]",
      "text/plain": [
       "<Figure size 432x288 with 1 Axes>"
      ]
     },
     "metadata": {
      "needs_background": "light"
     },
     "output_type": "display_data"
    }
   ],
   "source": [
    "# Create scatter plot and determine line of regression for Northern Hemisphere - Humidity (%) vs. Latitude Linear Regression¶\n",
    "plt.scatter(northen_hemisphere['Humidity'],northen_hemisphere['Lat'])\n",
    "x = northen_hemisphere['Humidity']\n",
    "y = northen_hemisphere['Lat']\n",
    "\n",
    "# Calculate the correlation coefficient between mouse weight and average tumor volume\n",
    "correlation = st.pearsonr(x,y)\n",
    "\n",
    "# Print the answer to above calculation\n",
    "print(f\"\"\"The correlation between Humidity and Latitiude on the Northern Hemisphere is {round(correlation[0],2)}.\"\"\")\n",
    "\n",
    "# Calculate linear regression\n",
    "(slope, intercept, rvalue, pvalue, stderr) = linregress(x, y)\n",
    "regress_values = x * slope + intercept\n",
    "line_eq = \"y = \" + str(round(slope,2)) + \"x + \" + str(round(intercept,2))\n",
    "\n",
    "# Plot linear regression on top of scatter plot\n",
    "plt.scatter(x,y)\n",
    "plt.plot(x,regress_values,\"r-\")\n",
    "\n",
    "# Annotate linear regression\n",
    "plt.annotate(line_eq,(10,70),fontsize=15,color=\"blue\")\n",
    "\n",
    "# Add labels and title to plot\n",
    "plt.xlabel(\"Humidity\")\n",
    "plt.ylabel(\"Lat\")\n",
    "plt.title('Northern Hemisphere - Humidity vs. Latitude Linear Regression')\n",
    "plt.savefig(\"../output_data/Northern_Hemisphere_Humidity_vs_Latitude_Linear_Regression.png\")\n",
    "plt.show()"
   ]
  },
  {
   "cell_type": "markdown",
   "metadata": {},
   "source": [
    "####  Southern Hemisphere - Humidity (%) vs. Latitude Linear Regression"
   ]
  },
  {
   "cell_type": "code",
   "execution_count": 56,
   "metadata": {
    "scrolled": true
   },
   "outputs": [
    {
     "name": "stdout",
     "output_type": "stream",
     "text": [
      "The correlation between Humidity and Latitiude on the Southern Hemisphere is 0.32.\n"
     ]
    },
    {
     "data": {
      "image/png": "[encoded data removed]",
      "text/plain": [
       "<Figure size 432x288 with 1 Axes>"
      ]
     },
     "metadata": {
      "needs_background": "light"
     },
     "output_type": "display_data"
    }
   ],
   "source": [
    "# Create scatter plot and determine line of regression for southern_hemisphere - Humidity vs. Latitude Linear Regression¶\n",
    "plt.scatter(southern_hemisphere['Humidity'],southern_hemisphere['Lat'])\n",
    "x = southern_hemisphere['Humidity']\n",
    "y = southern_hemisphere['Lat']\n",
    "\n",
    "# Calculate the correlation coefficient between mouse weight and average tumor volume\n",
    "correlation = st.pearsonr(x,y)\n",
    "\n",
    "# Print the answer to above calculation\n",
    "print(f\"\"\"The correlation between Humidity and Latitiude on the Southern Hemisphere is {round(correlation[0],2)}.\"\"\")\n",
    "\n",
    "# Calculate linear regression\n",
    "(slope, intercept, rvalue, pvalue, stderr) = linregress(x, y)\n",
    "regress_values = x * slope + intercept\n",
    "line_eq = \"y = \" + str(round(slope,2)) + \"x + \" + str(round(intercept,2))\n",
    "\n",
    "# Plot linear regression on top of scatter plot\n",
    "plt.scatter(x,y)\n",
    "plt.plot(x,regress_values,\"r-\")\n",
    "\n",
    "# Annotate linear regression\n",
    "plt.annotate(line_eq,(10,-10),fontsize=15,color=\"blue\")\n",
    "\n",
    "# Add labels and title to plot\n",
    "plt.xlabel(\"Humidity\")\n",
    "plt.ylabel(\"Lat\")\n",
    "plt.title('Southern Hemisphere - Humidity vs. Latitude Linear Regression')\n",
    "plt.savefig(\"../output_data/Southern_Hemisphere_Humidity_vs_Latitude_Linear_Regression.png\")\n",
    "plt.show()"
   ]
  },
  {
   "cell_type": "markdown",
   "metadata": {},
   "source": [
    "####  Northern Hemisphere - Cloudiness (%) vs. Latitude Linear Regression"
   ]
  },
  {
   "cell_type": "code",
   "execution_count": 65,
   "metadata": {
    "scrolled": true
   },
   "outputs": [
    {
     "name": "stdout",
     "output_type": "stream",
     "text": [
      "The correlation between Cloudiness and Latitiude on the Northern Hemisphere is 0.32.\n"
     ]
    },
    {
     "data": {
      "image/png": "[encoded data removed]",
      "text/plain": [
       "<Figure size 432x288 with 1 Axes>"
      ]
     },
     "metadata": {
      "needs_background": "light"
     },
     "output_type": "display_data"
    }
   ],
   "source": [
    "# Create scatter plot and determine line of regression for Northern Hemisphere - Cloudiness vs. Latitude Linear Regression¶\n",
    "plt.scatter(northen_hemisphere['Cloudiness'],northen_hemisphere['Lat'])\n",
    "x = northen_hemisphere['Cloudiness']\n",
    "y = northen_hemisphere['Lat']\n",
    "\n",
    "# Calculate the correlation coefficient between mouse weight and average tumor volume\n",
    "correlation = st.pearsonr(x,y)\n",
    "\n",
    "# Print the answer to above calculation\n",
    "print(f\"\"\"The correlation between Cloudiness and Latitiude on the Northern Hemisphere is {round(correlation[0],2)}.\"\"\")\n",
    "\n",
    "# Calculate linear regression\n",
    "(slope, intercept, rvalue, pvalue, stderr) = linregress(x, y)\n",
    "regress_values = x * slope + intercept\n",
    "line_eq = \"y = \" + str(round(slope,2)) + \"x + \" + str(round(intercept,2))\n",
    "\n",
    "# Plot linear regression on top of scatter plot\n",
    "plt.scatter(x,y)\n",
    "plt.plot(x,regress_values,\"r-\")\n",
    "\n",
    "# Annotate linear regression\n",
    "plt.annotate(line_eq,(45,5),fontsize=15,color=\"blue\")\n",
    "\n",
    "# Add labels and title to plot\n",
    "plt.xlabel(\"Cloudiness\")\n",
    "plt.ylabel(\"Lat\")\n",
    "plt.title('Northern Hemisphere - Cloudiness vs. Latitude Linear Regression')\n",
    "plt.savefig(\"../output_data/Northern_Hemisphere_Cloudiness_vs_Latitude_Linear_Regression.png\")\n",
    "plt.show()"
   ]
  },
  {
   "cell_type": "markdown",
   "metadata": {},
   "source": [
    "####  Southern Hemisphere - Cloudiness (%) vs. Latitude Linear Regression"
   ]
  },
  {
   "cell_type": "code",
   "execution_count": 67,
   "metadata": {
    "scrolled": true
   },
   "outputs": [
    {
     "name": "stdout",
     "output_type": "stream",
     "text": [
      "The correlation between Cloudiness Latitiude on the Northern Hemisphere is 0.27.\n"
     ]
    },
    {
     "data": {
      "image/png": "[encoded data removed]",
      "text/plain": [
       "<Figure size 432x288 with 1 Axes>"
      ]
     },
     "metadata": {
      "needs_background": "light"
     },
     "output_type": "display_data"
    }
   ],
   "source": [
    "# Create scatter plot and determine line of regression for Southern Hemisphere - Cloudiness vs. Latitude Linear Regression¶\n",
    "plt.scatter(southern_hemisphere['Cloudiness'],southern_hemisphere['Lat'])\n",
    "x = southern_hemisphere['Cloudiness']\n",
    "y = southern_hemisphere['Lat']\n",
    "\n",
    "# Calculate the correlation coefficient between mouse weight and average tumor volume\n",
    "correlation = st.pearsonr(x,y)\n",
    "\n",
    "# Print the answer to above calculation\n",
    "print(f\"\"\"The correlation between Cloudiness Latitiude on the Northern Hemisphere is {round(correlation[0],2)}.\"\"\")\n",
    "\n",
    "# Calculate linear regression\n",
    "(slope, intercept, rvalue, pvalue, stderr) = linregress(x, y)\n",
    "regress_values = x * slope + intercept\n",
    "line_eq = \"y = \" + str(round(slope,2)) + \"x + \" + str(round(intercept,2))\n",
    "\n",
    "# Plot linear regression on top of scatter plot\n",
    "plt.scatter(x,y)\n",
    "plt.plot(x,regress_values,\"r-\")\n",
    "\n",
    "# Annotate linear regression\n",
    "plt.annotate(line_eq,(20,-55),fontsize=15,color=\"blue\")\n",
    "\n",
    "# Add labels and title to plot\n",
    "plt.xlabel(\"Cloudiness\")\n",
    "plt.ylabel(\"Lat\")\n",
    "plt.title('Southern Hemisphere - Cloudiness vs. Latitude Linear Regression')\n",
    "plt.savefig(\"../output_data/Southern_Hemisphere_Cloudiness_vs_Latitude_Linear_Regression.png\")\n",
    "plt.show()"
   ]
  },
  {
   "cell_type": "markdown",
   "metadata": {},
   "source": [
    "####  Northern Hemisphere - Wind Speed (mph) vs. Latitude Linear Regression"
   ]
  },
  {
   "cell_type": "code",
   "execution_count": 69,
   "metadata": {
    "scrolled": true
   },
   "outputs": [
    {
     "name": "stdout",
     "output_type": "stream",
     "text": [
      "The correlation between Wind Speed and Latitiude on the Northern Hemisphere is 0.26.\n"
     ]
    },
    {
     "data": {
      "image/png": "[encoded data removed]",
      "text/plain": [
       "<Figure size 432x288 with 1 Axes>"
      ]
     },
     "metadata": {
      "needs_background": "light"
     },
     "output_type": "display_data"
    }
   ],
   "source": [
    "# Create scatter plot and determine line of regression for Northern Hemisphere - Wind Speed (mph) vs. Latitude Linear Regression¶\n",
    "plt.scatter(northen_hemisphere['Wind Speed'],northen_hemisphere['Lat'])\n",
    "x = northen_hemisphere['Wind Speed']\n",
    "y = northen_hemisphere['Lat']\n",
    "\n",
    "# Calculate the correlation coefficient between mouse weight and average tumor volume\n",
    "correlation = st.pearsonr(x,y)\n",
    "\n",
    "# Print the answer to above calculation\n",
    "print(f\"\"\"The correlation between Wind Speed (mph) and Latitiude on the Northern Hemisphere is {round(correlation[0],2)}.\"\"\")\n",
    "\n",
    "# Calculate linear regression\n",
    "(slope, intercept, rvalue, pvalue, stderr) = linregress(x, y)\n",
    "regress_values = x * slope + intercept\n",
    "line_eq = \"y = \" + str(round(slope,2)) + \"x + \" + str(round(intercept,2))\n",
    "\n",
    "# Plot linear regression on top of scatter plot\n",
    "plt.scatter(x,y)\n",
    "plt.plot(x,regress_values,\"r-\")\n",
    "\n",
    "# Annotate linear regression\n",
    "plt.annotate(line_eq,(10,5),fontsize=15,color=\"blue\")\n",
    "\n",
    "# Add labels and title to plot\n",
    "plt.xlabel(\"Wind Speed(mph)\")\n",
    "plt.ylabel(\"Lat\")\n",
    "plt.title('Northern Hemisphere - Wind Speed (mph) vs. Latitude Linear Regression')\n",
    "plt.savefig(\"../output_data/Northern_Hemisphere_Wind_Speed_vs_Latitude_Linear_Regression.png\")\n",
    "plt.show()"
   ]
  },
  {
   "cell_type": "markdown",
   "metadata": {},
   "source": [
    "####  Southern Hemisphere - Wind Speed (mph) vs. Latitude Linear Regression"
   ]
  },
  {
   "cell_type": "code",
   "execution_count": 71,
   "metadata": {
    "scrolled": true
   },
   "outputs": [
    {
     "name": "stdout",
     "output_type": "stream",
     "text": [
      "The correlation between Wind Speed (mph) and Latitiude on the Northern Hemisphere is -0.22.\n"
     ]
    },
    {
     "data": {
      "image/png": "[encoded data removed]",
      "text/plain": [
       "<Figure size 432x288 with 1 Axes>"
      ]
     },
     "metadata": {
      "needs_background": "light"
     },
     "output_type": "display_data"
    }
   ],
   "source": [
    "# Create scatter plot and determine line of regression for Southern Hemisphere - Wind Speed (mph) vs. Latitude Linear Regression¶\n",
    "plt.scatter(southern_hemisphere['Wind Speed'],southern_hemisphere['Lat'])\n",
    "x = southern_hemisphere['Wind Speed']\n",
    "y = southern_hemisphere['Lat']\n",
    "\n",
    "# Calculate the correlation coefficient between mouse weight and average tumor volume\n",
    "correlation = st.pearsonr(x,y)\n",
    "\n",
    "# Print the answer to above calculation\n",
    "print(f\"\"\"The correlation between Wind Speed (mph) and Latitiude on the Northern Hemisphere is {round(correlation[0],2)}.\"\"\")\n",
    "\n",
    "# Calculate linear regression\n",
    "(slope, intercept, rvalue, pvalue, stderr) = linregress(x, y)\n",
    "regress_values = x * slope + intercept\n",
    "line_eq = \"y = \" + str(round(slope,2)) + \"x + \" + str(round(intercept,2))\n",
    "\n",
    "# Plot linear regression on top of scatter plot\n",
    "plt.scatter(x,y)\n",
    "plt.plot(x,regress_values,\"r-\")\n",
    "\n",
    "# Annotate linear regression\n",
    "plt.annotate(line_eq,(6,-55),fontsize=15,color=\"blue\")\n",
    "\n",
    "# Add labels and title to plot\n",
    "plt.xlabel(\"Wind Speed (mph)\")\n",
    "plt.ylabel(\"Lat\")\n",
    "plt.title('Southern Hemisphere - Wind Speed vs. Latitude Linear Regression')\n",
    "plt.savefig(\"../output_data/Southern_Hemisphere_Wind_Speed_vs_Latitude_Linear_Regression.png\")\n",
    "plt.show()"
   ]
  }
 ],
 "metadata": {
  "anaconda-cloud": {},
  "kernel_info": {
   "name": "python3"
  },
  "kernelspec": {
   "display_name": "Python 3",
   "language": "python",
   "name": "python3"
  },
  "language_info": {
   "codemirror_mode": {
    "name": "ipython",
    "version": 3
   },
   "file_extension": ".py",
   "mimetype": "text/x-python",
   "name": "python",
   "nbconvert_exporter": "python",
   "pygments_lexer": "ipython3",
   "version": "3.8.3"
  },
  "latex_envs": {
   "LaTeX_envs_menu_present": true,
   "autoclose": false,
   "autocomplete": true,
   "bibliofile": "biblio.bib",
   "cite_by": "apalike",
   "current_citInitial": 1,
   "eqLabelWithNumbers": true,
   "eqNumInitial": 1,
   "hotkeys": {
    "equation": "Ctrl-E",
    "itemize": "Ctrl-I"
   },
   "labels_anchors": false,
   "latex_user_defs": false,
   "report_style_numbering": false,
   "user_envs_cfg": false
  },
  "nteract": {
   "version": "0.12.3"
  }
 },
 "nbformat": 4,
 "nbformat_minor": 2
}
